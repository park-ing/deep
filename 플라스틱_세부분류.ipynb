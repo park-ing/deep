{
  "nbformat": 4,
  "nbformat_minor": 0,
  "metadata": {
    "colab": {
      "name": "플라스틱_세부분류.ipynb의 사본",
      "provenance": [],
      "collapsed_sections": [],
      "machine_shape": "hm"
    },
    "kernelspec": {
      "name": "python3",
      "display_name": "Python 3"
    },
    "accelerator": "GPU"
  },
  "cells": [
    {
      "cell_type": "code",
      "metadata": {
        "id": "WG5c8fZECyIA"
      },
      "source": [
        "import os\n",
        "from PIL import Image\n",
        "import tensorflow as tf\n",
        "import cv2 as cv\n",
        "from tensorflow import keras\n",
        "from matplotlib import image\n",
        "from matplotlib import pyplot as plt\n",
        "import torch \n",
        "import pandas as pd\n",
        "from torch.utils.data import Dataset, DataLoader\n",
        "import numpy as np\n",
        "import torchvision\n",
        "from torchvision import transforms\n",
        "from glob import glob\n",
        "import random"
      ],
      "execution_count": null,
      "outputs": []
    },
    {
      "cell_type": "code",
      "metadata": {
        "colab": {
          "base_uri": "https://localhost:8080/"
        },
        "id": "7cSW-uLZu6O_",
        "outputId": "7b3a2fff-f0f8-4e55-a932-cdebc42354c1"
      },
      "source": [
        "from google.colab import drive\n",
        "drive.mount('/content/drive')"
      ],
      "execution_count": null,
      "outputs": [
        {
          "output_type": "stream",
          "text": [
            "Drive already mounted at /content/drive; to attempt to forcibly remount, call drive.mount(\"/content/drive\", force_remount=True).\n"
          ],
          "name": "stdout"
        }
      ]
    },
    {
      "cell_type": "code",
      "metadata": {
        "id": "di55ZQwgu5dg"
      },
      "source": [
        "type0_list = glob('/content/drive/My Drive/type_2021/PP/*.jpg')\n",
        "type1_list = glob('/content/drive/My Drive/type_2021/PET/*.jpg')\n",
        "type2_list = glob('/content/drive/My Drive/type_2021/PS/*.jpg')\n",
        "type3_list = glob('/content/drive/My Drive/type_2021/HDPE/*.jpg')\n",
        "type4_list = glob('/content/drive/My Drive/type_2021/LDPE/*.jpg')"
      ],
      "execution_count": null,
      "outputs": []
    },
    {
      "cell_type": "code",
      "metadata": {
        "id": "Qag77Wphu77S"
      },
      "source": [
        "balance = min(len(type0_list),len(type1_list),len(type2_list),len(type3_list),len(type4_list))"
      ],
      "execution_count": null,
      "outputs": []
    },
    {
      "cell_type": "code",
      "metadata": {
        "id": "a17OcF-ou-UR"
      },
      "source": [
        "index_0 = []\n",
        "index_1 = []\n",
        "index_2 = []\n",
        "index_3 = []\n",
        "index_4 = []\n",
        "# index_5 = []\n",
        "for i in range((balance)):\n",
        "  # if i not in index_0\n",
        "  index_0.append(type0_list[random.randint(0,len(type0_list)-1)])\n",
        "  index_1.append(type1_list[random.randint(0,len(type1_list)-1)])\n",
        "  index_2.append(type2_list[random.randint(0,len(type2_list)-1)])\n",
        "  index_3.append(type3_list[random.randint(0,len(type3_list)-1)])\n",
        "  index_4.append(type4_list[random.randint(0,len(type4_list)-1)])\n",
        "  # index_5.append(type5_list[random.randint(0,len(type5_list)-1)])"
      ],
      "execution_count": null,
      "outputs": []
    },
    {
      "cell_type": "code",
      "metadata": {
        "id": "oCzcDeAGvAyT"
      },
      "source": [
        "def img_to_np(fpaths,label,m,n,resize=True):  \n",
        "    img_array = []\n",
        "    lab_array = []\n",
        "    for fname in fpaths:\n",
        "      try:\n",
        "        # print(fname)\n",
        "        img = Image.open(fname).convert('RGB')\n",
        "        if(resize): img = img.resize((m, n))\n",
        "        img_array.append(np.asarray(img))\n",
        "        lab_array.append(label)\n",
        "      except:\n",
        "        continue\n",
        "    images = np.array(img_array)\n",
        "    labels = np.array(lab_array)\n",
        "    return images, labels"
      ],
      "execution_count": null,
      "outputs": []
    },
    {
      "cell_type": "code",
      "metadata": {
        "id": "v13rc3MSvCan"
      },
      "source": [
        "img_type0,lab_type0 = img_to_np(index_0,0,224,224)\n",
        "img_type0 = img_type0.astype(np.float32)/ 255.\n",
        "\n",
        "img_type1,lab_type1 = img_to_np(index_1,1,224,224)\n",
        "img_type1 = img_type1.astype(np.float32)/ 255.\n",
        "\n",
        "img_type2,lab_type2 = img_to_np(index_2,2,224,224)\n",
        "img_type2 = img_type2.astype(np.float32)/ 255.\n",
        "\n",
        "img_type3,lab_type3 = img_to_np(index_3,3,224,224)\n",
        "img_type3 = img_type3.astype(np.float32)/ 255.\n",
        "\n",
        "img_type4,lab_type4 = img_to_np(index_4,4,224,224)\n",
        "img_type4 = img_type4.astype(np.float32)/ 255.\n"
      ],
      "execution_count": null,
      "outputs": []
    },
    {
      "cell_type": "code",
      "metadata": {
        "id": "P7IJOImawDul"
      },
      "source": [
        "class_names=['PP','PET','PS','HDPE','LDPE']\n",
        "# class_names=['bottle','can','plastic','trasnparanet plastic','vinyl','steel']\n",
        "num_class = len(class_names)"
      ],
      "execution_count": null,
      "outputs": []
    },
    {
      "cell_type": "code",
      "metadata": {
        "id": "L6NTflMwDOmL",
        "colab": {
          "base_uri": "https://localhost:8080/",
          "height": 35
        },
        "outputId": "ac184c14-0b24-4b74-9d4c-f39f7fae42b4"
      },
      "source": [
        "'''\n",
        "m=224\n",
        "n=224\n",
        "trans = transforms.Compose([transforms.Resize((m,n)),transforms.ToTensor()])\n",
        "trainset = torchvision.datasets.ImageFolder(root=\"/content/drive/My Drive/Plastic IMAGE\",transform=trans)\n",
        "'''"
      ],
      "execution_count": null,
      "outputs": [
        {
          "output_type": "execute_result",
          "data": {
            "application/vnd.google.colaboratory.intrinsic+json": {
              "type": "string"
            },
            "text/plain": [
              "'\\nm=224\\nn=224\\ntrans = transforms.Compose([transforms.Resize((m,n)),transforms.ToTensor()])\\ntrainset = torchvision.datasets.ImageFolder(root=\"/content/drive/My Drive/Plastic IMAGE\",transform=trans)\\n'"
            ]
          },
          "metadata": {},
          "execution_count": 46
        }
      ]
    },
    {
      "cell_type": "code",
      "metadata": {
        "id": "ScCcPlGNDyor",
        "colab": {
          "base_uri": "https://localhost:8080/",
          "height": 35
        },
        "outputId": "57d295dc-8c22-4f90-eaf6-cbc31aa0d3ab"
      },
      "source": [
        "'''\n",
        "trainloader = DataLoader(trainset,batch_size=len(trainset))\n",
        "# trainloader = DataLoader(trainset,batch_size=5)\n",
        "'''"
      ],
      "execution_count": null,
      "outputs": [
        {
          "output_type": "execute_result",
          "data": {
            "application/vnd.google.colaboratory.intrinsic+json": {
              "type": "string"
            },
            "text/plain": [
              "'\\ntrainloader = DataLoader(trainset,batch_size=len(trainset))\\n# trainloader = DataLoader(trainset,batch_size=5)\\n'"
            ]
          },
          "metadata": {},
          "execution_count": 47
        }
      ]
    },
    {
      "cell_type": "code",
      "metadata": {
        "id": "XevlInIHFMSd",
        "colab": {
          "base_uri": "https://localhost:8080/",
          "height": 35
        },
        "outputId": "c1968b4a-2e11-4772-e869-c6e8dcf8328a"
      },
      "source": [
        "'''\n",
        "dataiter= iter(trainloader)\n",
        "images,labels = dataiter.next()\n",
        "'''"
      ],
      "execution_count": null,
      "outputs": [
        {
          "output_type": "execute_result",
          "data": {
            "application/vnd.google.colaboratory.intrinsic+json": {
              "type": "string"
            },
            "text/plain": [
              "'\\ndataiter= iter(trainloader)\\nimages,labels = dataiter.next()\\n'"
            ]
          },
          "metadata": {},
          "execution_count": 48
        }
      ]
    },
    {
      "cell_type": "code",
      "metadata": {
        "id": "tsNPEXVm4eMe",
        "colab": {
          "base_uri": "https://localhost:8080/",
          "height": 35
        },
        "outputId": "169c237c-8281-41d3-c093-3f91a0bebc6b"
      },
      "source": [
        "'''\n",
        "IMG=images\n",
        "img= np.zeros((len(IMG),m,n,3))\n",
        "for i in range(len(IMG)):\n",
        "  img[i]=np.asarray(IMG[i].T)\n",
        "'''"
      ],
      "execution_count": null,
      "outputs": [
        {
          "output_type": "execute_result",
          "data": {
            "application/vnd.google.colaboratory.intrinsic+json": {
              "type": "string"
            },
            "text/plain": [
              "'\\nIMG=images\\nimg= np.zeros((len(IMG),m,n,3))\\nfor i in range(len(IMG)):\\n  img[i]=np.asarray(IMG[i].T)\\n'"
            ]
          },
          "metadata": {},
          "execution_count": 49
        }
      ]
    },
    {
      "cell_type": "code",
      "metadata": {
        "id": "bXHSvy8Ae7kJ"
      },
      "source": [
        "def noisy(noise_typ,image):\n",
        "   if noise_typ == \"gauss\":\n",
        "      row,col,ch= image.shape\n",
        "      mean = 0\n",
        "      var = 0.1\n",
        "      sigma = var**0.5\n",
        "      gauss = np.random.normal(mean,sigma,(row,col,ch))\n",
        "      gauss = gauss.reshape(row,col,ch)\n",
        "      noisy = image + gauss\n",
        "      return noisy\n",
        "      \n",
        "   elif noise_typ == \"s\":\n",
        "      row,col,ch = image.shape\n",
        "      s_vs_p = 0.5\n",
        "      amount = 0.004\n",
        "      out = np.copy(image)\n",
        "      # Salt mode\n",
        "      num_salt = np.ceil(amount * image.size * s_vs_p)\n",
        "      coords = [np.random.randint(0, i - 1, int(num_salt)) for i in image.shape]\n",
        "      out[coords] = 1\n",
        "      return out\n",
        "\n",
        "   elif noise_typ ==\"p\":\n",
        "      row,col,ch = image.shape\n",
        "      s_vs_p = 0.5\n",
        "      amount = 0.004\n",
        "      out = np.copy(image)\n",
        "      # Pepper mode\n",
        "      num_pepper = np.ceil(amount* image.size * (1. - s_vs_p))\n",
        "      coords = [np.random.randint(0, i - 1, int(num_pepper))for i in image.shape]\n",
        "      out[coords] = 0\n",
        "      return out\n",
        "\n",
        "   elif noise_typ == \"poisson\":\n",
        "      vals = len(np.unique(image))\n",
        "      vals = 2 ** np.ceil(np.log2(vals))\n",
        "      noisy = np.random.poisson(image * vals)\n",
        "      return noisy\n",
        "\n",
        "   elif noise_typ ==\"speckle\":\n",
        "      row,col,ch = image.shape\n",
        "      gauss = np.random.randn(row,col,ch)\n",
        "      gauss = gauss.reshape(row,col,ch)        \n",
        "      noisy = image + image * gauss\n",
        "      return noisy"
      ],
      "execution_count": null,
      "outputs": []
    },
    {
      "cell_type": "code",
      "metadata": {
        "id": "9XP98UI5NoqZ"
      },
      "source": [
        "def make_image_array(IMG,label):\n",
        "  imagess=[]\n",
        "  image_label=[]\n",
        "  #IMG=np.asarray(IMG)\n",
        "  for i in range(len(IMG)):\n",
        "    img=IMG[i]\n",
        "    flipped = tf.image.flip_left_right(img)\n",
        "    rotated90 = tf.image.rot90(img)\n",
        "    rotated180 = tf.image.rot90(rotated90)\n",
        "    rotated270 = tf.image.rot90(rotated180)\n",
        "    gauss = noisy('gauss',img)\n",
        "    s = noisy('s',img)\n",
        "    p = noisy('p',img)\n",
        "    # poisson = noisy('poisson',img)\n",
        "    speckel = noisy('speckle',img)\n",
        "    cropped = tf.image.central_crop(img, central_fraction=0.85)\n",
        "    cropped1 = tf.image.central_crop(img, central_fraction=0.9)\n",
        "    cropped2 = tf.image.central_crop(img, central_fraction=0.95)\n",
        "    #grayscaled = tf.image.rgb_to_grayscale(img)\n",
        "    saturated = tf.image.adjust_saturation(img, 3)\n",
        "    saturated1 = tf.image.adjust_saturation(img, 2)\n",
        "    bright = tf.image.adjust_brightness(img, 0.4)\n",
        "    bright1 = tf.image.adjust_brightness(img, 0.6)\n",
        "    bright2 = tf.image.adjust_brightness(img, 0.8)\n",
        "    \n",
        "    # img=cv.cvtColor(img,cv.COLOR_BGR2GRAY)\n",
        "    # flipped=cv.cvtColor(np.float32(flipped),cv.COLOR_BGR2GRAY)\n",
        "    # rotated90 = cv.cvtColor(np.float32(rotated90),cv.COLOR_BGR2GRAY)\n",
        "    # rotated180 = cv.cvtColor(np.float32(rotated180),cv.COLOR_BGR2GRAY)\n",
        "    # rotated270 = cv.cvtColor(np.float32(rotated270),cv.COLOR_BGR2GRAY)\n",
        "    # cropped = cv.cvtColor(np.float32(cropped),cv.COLOR_BGR2GRAY)\n",
        "    # cropped1 = cv.cvtColor(np.float32(cropped1),cv.COLOR_BGR2GRAY)\n",
        "    # cropped2 = cv.cvtColor(np.float32(cropped2),cv.COLOR_BGR2GRAY)    \n",
        "    \n",
        "    # gauss=cv.resize(np.float32(gauss),(m,n), interpolation=cv.INTER_AREA)\n",
        "    # # sp=cv.resize(np.float32(sp),(m,n), interpolation=cv.INTER_AREA)\n",
        "    # speckel=cv.resize(np.float32(speckel),(m,n), interpolation=cv.INTER_AREA)\n",
        "    m = 224\n",
        "    n = 224\n",
        "    cropped=cv.resize(np.float32(cropped),(m,n), interpolation=cv.INTER_AREA)\n",
        "    cropped1=cv.resize(np.float32(cropped1),(m,n), interpolation=cv.INTER_AREA)\n",
        "    cropped2=cv.resize(np.float32(cropped2),(m,n), interpolation=cv.INTER_AREA)\n",
        "\n",
        "    imagess.append(np.float32(img))\n",
        "    imagess.append(np.float32(flipped))\n",
        "    imagess.append(np.float32(rotated90))\n",
        "    imagess.append(np.float32(rotated180))\n",
        "    imagess.append(np.float32(rotated270))\n",
        "    imagess.append(np.float32(gauss))\n",
        "    imagess.append(np.float32(s))\n",
        "    imagess.append(np.float32(p))\n",
        "    # imagess.append(poisson)\n",
        "    imagess.append(np.float32(speckel))\n",
        "    imagess.append(np.float32(cropped))\n",
        "    imagess.append(np.float32(cropped1))\n",
        "    imagess.append(np.float32(cropped2))\n",
        "    #images.append(grayscaled)\n",
        "    imagess.append(np.float32(saturated))\n",
        "    imagess.append(np.float32(saturated1))\n",
        "    imagess.append(np.float32(bright))\n",
        "    imagess.append(np.float32(bright1))\n",
        "    imagess.append(np.float32(bright2))\n",
        "    \n",
        "    l = label[i]\n",
        "    for j in range(17):\n",
        "      image_label.append(l)\n",
        "  return np.asarray(imagess), np.asarray(image_label)"
      ],
      "execution_count": null,
      "outputs": []
    },
    {
      "cell_type": "code",
      "metadata": {
        "id": "6e74lH-wp9pn",
        "colab": {
          "base_uri": "https://localhost:8080/",
          "height": 52
        },
        "outputId": "74d0f4b4-adb1-4777-a4f6-8a816fc25f1f"
      },
      "source": [
        "'''\n",
        "class_names=['pet','Yo','Ya','sam','cont','lead','deter']\n",
        "num_class = len(class_names)\n",
        "\n",
        "pe1=0\n",
        "pe2=0\n",
        "pe3=0\n",
        "pp1=0\n",
        "pp2=0\n",
        "#pp3=0\n",
        "ps1=0\n",
        "ps2=0\n",
        "\n",
        "for i in range(len(labels)):\n",
        "  if labels[i]==0:\n",
        "    pe1+=1\n",
        "  if labels[i]==3:\n",
        "    pe2+=1\n",
        "  if labels[i]==6:\n",
        "    pe3+=1\n",
        "  if labels[i]==1:\n",
        "    pp1+=1\n",
        "  if labels[i]==4:\n",
        "    pp2+=1\n",
        " # if labels[i]==5:\n",
        " #   pp3+=1\n",
        "  if labels[i]==2:\n",
        "    ps1+=1\n",
        "  if labels[i]==5:\n",
        "    ps2+=1\n",
        "'''"
      ],
      "execution_count": null,
      "outputs": [
        {
          "output_type": "execute_result",
          "data": {
            "application/vnd.google.colaboratory.intrinsic+json": {
              "type": "string"
            },
            "text/plain": [
              "\"\\nclass_names=['pet','Yo','Ya','sam','cont','lead','deter']\\nnum_class = len(class_names)\\n\\npe1=0\\npe2=0\\npe3=0\\npp1=0\\npp2=0\\n#pp3=0\\nps1=0\\nps2=0\\n\\nfor i in range(len(labels)):\\n  if labels[i]==0:\\n    pe1+=1\\n  if labels[i]==3:\\n    pe2+=1\\n  if labels[i]==6:\\n    pe3+=1\\n  if labels[i]==1:\\n    pp1+=1\\n  if labels[i]==4:\\n    pp2+=1\\n # if labels[i]==5:\\n #   pp3+=1\\n  if labels[i]==2:\\n    ps1+=1\\n  if labels[i]==5:\\n    ps2+=1\\n\""
            ]
          },
          "metadata": {},
          "execution_count": 52
        }
      ]
    },
    {
      "cell_type": "code",
      "metadata": {
        "id": "kktUV143jqLc"
      },
      "source": [
        "#print(pe1,pe2,pe3,pp1,pp2,ps1,ps2)"
      ],
      "execution_count": null,
      "outputs": []
    },
    {
      "cell_type": "code",
      "metadata": {
        "id": "ZG57KJ9js1J3",
        "colab": {
          "base_uri": "https://localhost:8080/",
          "height": 69
        },
        "outputId": "706a0d4a-baf3-4f60-b78a-d9cbd82a5673"
      },
      "source": [
        "'''\n",
        "ind_pe1=[]\n",
        "ind_pe2=[]\n",
        "ind_pe3=[]\n",
        "ind_pp1=[]\n",
        "ind_pp2=[]\n",
        "ind_ps1=[]\n",
        "ind_ps2=[]\n",
        "\n",
        "min1 = min(pe1,pe2,pe3,pp1,pp2,ps1,ps2)\n",
        "\n",
        "while len(ind_pe1)<min1:\n",
        "  num = random.randint(0,pe1-1)\n",
        "  ind_pe1.append(num)\n",
        "\n",
        "while len(ind_pe2)<min1:\n",
        "  num = random.randint(0,pe2-1)\n",
        "  ind_pe2.append(num)\n",
        "\n",
        "while len(ind_pe3)<min1:\n",
        "  num = random.randint(0,pe3-1)\n",
        "  ind_pe3.append(num)\n",
        "\n",
        "while len(ind_pp1)<min1:\n",
        "  num = random.randint(0,pp1-1)\n",
        "  ind_pp1.append(num)\n",
        "\n",
        "while len(ind_pp2)<min1:\n",
        "  num = random.randint(0,pp2-1)\n",
        "  ind_pp2.append(num)\n",
        "\n",
        "while len(ind_ps1)<min1:\n",
        "  num = random.randint(0,ps1-1)\n",
        "  ind_ps1.append(num)\n",
        "\n",
        "while len(ind_ps2)<min1:\n",
        "  num = random.randint(0,ps2-1)\n",
        "  ind_ps2.append(num)\n",
        "\n",
        "'''"
      ],
      "execution_count": null,
      "outputs": [
        {
          "output_type": "execute_result",
          "data": {
            "application/vnd.google.colaboratory.intrinsic+json": {
              "type": "string"
            },
            "text/plain": [
              "'\\nind_pe1=[]\\nind_pe2=[]\\nind_pe3=[]\\nind_pp1=[]\\nind_pp2=[]\\nind_ps1=[]\\nind_ps2=[]\\n\\nmin1 = min(pe1,pe2,pe3,pp1,pp2,ps1,ps2)\\n\\nwhile len(ind_pe1)<min1:\\n  num = random.randint(0,pe1-1)\\n  ind_pe1.append(num)\\n\\nwhile len(ind_pe2)<min1:\\n  num = random.randint(0,pe2-1)\\n  ind_pe2.append(num)\\n\\nwhile len(ind_pe3)<min1:\\n  num = random.randint(0,pe3-1)\\n  ind_pe3.append(num)\\n\\nwhile len(ind_pp1)<min1:\\n  num = random.randint(0,pp1-1)\\n  ind_pp1.append(num)\\n\\nwhile len(ind_pp2)<min1:\\n  num = random.randint(0,pp2-1)\\n  ind_pp2.append(num)\\n\\nwhile len(ind_ps1)<min1:\\n  num = random.randint(0,ps1-1)\\n  ind_ps1.append(num)\\n\\nwhile len(ind_ps2)<min1:\\n  num = random.randint(0,ps2-1)\\n  ind_ps2.append(num)\\n\\n'"
            ]
          },
          "metadata": {},
          "execution_count": 54
        }
      ]
    },
    {
      "cell_type": "code",
      "metadata": {
        "id": "CDZFq5kVuP8K",
        "colab": {
          "base_uri": "https://localhost:8080/",
          "height": 69
        },
        "outputId": "476e998c-9503-4139-a29d-e96f01132a48"
      },
      "source": [
        "'''\n",
        "l1=pe1\n",
        "l2=l1+pp1\n",
        "l3=l2+ps1\n",
        "\n",
        "l4=l3+pe2\n",
        "l5=l4+pp2\n",
        "l6=l5+ps2\n",
        "\n",
        "l7=l6+pe3\n",
        "\n",
        "PE__1=img[0:l1]\n",
        "PP__1=img[l1:l2]\n",
        "PS__1=img[l2:l3]\n",
        "\n",
        "PE__2=img[l3:l4]\n",
        "PP__2=img[l4:l5]\n",
        "PS__2=img[l5:l6]\n",
        "\n",
        "PE__3=img[l6:l7]\n",
        "\n",
        "PE1_label=labels[0:l1]\n",
        "PP1_label=labels[l1:l2]\n",
        "PS1_label=labels[l2:l3]\n",
        "\n",
        "PE2_label=labels[l3:l4]\n",
        "PP2_label=labels[l4:l5]\n",
        "PS2_label=labels[l5:l6]\n",
        "\n",
        "PE3_label=labels[l6:l7]\n",
        "\n",
        "PE__1=PE__1[ind_pe1]\n",
        "PP__1=PP__1[ind_pp1]\n",
        "PS__1=PS__1[ind_ps1]\n",
        "\n",
        "PE__2=PE__2[ind_pe2]\n",
        "PP__2=PP__2[ind_pp2]\n",
        "PS__2=PS__2[ind_ps2]\n",
        "\n",
        "PE__3=PE__3[ind_pe3]\n",
        "\n",
        "PE1_label = PE1_label[ind_pe1]\n",
        "PP1_label = PP1_label[ind_pp1]\n",
        "PS1_label = PS1_label[ind_ps1]\n",
        "\n",
        "PE2_label = PE2_label[ind_pe2]\n",
        "PP2_label = PP2_label[ind_pp2]\n",
        "PS2_label = PS2_label[ind_ps2]\n",
        "\n",
        "PE3_label = PE3_label[ind_pe3]\n",
        "'''"
      ],
      "execution_count": null,
      "outputs": [
        {
          "output_type": "execute_result",
          "data": {
            "application/vnd.google.colaboratory.intrinsic+json": {
              "type": "string"
            },
            "text/plain": [
              "'\\nl1=pe1\\nl2=l1+pp1\\nl3=l2+ps1\\n\\nl4=l3+pe2\\nl5=l4+pp2\\nl6=l5+ps2\\n\\nl7=l6+pe3\\n\\nPE__1=img[0:l1]\\nPP__1=img[l1:l2]\\nPS__1=img[l2:l3]\\n\\nPE__2=img[l3:l4]\\nPP__2=img[l4:l5]\\nPS__2=img[l5:l6]\\n\\nPE__3=img[l6:l7]\\n\\nPE1_label=labels[0:l1]\\nPP1_label=labels[l1:l2]\\nPS1_label=labels[l2:l3]\\n\\nPE2_label=labels[l3:l4]\\nPP2_label=labels[l4:l5]\\nPS2_label=labels[l5:l6]\\n\\nPE3_label=labels[l6:l7]\\n\\nPE__1=PE__1[ind_pe1]\\nPP__1=PP__1[ind_pp1]\\nPS__1=PS__1[ind_ps1]\\n\\nPE__2=PE__2[ind_pe2]\\nPP__2=PP__2[ind_pp2]\\nPS__2=PS__2[ind_ps2]\\n\\nPE__3=PE__3[ind_pe3]\\n\\nPE1_label = PE1_label[ind_pe1]\\nPP1_label = PP1_label[ind_pp1]\\nPS1_label = PS1_label[ind_ps1]\\n\\nPE2_label = PE2_label[ind_pe2]\\nPP2_label = PP2_label[ind_pp2]\\nPS2_label = PS2_label[ind_ps2]\\n\\nPE3_label = PE3_label[ind_pe3]\\n'"
            ]
          },
          "metadata": {},
          "execution_count": 55
        }
      ]
    },
    {
      "cell_type": "code",
      "metadata": {
        "id": "GLywP0lJfHhX"
      },
      "source": [
        "def l_s(initial_learning_rate,step):\n",
        "  lr = tf.keras.optimizers.schedules.ExponentialDecay(\n",
        "      initial_learning_rate,\n",
        "      decay_steps=5,\n",
        "      decay_rate=0.99,\n",
        "      staircase=True)\n",
        "  return lr"
      ],
      "execution_count": null,
      "outputs": []
    },
    {
      "cell_type": "code",
      "metadata": {
        "id": "eDnBadxr5Gm3"
      },
      "source": [
        "def Top_K_accuracy_for_k_fold(model,Test_images,Test_labels,j,history):\n",
        "  top1 = 0.0\n",
        "  top2 = 0.0\n",
        "  top3 = 0.0\n",
        "  # top4 = 0.0\n",
        "  # top5 = 0.0    \n",
        "  class_probs = model.predict(Test_images)\n",
        "  for i, l in enumerate(Test_labels):\n",
        "      class_prob = class_probs[i]\n",
        "      \n",
        "      top_values1 = (-class_prob).argsort()[:1]\n",
        "      top_values2 = (-class_prob).argsort()[:2]\n",
        "      top_values3 = (-class_prob).argsort()[:3]\n",
        "      # top_values4 = (-class_prob).argsort()[:4]\n",
        "      # top_values5 = (-class_prob).argsort()[:5]\n",
        "      \n",
        "      if np.isin(np.array([l]), top_values1):\n",
        "          top1 += 1.0\n",
        "      if np.isin(np.array([l]), top_values2):\n",
        "          top2 += 1.0    \n",
        "      if np.isin(np.array([l]), top_values3):\n",
        "          top3 += 1.0\n",
        "      # if np.isin(np.array([l]), top_values4):\n",
        "      #     top4 += 1.0    \n",
        "      # if np.isin(np.array([l]), top_values5):\n",
        "      #     top5 += 1.0\n",
        "\n",
        "  TT1=round((1-top1/len(Test_labels))*100,1)\n",
        "  TT2=round((1-top2/len(Test_labels))*100,1)\n",
        "  TT3=round((1-top3/len(Test_labels))*100,1)\n",
        "  # TT4=round((1-top4/len(Test_labels))*100,1)\n",
        "  # TT5=round((1-top5/len(Test_labels))*100,1)\n",
        "\n",
        "  return TT1,TT2,TT3"
      ],
      "execution_count": null,
      "outputs": []
    },
    {
      "cell_type": "code",
      "metadata": {
        "id": "ggmK2m-YALyH"
      },
      "source": [
        "def Signal_for_k_fold(predictions,Test_labels):\n",
        "  Volume_label=[]\n",
        "  for i in range(len(predictions)):\n",
        "    if np.argmax(predictions[i])%3==0:\n",
        "      Volume_label.append(0)\n",
        "    if np.argmax(predictions[i])%3==1:\n",
        "      Volume_label.append(1)\n",
        "    if np.argmax(predictions[i])%3==2:\n",
        "      Volume_label.append(2)\n",
        "    \n",
        "      \n",
        "  True_label=[]\n",
        "  for i in range(len(predictions)):\n",
        "    if (Test_labels[i])%3==0:\n",
        "      True_label.append(0)\n",
        "    if (Test_labels[i])%3==1:\n",
        "      True_label.append(1)\n",
        "    if (Test_labels[i])%3==2:\n",
        "      True_label.append(2)\n",
        "    \n",
        "  count =0\n",
        "  for i in range(len(predictions)):\n",
        "    if Volume_label[i] == True_label[i]:\n",
        "      count+=1\n",
        "\n",
        "  return 100-((count/len(predictions))*100)"
      ],
      "execution_count": null,
      "outputs": []
    },
    {
      "cell_type": "code",
      "metadata": {
        "id": "r5YVfVsvfJSj"
      },
      "source": [
        "def Top_K_accuracy(model,Test_images,Test_labels,j,history):\n",
        "  top1 = 0.0\n",
        "  top2 = 0.0\n",
        "  top3 = 0.0\n",
        "  top4 = 0.0\n",
        "  top5 = 0.0    \n",
        "  class_probs = model.predict(Test_images)\n",
        "  for i, l in enumerate(Test_labels):\n",
        "      class_prob = class_probs[i]\n",
        "      \n",
        "      top_values1 = (-class_prob).argsort()[:1]\n",
        "      top_values2 = (-class_prob).argsort()[:2]\n",
        "      top_values3 = (-class_prob).argsort()[:3]\n",
        "      top_values4 = (-class_prob).argsort()[:4]\n",
        "      top_values5 = (-class_prob).argsort()[:5]\n",
        "      \n",
        "      if np.isin(np.array([l]), top_values1):\n",
        "          top1 += 1.0\n",
        "      if np.isin(np.array([l]), top_values2):\n",
        "          top2 += 1.0    \n",
        "      if np.isin(np.array([l]), top_values3):\n",
        "          top3 += 1.0\n",
        "      if np.isin(np.array([l]), top_values4):\n",
        "          top4 += 1.0    \n",
        "      if np.isin(np.array([l]), top_values5):\n",
        "          top5 += 1.0\n",
        "\n",
        "  plt.plot(history.history['accuracy'])\n",
        "  plt.plot(history.history['val_accuracy'])\n",
        "  plt.title('{} model accuracy'.format(j),color='w')\n",
        "  plt.ylabel('accuracy',color='w')\n",
        "  plt.xlabel('epoch',color='w')\n",
        "  plt.legend(['train', 'valid'], loc='upper left')\n",
        "  plt.show()\n",
        "\n",
        "  plt.plot(history.history['loss'])\n",
        "  plt.plot(history.history['val_loss'])\n",
        "  plt.title('{} model loss'.format(j),color='w')\n",
        "  plt.ylabel('loss',color='w')\n",
        "  plt.xlabel('epoch',color='w')\n",
        "  plt.legend(['train', 'valid'], loc='upper left')\n",
        "  plt.show()\n",
        "  \n",
        "  # print(j)\n",
        "  # print(\"top1 error\", round((1-top1/len(Test_labels))*100,1),'%')\n",
        "  # print(\"top2 error\", round((1-top2/len(Test_labels))*100,1),'%')\n",
        "  # print(\"top3 error\", round((1-top3/len(Test_labels))*100,1),'%')\n",
        "  # print(\"top4 error\", round((1-top4/len(Test_labels))*100,1),'%')\n",
        "  # print(\"top5 error\", round((1-top5/len(Test_labels))*100,1),'%')\n",
        "  print('\\n')  "
      ],
      "execution_count": null,
      "outputs": []
    },
    {
      "cell_type": "code",
      "metadata": {
        "id": "GFcTgTs8DNl2"
      },
      "source": [
        "def SHOW_ME(model,Test_images,Test_labels):\n",
        "  predictions = model.predict(Test_images)  \n",
        "  A,B = Signal(predictions,Test_labels)\n",
        "  num_rows = 6\n",
        "  num_cols = 1\n",
        "  num_images = num_rows*num_cols\n",
        "  idx = np.random.randint(0,len(Test_labels),size=num_images)\n",
        "  plt.figure(figsize=(15, 20))\n",
        "\n",
        "  for i in range(num_images):\n",
        "    plt.subplot(num_rows, 3*num_cols, 3*i+1)\n",
        "    plot_image(idx[i], predictions, Test_labels, Test_images)\n",
        "\n",
        "    if np.argmax(predictions[idx[i]])%3 ==0:\n",
        "      plt.subplot(num_rows, 3*num_cols, 3*i+2)\n",
        "      plt.grid(False)\n",
        "      plt.xticks([])\n",
        "      plt.yticks([])\n",
        "      plt.title('Prediction')\n",
        "      img = cv.imread(\"PE1.png\")\n",
        "      plt.imshow(img[:,:,::-1])\n",
        "\n",
        "    if np.argmax(predictions[idx[i]])%3 ==1:\n",
        "      plt.subplot(num_rows, 3*num_cols, 3*i+2)\n",
        "      plt.grid(False)\n",
        "      plt.xticks([])\n",
        "      plt.yticks([])\n",
        "      plt.title('Prediction')\n",
        "      img = cv.imread(\"PP1.png\")\n",
        "      plt.imshow(img[:,:,::-1])\n",
        "\n",
        "\n",
        "    if np.argmax(predictions[idx[i]])%3 ==2:\n",
        "      plt.subplot(num_rows, 3*num_cols, 3*i+2)\n",
        "      plt.grid(False)\n",
        "      plt.xticks([])\n",
        "      plt.yticks([])\n",
        "      plt.title('Prediction')\n",
        "      img = cv.imread(\"PS1.png\")\n",
        "      plt.imshow(img[:,:,::-1])\n",
        "\n",
        "    plt.subplot(num_rows, 3*num_cols, 3*i+3)\n",
        "    plot_value_array(idx[i], predictions, Test_labels)\n",
        "  plt.show()"
      ],
      "execution_count": null,
      "outputs": []
    },
    {
      "cell_type": "code",
      "metadata": {
        "id": "HClVzJNxCnkO"
      },
      "source": [
        "def determine(true_label):\n",
        "  LAST_label=int(true_label)%5\n",
        "  if LAST_label==0:\n",
        "    LAST_label='PP'\n",
        "  if LAST_label==1:\n",
        "    LAST_label='PET'\n",
        "  if LAST_label==2:\n",
        "    LAST_label='PS'\n",
        "  if LAST_label==3:\n",
        "    LAST_label='HDPE' \n",
        "  if LAST_label==4:\n",
        "    LAST_label='LDPE'\n",
        " \n",
        "  return LAST_label\n",
        "\n",
        "def C(t,p):\n",
        "  if determine(t) == determine(p):\n",
        "    c='k'\n",
        "  else:\n",
        "    c='red'\n",
        "  return c\n",
        "\n",
        "def plot_image(i, predictions_array, true_label, img):\n",
        "  predictions_array, true_label, img = predictions_array[i], true_label[i], img[i]\n",
        "  plt.grid(False)\n",
        "  plt.xticks([])\n",
        "  plt.yticks([])\n",
        "  \n",
        "  \n",
        "  img = cv.flip(img,1)\n",
        "  rotated90 = tf.image.rot90(img)\n",
        "\n",
        "  teeee = np.float32(rotated90)\n",
        "  Rectangle = cv.rectangle(teeee,(7,7),(217,217),(0,255,0),3)\n",
        "  plt.imshow(Rectangle[:,:,::-1])\n",
        "  \n",
        "\n",
        "  predicted_label = np.argmax(predictions_array)\n",
        "  \n",
        "\n",
        "  if predicted_label==true_label:\n",
        "    color = 'k'\n",
        "  else:\n",
        "    color = 'red' \n",
        "  \n",
        "  A=predictions_array[0]+predictions_array[3]+predictions_array[6]\n",
        "  B=predictions_array[1]+predictions_array[4]\n",
        "  C=predictions_array[2]+predictions_array[5]\n",
        "\n",
        "  if np.argmax(predictions_array)%3 ==0:\n",
        "    acc = A\n",
        "  if np.argmax(predictions_array)%3 ==1:\n",
        "    acc = B\n",
        "  if np.argmax(predictions_array)%3 ==2:\n",
        "    acc = C  \n",
        "  # plt.title(\"P : {} {:2.0f}% ( T : {})\".format(class_names[predicted_label],\n",
        "  #                               100*acc,\n",
        "  #                               class_names[int(true_label)]),color=color, fontsize=9)\n",
        "  plt.title('Real Image')\n",
        "def plot_value_array(i, predictions_array, true_label):\n",
        "  predictions_array, true_label = predictions_array[i], true_label[i]\n",
        "  plt.grid(False)\n",
        "  plt.xticks([])\n",
        "  plt.yticks([])\n",
        "  D=[]\n",
        "  A=predictions_array[0]+predictions_array[3]+predictions_array[6]\n",
        "  B=predictions_array[1]+predictions_array[4]\n",
        "  C=predictions_array[2]+predictions_array[5]\n",
        "  D.append(A)\n",
        "  D.append(B)\n",
        "  D.append(C)\n",
        "  # thisplot = plt.bar(range(3), D,tick_label=['PE','PP','PS'])\n",
        "  \n",
        "  thisplot = plt.bar(range(num_class),predictions_array,tick_label=['PP','PET','PS','HDPE','LDPE'])\n",
        "  # thisplot.label.set_color('w')\n",
        "  # plt.xlabel(color = 'w')\n",
        "  plt.ylim([0, 1])\n",
        "  predicted_label = np.argmax(predictions_array)\n",
        "  \n",
        "\n",
        "  if predicted_label==true_label:\n",
        "    plt.title(\"Real & Prediction is : {}  \".format(class_names[true_label]),\n",
        "                                      color='k', fontsize=12)\n",
        "  else:\n",
        "   plt.title(\"Predictions is : {} but  Real : {}  \".format(class_names[predicted_label],class_names[true_label]),\n",
        "                                      color='k', fontsize=12)\n",
        "\n",
        "  \n",
        "  thisplot[predicted_label].set_color('red')\n",
        "  thisplot[int(true_label)].set_color('blue')"
      ],
      "execution_count": null,
      "outputs": []
    },
    {
      "cell_type": "code",
      "metadata": {
        "id": "aJdO01a2Zhwl"
      },
      "source": [
        "def Results(model,history,Test_images,Test_labels,model_name):\n",
        "  Top_K_accuracy(model,Test_images,Test_labels,model_name,history)\n",
        "  SHOW_ME(model,Test_images,Test_labels)"
      ],
      "execution_count": null,
      "outputs": []
    },
    {
      "cell_type": "code",
      "metadata": {
        "id": "iupnzqZHc47_"
      },
      "source": [
        "def Signal(predictions,Test_labels):\n",
        "  Volume_label=[]\n",
        "  for i in range(len(predictions)):\n",
        "    if np.argmax(predictions[i])%3==0:\n",
        "      Volume_label.append(0)\n",
        "    if np.argmax(predictions[i])%3==1:\n",
        "      Volume_label.append(1)\n",
        "    if np.argmax(predictions[i])%3==2:\n",
        "      Volume_label.append(2)\n",
        "    \n",
        "      \n",
        "  True_label=[]\n",
        "  for i in range(len(predictions)):\n",
        "    if (Test_labels[i])%3==0:\n",
        "      True_label.append(0)\n",
        "    if (Test_labels[i])%3==1:\n",
        "      True_label.append(1)\n",
        "    if (Test_labels[i])%3==2:\n",
        "      True_label.append(2)\n",
        "    \n",
        "  count =0\n",
        "  for i in range(len(predictions)):\n",
        "    if Volume_label[i] == True_label[i]:\n",
        "      count+=1\n",
        "\n",
        "\n",
        "  # print('정확도 : {:2.0f}%'.format((count/len(predictions))*100))  \n",
        "  return Volume_label,True_label"
      ],
      "execution_count": null,
      "outputs": []
    },
    {
      "cell_type": "code",
      "metadata": {
        "id": "Xt5T04AIuPV5"
      },
      "source": [
        "from sklearn.utils import shuffle\n",
        "Meta_image = np.concatenate((img_type0, img_type1, img_type2, img_type3, img_type4), axis=0)\n",
        "Meta_label = np.concatenate((lab_type0, lab_type1, lab_type2, lab_type3, lab_type4), axis=0)\n",
        "#Meta_image = np.concatenate((PE__1,PE__2,PE__3,PP__1,PP__2,PS__1,PS__2),axis=0)\n",
        "#Meta_label = np.concatenate((PE1_label,PE2_label,PE3_label,PP1_label,PP2_label,PS1_label,PS2_label),axis=0)\n",
        "Meta_image, Meta_label = shuffle(Meta_image, Meta_label)"
      ],
      "execution_count": null,
      "outputs": []
    },
    {
      "cell_type": "code",
      "metadata": {
        "id": "MtRxxcIkHSc3",
        "colab": {
          "base_uri": "https://localhost:8080/"
        },
        "outputId": "b35790d2-3c83-43ed-dc09-d58872f99f0f"
      },
      "source": [
        "model = tf.keras.Sequential([\n",
        "tf.keras.applications.MobileNetV2(weights='imagenet',input_shape=(224,224,3),pooling=None,classes=1000),\n",
        "# tf.keras.layers.Dense(7,activation='softmax',activity_regularizer = tf.keras.regularizers.l1(0.5))\n",
        "tf.keras.layers.Dense(num_class,activation='softmax',activity_regularizer = tf.keras.regularizers.l1(0.5))\n",
        "])\n",
        "\n",
        "model.summary()"
      ],
      "execution_count": null,
      "outputs": [
        {
          "output_type": "stream",
          "text": [
            "Model: \"sequential_3\"\n",
            "_________________________________________________________________\n",
            "Layer (type)                 Output Shape              Param #   \n",
            "=================================================================\n",
            "mobilenetv2_1.00_224 (Functi (None, 1000)              3538984   \n",
            "_________________________________________________________________\n",
            "dense_7 (Dense)              (None, 5)                 5005      \n",
            "=================================================================\n",
            "Total params: 3,543,989\n",
            "Trainable params: 3,509,877\n",
            "Non-trainable params: 34,112\n",
            "_________________________________________________________________\n"
          ],
          "name": "stdout"
        }
      ]
    },
    {
      "cell_type": "code",
      "metadata": {
        "id": "ncg7thcQO-yA",
        "colab": {
          "base_uri": "https://localhost:8080/",
          "height": 516
        },
        "outputId": "50dc1451-f237-4def-ca5e-3216b800c612"
      },
      "source": [
        "model.summary()\n",
        "tf.keras.utils.plot_model(model, show_shapes = True)"
      ],
      "execution_count": null,
      "outputs": [
        {
          "output_type": "stream",
          "text": [
            "Model: \"sequential_3\"\n",
            "_________________________________________________________________\n",
            "Layer (type)                 Output Shape              Param #   \n",
            "=================================================================\n",
            "mobilenetv2_1.00_224 (Functi (None, 1000)              3538984   \n",
            "_________________________________________________________________\n",
            "dense_7 (Dense)              (None, 5)                 5005      \n",
            "=================================================================\n",
            "Total params: 3,543,989\n",
            "Trainable params: 3,509,877\n",
            "Non-trainable params: 34,112\n",
            "_________________________________________________________________\n"
          ],
          "name": "stdout"
        },
        {
          "output_type": "execute_result",
          "data": {
            "image/png": "[encoded data removed]",
            "text/plain": [
              "<IPython.core.display.Image object>"
            ]
          },
          "metadata": {},
          "execution_count": 66
        }
      ]
    },
    {
      "cell_type": "code",
      "metadata": {
        "id": "a6yJ9pV8MVcl",
        "colab": {
          "base_uri": "https://localhost:8080/",
          "height": 272
        },
        "outputId": "2e86f61b-b42f-4446-a89f-b952db4e2d65"
      },
      "source": [
        "# model.summary()\n",
        "tf.keras.utils.plot_model(\n",
        "    model, to_file='model.png', show_shapes=False, show_layer_names=True,\n",
        "    rankdir='TB', expand_nested=False, dpi=96\n",
        ")"
      ],
      "execution_count": null,
      "outputs": [
        {
          "output_type": "execute_result",
          "data": {
            "image/png": "[encoded data removed]",
            "text/plain": [
              "<IPython.core.display.Image object>"
            ]
          },
          "metadata": {},
          "execution_count": 67
        }
      ]
    },
    {
      "cell_type": "code",
      "metadata": {
        "id": "tLYnhRH_WczT",
        "colab": {
          "base_uri": "https://localhost:8080/"
        },
        "outputId": "c3f1cb51-dd31-441a-f392-ea8d988262ba"
      },
      "source": [
        "t_img,t_lab = make_image_array(Meta_image,Meta_label)"
      ],
      "execution_count": null,
      "outputs": [
        {
          "output_type": "stream",
          "text": [
            "/usr/local/lib/python3.7/dist-packages/ipykernel_launcher.py:20: FutureWarning: Using a non-tuple sequence for multidimensional indexing is deprecated; use `arr[tuple(seq)]` instead of `arr[seq]`. In the future this will be interpreted as an array index, `arr[np.array(seq)]`, which will result either in an error or a different result.\n",
            "/usr/local/lib/python3.7/dist-packages/ipykernel_launcher.py:31: FutureWarning: Using a non-tuple sequence for multidimensional indexing is deprecated; use `arr[tuple(seq)]` instead of `arr[seq]`. In the future this will be interpreted as an array index, `arr[np.array(seq)]`, which will result either in an error or a different result.\n"
          ],
          "name": "stderr"
        }
      ]
    },
    {
      "cell_type": "code",
      "metadata": {
        "id": "L4luJ-nZ4LL8"
      },
      "source": [
        "L=1e-5*3\n",
        "S=200\n",
        "Opt = tf.keras.optimizers.Adam(learning_rate=l_s(L,20))\n",
        "Loss= tf.keras.losses.SparseCategoricalCrossentropy()\n",
        "\n",
        "# Define the model architecture\n",
        "model1 = tf.keras.Sequential([\n",
        "tf.keras.applications.MobileNetV2(weights='imagenet',input_shape=(224,224,3),pooling=None,classes=1000),\n",
        "tf.keras.layers.Dense(500,activation='relu'),\n",
        " tf.keras.layers.Dense(50,activation='relu'),\n",
        " #tf.keras.layers.Dense(30,activation='relu'),\n",
        "tf.keras.layers.Dense(num_class,activation='softmax',activity_regularizer = tf.keras.regularizers.l1(0.5))\n",
        "# tf.keras.layers.Dense(num_class,activation='softmax')\n",
        "])\n",
        "callback = tf.keras.callbacks.EarlyStopping(monitor='accuracy', patience=10)\n",
        "model1.compile(optimizer=Opt,loss=Loss,metrics=['accuracy'])\n",
        "\n",
        "# checkpoint_path = \"/content/drive/My Drive/Plastic_classification_weight\"\n",
        "# checkpoint_path = checkpoint_path+str(6)+\"/cp.ckpt\"\n",
        "# model1.save_weights(checkpoint_path)"
      ],
      "execution_count": null,
      "outputs": []
    },
    {
      "cell_type": "code",
      "metadata": {
        "id": "qjOoaQB4VVWq",
        "colab": {
          "base_uri": "https://localhost:8080/",
          "height": 805
        },
        "outputId": "95ecb3cd-d607-4a6c-d2b3-2ef2a35c12db"
      },
      "source": [
        "model1.summary()\n",
        "tf.keras.utils.plot_model(model1, show_shapes = True)"
      ],
      "execution_count": null,
      "outputs": [
        {
          "output_type": "stream",
          "text": [
            "Model: \"sequential_4\"\n",
            "_________________________________________________________________\n",
            "Layer (type)                 Output Shape              Param #   \n",
            "=================================================================\n",
            "mobilenetv2_1.00_224 (Functi (None, 1000)              3538984   \n",
            "_________________________________________________________________\n",
            "dense_8 (Dense)              (None, 500)               500500    \n",
            "_________________________________________________________________\n",
            "dense_9 (Dense)              (None, 50)                25050     \n",
            "_________________________________________________________________\n",
            "dense_10 (Dense)             (None, 5)                 255       \n",
            "=================================================================\n",
            "Total params: 4,064,789\n",
            "Trainable params: 4,030,677\n",
            "Non-trainable params: 34,112\n",
            "_________________________________________________________________\n"
          ],
          "name": "stdout"
        },
        {
          "output_type": "execute_result",
          "data": {
            "image/png": "[encoded data removed]",
            "text/plain": [
              "<IPython.core.display.Image object>"
            ]
          },
          "metadata": {},
          "execution_count": 70
        }
      ]
    },
    {
      "cell_type": "code",
      "metadata": {
        "id": "J_pDGGwYVQYm",
        "colab": {
          "base_uri": "https://localhost:8080/"
        },
        "outputId": "63736ca5-b409-4e8b-b983-132fa1417e1b"
      },
      "source": [
        "# history1 = model1.fit(t_img, t_lab,batch_size=32,epochs=S,callbacks=[callback],verbose=1)\n",
        "history1 = model1.fit(t_img, t_lab,batch_size=64,epochs=1,verbose=1,validation_data =(t_img,t_lab))"
      ],
      "execution_count": null,
      "outputs": [
        {
          "output_type": "stream",
          "text": [
            "48/48 [==============================] - 22s 385ms/step - loss: 2.0960 - accuracy: 0.5624 - val_loss: 2.0838 - val_accuracy: 0.5846\n"
          ],
          "name": "stdout"
        }
      ]
    },
    {
      "cell_type": "code",
      "metadata": {
        "id": "qaSr8Jle2Gh5",
        "colab": {
          "base_uri": "https://localhost:8080/"
        },
        "outputId": "dab3ca4a-b182-4c90-a914-4ff71e5a3513"
      },
      "source": [
        "model1.save('/content/drive/My Drive/동영상플라찍기/model_pla.h5')"
      ],
      "execution_count": null,
      "outputs": [
        {
          "output_type": "stream",
          "text": [
            "/usr/local/lib/python3.7/dist-packages/keras/utils/generic_utils.py:497: CustomMaskWarning: Custom mask layers require a config and must override get_config. When loading, the custom mask layer must be passed to the custom_objects argument.\n",
            "  category=CustomMaskWarning)\n"
          ],
          "name": "stderr"
        }
      ]
    },
    {
      "cell_type": "code",
      "metadata": {
        "id": "IN73tGCDLCNz"
      },
      "source": [
        "checkpoint_path = \"/content/drive/My Drive/Plastic_classification_weight_500_100_30/cp.ckpt\"\n",
        "# checkpoint_path = checkpoint_path+str(0000)+\"/cp.ckpt\"\n",
        "model1.save_weights(checkpoint_path)  "
      ],
      "execution_count": null,
      "outputs": []
    },
    {
      "cell_type": "code",
      "metadata": {
        "id": "bi1CwVKBPZ7w",
        "colab": {
          "base_uri": "https://localhost:8080/"
        },
        "outputId": "107ca0f0-b111-45f0-b026-6f597cb15900"
      },
      "source": [
        "from numpy.random import seed\n",
        "seed(1)\n",
        "from sklearn.model_selection import KFold\n",
        "from sklearn.utils import shuffle\n",
        "Meta_image, Meta_label = shuffle(Meta_image, Meta_label)\n",
        "\n",
        "\n",
        "num_folds = 5\n",
        "# Define per-fold score containers\n",
        "\n",
        "\n",
        "# Define the K-fold Cross Validator\n",
        "# inputs = np.concatenate((Train_images1, Test_images1, Valid_images1), axis=0)\n",
        "# targets = np.concatenate((Train_labels, Test_labels, Valid_labels), axis=0)\n",
        "\n",
        "index_test = []\n",
        "# Define per-fold score containers\n",
        "\n",
        "kfold = KFold(n_splits=num_folds, shuffle=True)\n",
        "# K-fold Cross Validation model evaluation\n",
        "\n",
        "fold_no = 1\n",
        "d121_t1=[]\n",
        "d121_t2=[]\n",
        "d121_t3=[]\n",
        "sss=[]\n",
        "d121_acc_per_fold = []\n",
        "d121_loss_per_fold = [] \n",
        "  # Model configuration\n",
        "batch =64\n",
        "# Define the K-fold Cross Validator\n",
        "kfold = KFold(n_splits=num_folds, shuffle=True)\n",
        "\n",
        "# K-fold Cross Validation model evaluation\n",
        "\n",
        "fold_no = 1\n",
        "\n",
        "for train, test in kfold.split(Meta_image, Meta_label):\n",
        "\n",
        "  train_img, train_lab = make_image_array(Meta_image[train],Meta_label[train])\n",
        "  train_img, train_lab = shuffle(train_img, train_lab)\n",
        "  val_img,val_lab = Meta_image[test][0:int(len(test)/2)],Meta_label[test][0:int(len(test)/2)]\n",
        "  test_img, test_lab = Meta_image[test][int(len(test)/2):],Meta_label[test][int(len(test)/2):]\n",
        "  \n",
        "  # print(val_img.shape,val_lab.shape)\n",
        "  # print(test_img.shape,test_lab.shape)\n",
        "  \n",
        "  # index_test.append(test)\n",
        "  # Model configuration\n",
        "  S=30\n",
        "  \n",
        "  L=1e-5*3\n",
        "  Opt = tf.keras.optimizers.Adam(learning_rate=l_s(L,S))\n",
        "  Loss= tf.keras.losses.SparseCategoricalCrossentropy()\n",
        "  # V = [test]int(len(test)/2)\n",
        "  \n",
        "\n",
        "  # Define the model architecture\n",
        "  model1 = tf.keras.Sequential([\n",
        "  tf.keras.applications.MobileNetV2(weights='imagenet',input_shape=(224,224,3),pooling=None,classes=1000),\n",
        "  tf.keras.layers.Dense(500,activation='relu'),\n",
        "  tf.keras.layers.Dense(50,activation='relu'),\n",
        "  #tf.keras.layers.Dense(30,activation='relu'),\n",
        "  tf.keras.layers.Dense(num_class,activation='softmax',activity_regularizer = tf.keras.regularizers.l1(0.04))\n",
        "  # tf.keras.layers.Dense(num_class,activation='softmax')\n",
        "  ])\n",
        "  callback = tf.keras.callbacks.EarlyStopping(monitor='accuracy', patience=10)\n",
        "  model1.compile(optimizer=Opt,loss=Loss,metrics=['accuracy'])\n",
        "  '''\n",
        "  # Define the model architecture\n",
        "  model1 = tf.keras.Sequential([\n",
        "  tf.keras.applications.MobileNetV2(weights='imagenet',input_shape=(224,224,3),pooling=None,classes=1000),\n",
        "  tf.keras.layers.Dense(num_class,activation='softmax',activity_regularizer = tf.keras.regularizers.l1(0.04))\n",
        "  # tf.keras.layers.Dense(num_class,activation='softmax')\n",
        "  ])\n",
        "  callback = tf.keras.callbacks.EarlyStopping(monitor='val_loss', patience=10)\n",
        "  model1.compile(optimizer=Opt,loss=Loss,metrics=['accuracy'])\n",
        "  '''  \n",
        "  #\n",
        "  model1.summary()\n",
        "  tf.keras.utils.plot_model(model1, show_shapes = True)\n",
        "  #\n",
        "\n",
        "  # Generate a print\n",
        "  print('------------------------------------------------------------------------')\n",
        "  print(f'Training Mobile Net V2 for fold {fold_no} ...')\n",
        "  \n",
        "  # batch_size = int(len(img)/100)\n",
        "  history1 = model1.fit(train_img, train_lab,batch_size=batch,epochs=S,callbacks=[callback],verbose=1,validation_data=(val_img,val_lab))\n",
        "  checkpoint_path = \"/content/drive/My Drive/Plastic_classification_weight\"\n",
        "  checkpoint_path = checkpoint_path+str(fold_no)+\"/cp.ckpt\"\n",
        "  model1.save_weights(checkpoint_path)  \n",
        "  model1_path = '/content/drive/My Drive/Plastic_classification_pb/'+str(fold_no)\n",
        "  model1.save(model1_path)\n",
        "  \n",
        "  top1,top2,top3=Top_K_accuracy_for_k_fold(model1,test_img, test_lab,3,history1)\n",
        "\n",
        "  # Generate generalization metrics\n",
        "  a,b=model1.evaluate(test_img,test_lab)\n",
        "  # print(f'Training for fold Dense121{fold_no} ...')\n",
        "  print(f'Mobile Net V2 Evaluate Score for fold {fold_no}: [{model1.metrics_names[0]} of {round(a,3)}], [{model1.metrics_names[1]} of {round(b,3)*100}%]')\n",
        "  d121_acc_per_fold.append(b)\n",
        "  d121_loss_per_fold.append(a)\n",
        "  d121_t1.append(top1)\n",
        "  d121_t2.append(top2)\n",
        "  d121_t3.append(top3)\n",
        "  sss.append(Signal_for_k_fold(model1.predict(test_img),test_lab))\n",
        "  # Increase fold number\n",
        "  fold_no = fold_no + 1"
      ],
      "execution_count": null,
      "outputs": [
        {
          "output_type": "stream",
          "text": [
            "/usr/local/lib/python3.7/dist-packages/ipykernel_launcher.py:20: FutureWarning: Using a non-tuple sequence for multidimensional indexing is deprecated; use `arr[tuple(seq)]` instead of `arr[seq]`. In the future this will be interpreted as an array index, `arr[np.array(seq)]`, which will result either in an error or a different result.\n",
            "/usr/local/lib/python3.7/dist-packages/ipykernel_launcher.py:31: FutureWarning: Using a non-tuple sequence for multidimensional indexing is deprecated; use `arr[tuple(seq)]` instead of `arr[seq]`. In the future this will be interpreted as an array index, `arr[np.array(seq)]`, which will result either in an error or a different result.\n"
          ],
          "name": "stderr"
        },
        {
          "output_type": "stream",
          "text": [
            "Model: \"sequential_11\"\n",
            "_________________________________________________________________\n",
            "Layer (type)                 Output Shape              Param #   \n",
            "=================================================================\n",
            "mobilenetv2_1.00_224 (Functi (None, 1000)              3538984   \n",
            "_________________________________________________________________\n",
            "dense_29 (Dense)             (None, 500)               500500    \n",
            "_________________________________________________________________\n",
            "dense_30 (Dense)             (None, 50)                25050     \n",
            "_________________________________________________________________\n",
            "dense_31 (Dense)             (None, 5)                 255       \n",
            "=================================================================\n",
            "Total params: 4,064,789\n",
            "Trainable params: 4,030,677\n",
            "Non-trainable params: 34,112\n",
            "_________________________________________________________________\n",
            "------------------------------------------------------------------------\n",
            "Training Mobile Net V2 for fold 1 ...\n",
            "Epoch 1/30\n",
            "39/39 [==============================] - 16s 322ms/step - loss: 1.6364 - accuracy: 0.4024 - val_loss: 1.6304 - val_accuracy: 0.4444\n",
            "Epoch 2/30\n",
            "39/39 [==============================] - 12s 305ms/step - loss: 1.6098 - accuracy: 0.7047 - val_loss: 1.6254 - val_accuracy: 0.2222\n",
            "Epoch 3/30\n",
            "39/39 [==============================] - 12s 304ms/step - loss: 1.5777 - accuracy: 0.7512 - val_loss: 1.6130 - val_accuracy: 0.3333\n",
            "Epoch 4/30\n",
            "39/39 [==============================] - 12s 301ms/step - loss: 1.5429 - accuracy: 0.8999 - val_loss: 1.5899 - val_accuracy: 0.4444\n",
            "Epoch 5/30\n",
            "39/39 [==============================] - 12s 304ms/step - loss: 1.5117 - accuracy: 0.9240 - val_loss: 1.5507 - val_accuracy: 0.6667\n",
            "Epoch 6/30\n",
            "39/39 [==============================] - 12s 301ms/step - loss: 1.4804 - accuracy: 0.9391 - val_loss: 1.5357 - val_accuracy: 0.6111\n",
            "Epoch 7/30\n",
            "39/39 [==============================] - 12s 302ms/step - loss: 1.4523 - accuracy: 0.9432 - val_loss: 1.4897 - val_accuracy: 0.7778\n",
            "Epoch 8/30\n",
            "39/39 [==============================] - 12s 299ms/step - loss: 1.4209 - accuracy: 0.9534 - val_loss: 1.4700 - val_accuracy: 0.7778\n",
            "Epoch 9/30\n",
            "39/39 [==============================] - 12s 304ms/step - loss: 1.3908 - accuracy: 0.9677 - val_loss: 1.4573 - val_accuracy: 0.7778\n",
            "Epoch 10/30\n",
            "39/39 [==============================] - 12s 303ms/step - loss: 1.3622 - accuracy: 0.9755 - val_loss: 1.4401 - val_accuracy: 0.7778\n",
            "Epoch 11/30\n",
            "39/39 [==============================] - 12s 301ms/step - loss: 1.3352 - accuracy: 0.9816 - val_loss: 1.4239 - val_accuracy: 0.7778\n",
            "Epoch 12/30\n",
            "39/39 [==============================] - 12s 300ms/step - loss: 1.3087 - accuracy: 0.9792 - val_loss: 1.4104 - val_accuracy: 0.7778\n",
            "Epoch 13/30\n",
            "39/39 [==============================] - 12s 305ms/step - loss: 1.2815 - accuracy: 0.9857 - val_loss: 1.3967 - val_accuracy: 0.8333\n",
            "Epoch 14/30\n",
            "39/39 [==============================] - 12s 301ms/step - loss: 1.2540 - accuracy: 0.9861 - val_loss: 1.3827 - val_accuracy: 0.8333\n",
            "Epoch 15/30\n",
            "39/39 [==============================] - 12s 302ms/step - loss: 1.2305 - accuracy: 0.9894 - val_loss: 1.3727 - val_accuracy: 0.8333\n",
            "Epoch 16/30\n",
            "39/39 [==============================] - 12s 304ms/step - loss: 1.2093 - accuracy: 0.9894 - val_loss: 1.3538 - val_accuracy: 0.8333\n",
            "Epoch 17/30\n",
            "39/39 [==============================] - 12s 304ms/step - loss: 1.1882 - accuracy: 0.9906 - val_loss: 1.3225 - val_accuracy: 0.8333\n",
            "Epoch 18/30\n",
            "39/39 [==============================] - 12s 301ms/step - loss: 1.1696 - accuracy: 0.9931 - val_loss: 1.3069 - val_accuracy: 0.8333\n",
            "Epoch 19/30\n",
            "39/39 [==============================] - 12s 301ms/step - loss: 1.1566 - accuracy: 0.9906 - val_loss: 1.2944 - val_accuracy: 0.8333\n",
            "Epoch 20/30\n",
            "39/39 [==============================] - 12s 305ms/step - loss: 1.1418 - accuracy: 0.9918 - val_loss: 1.2867 - val_accuracy: 0.8889\n",
            "Epoch 21/30\n",
            "39/39 [==============================] - 12s 301ms/step - loss: 1.1292 - accuracy: 0.9926 - val_loss: 1.2743 - val_accuracy: 0.8889\n",
            "Epoch 22/30\n",
            "39/39 [==============================] - 12s 304ms/step - loss: 1.1172 - accuracy: 0.9939 - val_loss: 1.2610 - val_accuracy: 0.8889\n",
            "Epoch 23/30\n",
            "39/39 [==============================] - 12s 304ms/step - loss: 1.1071 - accuracy: 0.9935 - val_loss: 1.2511 - val_accuracy: 0.8889\n",
            "Epoch 24/30\n",
            "39/39 [==============================] - 12s 304ms/step - loss: 1.0972 - accuracy: 0.9943 - val_loss: 1.2430 - val_accuracy: 0.8889\n",
            "Epoch 25/30\n",
            "39/39 [==============================] - 12s 303ms/step - loss: 1.0886 - accuracy: 0.9943 - val_loss: 1.2356 - val_accuracy: 0.8889\n",
            "Epoch 26/30\n",
            "39/39 [==============================] - 12s 303ms/step - loss: 1.0806 - accuracy: 0.9939 - val_loss: 1.2291 - val_accuracy: 0.8889\n",
            "Epoch 27/30\n",
            "39/39 [==============================] - 12s 305ms/step - loss: 1.0737 - accuracy: 0.9935 - val_loss: 1.2227 - val_accuracy: 0.8889\n",
            "Epoch 28/30\n",
            "39/39 [==============================] - 12s 304ms/step - loss: 1.0665 - accuracy: 0.9943 - val_loss: 1.2184 - val_accuracy: 0.8889\n",
            "Epoch 29/30\n",
            "39/39 [==============================] - 12s 304ms/step - loss: 1.0618 - accuracy: 0.9914 - val_loss: 1.2153 - val_accuracy: 0.8889\n",
            "Epoch 30/30\n",
            "39/39 [==============================] - 12s 302ms/step - loss: 1.0555 - accuracy: 0.9943 - val_loss: 1.2121 - val_accuracy: 0.8889\n"
          ],
          "name": "stdout"
        },
        {
          "output_type": "stream",
          "text": [
            "WARNING:absl:Function `_wrapped_model` contains input name(s) mobilenetv2_1.00_224_input with unsupported characters which will be renamed to mobilenetv2_1_00_224_input in the SavedModel.\n"
          ],
          "name": "stderr"
        },
        {
          "output_type": "stream",
          "text": [
            "INFO:tensorflow:Assets written to: /content/drive/My Drive/Plastic_classification_pb/1/assets\n"
          ],
          "name": "stdout"
        },
        {
          "output_type": "stream",
          "text": [
            "INFO:tensorflow:Assets written to: /content/drive/My Drive/Plastic_classification_pb/1/assets\n",
            "/usr/local/lib/python3.7/dist-packages/keras/utils/generic_utils.py:497: CustomMaskWarning: Custom mask layers require a config and must override get_config. When loading, the custom mask layer must be passed to the custom_objects argument.\n",
            "  category=CustomMaskWarning)\n"
          ],
          "name": "stderr"
        },
        {
          "output_type": "stream",
          "text": [
            "WARNING:tensorflow:5 out of the last 9 calls to <function Model.make_predict_function.<locals>.predict_function at 0x7ef8a5f6edd0> triggered tf.function retracing. Tracing is expensive and the excessive number of tracings could be due to (1) creating @tf.function repeatedly in a loop, (2) passing tensors with different shapes, (3) passing Python objects instead of tensors. For (1), please define your @tf.function outside of the loop. For (2), @tf.function has experimental_relax_shapes=True option that relaxes argument shapes that can avoid unnecessary retracing. For (3), please refer to https://www.tensorflow.org/guide/function#controlling_retracing and https://www.tensorflow.org/api_docs/python/tf/function for  more details.\n"
          ],
          "name": "stdout"
        },
        {
          "output_type": "stream",
          "text": [
            "WARNING:tensorflow:5 out of the last 9 calls to <function Model.make_predict_function.<locals>.predict_function at 0x7ef8a5f6edd0> triggered tf.function retracing. Tracing is expensive and the excessive number of tracings could be due to (1) creating @tf.function repeatedly in a loop, (2) passing tensors with different shapes, (3) passing Python objects instead of tensors. For (1), please define your @tf.function outside of the loop. For (2), @tf.function has experimental_relax_shapes=True option that relaxes argument shapes that can avoid unnecessary retracing. For (3), please refer to https://www.tensorflow.org/guide/function#controlling_retracing and https://www.tensorflow.org/api_docs/python/tf/function for  more details.\n"
          ],
          "name": "stderr"
        },
        {
          "output_type": "stream",
          "text": [
            "1/1 [==============================] - 0s 33ms/step - loss: 1.1758 - accuracy: 0.8889\n",
            "Mobile Net V2 Evaluate Score for fold 1: [loss of 1.176], [accuracy of 88.9%]\n"
          ],
          "name": "stdout"
        },
        {
          "output_type": "stream",
          "text": [
            "/usr/local/lib/python3.7/dist-packages/ipykernel_launcher.py:20: FutureWarning: Using a non-tuple sequence for multidimensional indexing is deprecated; use `arr[tuple(seq)]` instead of `arr[seq]`. In the future this will be interpreted as an array index, `arr[np.array(seq)]`, which will result either in an error or a different result.\n",
            "/usr/local/lib/python3.7/dist-packages/ipykernel_launcher.py:31: FutureWarning: Using a non-tuple sequence for multidimensional indexing is deprecated; use `arr[tuple(seq)]` instead of `arr[seq]`. In the future this will be interpreted as an array index, `arr[np.array(seq)]`, which will result either in an error or a different result.\n"
          ],
          "name": "stderr"
        },
        {
          "output_type": "stream",
          "text": [
            "Model: \"sequential_12\"\n",
            "_________________________________________________________________\n",
            "Layer (type)                 Output Shape              Param #   \n",
            "=================================================================\n",
            "mobilenetv2_1.00_224 (Functi (None, 1000)              3538984   \n",
            "_________________________________________________________________\n",
            "dense_32 (Dense)             (None, 500)               500500    \n",
            "_________________________________________________________________\n",
            "dense_33 (Dense)             (None, 50)                25050     \n",
            "_________________________________________________________________\n",
            "dense_34 (Dense)             (None, 5)                 255       \n",
            "=================================================================\n",
            "Total params: 4,064,789\n",
            "Trainable params: 4,030,677\n",
            "Non-trainable params: 34,112\n",
            "_________________________________________________________________\n",
            "------------------------------------------------------------------------\n",
            "Training Mobile Net V2 for fold 2 ...\n",
            "Epoch 1/30\n",
            "39/39 [==============================] - 16s 320ms/step - loss: 1.6407 - accuracy: 0.5270 - val_loss: 1.6298 - val_accuracy: 0.4444\n",
            "Epoch 2/30\n",
            "39/39 [==============================] - 12s 304ms/step - loss: 1.6069 - accuracy: 0.7782 - val_loss: 1.6116 - val_accuracy: 0.4444\n",
            "Epoch 3/30\n",
            "39/39 [==============================] - 12s 300ms/step - loss: 1.5662 - accuracy: 0.8750 - val_loss: 1.5694 - val_accuracy: 0.6111\n",
            "Epoch 4/30\n",
            "39/39 [==============================] - 12s 301ms/step - loss: 1.5255 - accuracy: 0.9134 - val_loss: 1.5465 - val_accuracy: 0.6111\n",
            "Epoch 5/30\n",
            "39/39 [==============================] - 12s 302ms/step - loss: 1.4835 - accuracy: 0.9355 - val_loss: 1.5219 - val_accuracy: 0.6667\n",
            "Epoch 6/30\n",
            "39/39 [==============================] - 11s 295ms/step - loss: 1.4460 - accuracy: 0.9502 - val_loss: 1.4918 - val_accuracy: 0.6667\n",
            "Epoch 7/30\n",
            "39/39 [==============================] - 12s 304ms/step - loss: 1.4136 - accuracy: 0.9583 - val_loss: 1.4634 - val_accuracy: 0.6667\n",
            "Epoch 8/30\n",
            "39/39 [==============================] - 12s 305ms/step - loss: 1.3848 - accuracy: 0.9608 - val_loss: 1.4392 - val_accuracy: 0.7222\n",
            "Epoch 9/30\n",
            "39/39 [==============================] - 12s 303ms/step - loss: 1.3564 - accuracy: 0.9624 - val_loss: 1.4131 - val_accuracy: 0.7222\n",
            "Epoch 10/30\n",
            "39/39 [==============================] - 12s 300ms/step - loss: 1.3297 - accuracy: 0.9661 - val_loss: 1.3843 - val_accuracy: 0.8333\n",
            "Epoch 11/30\n",
            "39/39 [==============================] - 12s 300ms/step - loss: 1.3058 - accuracy: 0.9690 - val_loss: 1.3650 - val_accuracy: 0.7222\n",
            "Epoch 12/30\n",
            "39/39 [==============================] - 12s 302ms/step - loss: 1.2844 - accuracy: 0.9694 - val_loss: 1.3491 - val_accuracy: 0.7222\n",
            "Epoch 13/30\n",
            "39/39 [==============================] - 12s 297ms/step - loss: 1.2642 - accuracy: 0.9730 - val_loss: 1.3266 - val_accuracy: 0.8333\n",
            "Epoch 14/30\n",
            "39/39 [==============================] - 12s 300ms/step - loss: 1.2457 - accuracy: 0.9816 - val_loss: 1.3141 - val_accuracy: 0.7778\n",
            "Epoch 15/30\n",
            "39/39 [==============================] - 12s 297ms/step - loss: 1.2276 - accuracy: 0.9845 - val_loss: 1.3002 - val_accuracy: 0.7778\n",
            "Epoch 16/30\n",
            "39/39 [==============================] - 12s 303ms/step - loss: 1.2118 - accuracy: 0.9861 - val_loss: 1.2751 - val_accuracy: 0.8333\n",
            "Epoch 17/30\n",
            "39/39 [==============================] - 12s 299ms/step - loss: 1.1969 - accuracy: 0.9894 - val_loss: 1.2452 - val_accuracy: 0.8889\n",
            "Epoch 18/30\n",
            "39/39 [==============================] - 12s 302ms/step - loss: 1.1825 - accuracy: 0.9918 - val_loss: 1.2285 - val_accuracy: 0.8889\n",
            "Epoch 19/30\n",
            "39/39 [==============================] - 12s 302ms/step - loss: 1.1689 - accuracy: 0.9914 - val_loss: 1.2111 - val_accuracy: 0.8889\n",
            "Epoch 20/30\n",
            "39/39 [==============================] - 12s 303ms/step - loss: 1.1566 - accuracy: 0.9922 - val_loss: 1.1977 - val_accuracy: 0.8889\n",
            "Epoch 21/30\n",
            "39/39 [==============================] - 12s 303ms/step - loss: 1.1454 - accuracy: 0.9947 - val_loss: 1.1822 - val_accuracy: 0.8889\n",
            "Epoch 22/30\n",
            "39/39 [==============================] - 12s 302ms/step - loss: 1.1345 - accuracy: 0.9931 - val_loss: 1.1678 - val_accuracy: 0.8889\n",
            "Epoch 23/30\n",
            "39/39 [==============================] - 12s 304ms/step - loss: 1.1237 - accuracy: 0.9939 - val_loss: 1.1547 - val_accuracy: 0.8889\n",
            "Epoch 24/30\n",
            "39/39 [==============================] - 12s 303ms/step - loss: 1.1149 - accuracy: 0.9951 - val_loss: 1.1380 - val_accuracy: 0.9444\n",
            "Epoch 25/30\n",
            "39/39 [==============================] - 12s 300ms/step - loss: 1.1075 - accuracy: 0.9943 - val_loss: 1.1312 - val_accuracy: 0.9444\n",
            "Epoch 26/30\n",
            "39/39 [==============================] - 12s 301ms/step - loss: 1.0991 - accuracy: 0.9955 - val_loss: 1.1227 - val_accuracy: 0.9444\n",
            "Epoch 27/30\n",
            "39/39 [==============================] - 12s 299ms/step - loss: 1.0921 - accuracy: 0.9971 - val_loss: 1.1136 - val_accuracy: 0.9444\n",
            "Epoch 28/30\n",
            "39/39 [==============================] - 12s 301ms/step - loss: 1.0860 - accuracy: 0.9963 - val_loss: 1.1046 - val_accuracy: 0.9444\n",
            "Epoch 29/30\n",
            "39/39 [==============================] - 12s 298ms/step - loss: 1.0800 - accuracy: 0.9959 - val_loss: 1.0969 - val_accuracy: 0.9444\n",
            "Epoch 30/30\n",
            "39/39 [==============================] - 12s 301ms/step - loss: 1.0751 - accuracy: 0.9959 - val_loss: 1.0891 - val_accuracy: 0.9444\n"
          ],
          "name": "stdout"
        },
        {
          "output_type": "stream",
          "text": [
            "WARNING:absl:Function `_wrapped_model` contains input name(s) mobilenetv2_1.00_224_input with unsupported characters which will be renamed to mobilenetv2_1_00_224_input in the SavedModel.\n"
          ],
          "name": "stderr"
        },
        {
          "output_type": "stream",
          "text": [
            "INFO:tensorflow:Assets written to: /content/drive/My Drive/Plastic_classification_pb/2/assets\n"
          ],
          "name": "stdout"
        },
        {
          "output_type": "stream",
          "text": [
            "INFO:tensorflow:Assets written to: /content/drive/My Drive/Plastic_classification_pb/2/assets\n",
            "/usr/local/lib/python3.7/dist-packages/keras/utils/generic_utils.py:497: CustomMaskWarning: Custom mask layers require a config and must override get_config. When loading, the custom mask layer must be passed to the custom_objects argument.\n",
            "  category=CustomMaskWarning)\n"
          ],
          "name": "stderr"
        },
        {
          "output_type": "stream",
          "text": [
            "WARNING:tensorflow:6 out of the last 11 calls to <function Model.make_predict_function.<locals>.predict_function at 0x7efc48d4b7a0> triggered tf.function retracing. Tracing is expensive and the excessive number of tracings could be due to (1) creating @tf.function repeatedly in a loop, (2) passing tensors with different shapes, (3) passing Python objects instead of tensors. For (1), please define your @tf.function outside of the loop. For (2), @tf.function has experimental_relax_shapes=True option that relaxes argument shapes that can avoid unnecessary retracing. For (3), please refer to https://www.tensorflow.org/guide/function#controlling_retracing and https://www.tensorflow.org/api_docs/python/tf/function for  more details.\n"
          ],
          "name": "stdout"
        },
        {
          "output_type": "stream",
          "text": [
            "WARNING:tensorflow:6 out of the last 11 calls to <function Model.make_predict_function.<locals>.predict_function at 0x7efc48d4b7a0> triggered tf.function retracing. Tracing is expensive and the excessive number of tracings could be due to (1) creating @tf.function repeatedly in a loop, (2) passing tensors with different shapes, (3) passing Python objects instead of tensors. For (1), please define your @tf.function outside of the loop. For (2), @tf.function has experimental_relax_shapes=True option that relaxes argument shapes that can avoid unnecessary retracing. For (3), please refer to https://www.tensorflow.org/guide/function#controlling_retracing and https://www.tensorflow.org/api_docs/python/tf/function for  more details.\n"
          ],
          "name": "stderr"
        },
        {
          "output_type": "stream",
          "text": [
            "1/1 [==============================] - 0s 33ms/step - loss: 1.1625 - accuracy: 0.8333\n",
            "Mobile Net V2 Evaluate Score for fold 2: [loss of 1.162], [accuracy of 83.3%]\n"
          ],
          "name": "stdout"
        },
        {
          "output_type": "stream",
          "text": [
            "/usr/local/lib/python3.7/dist-packages/ipykernel_launcher.py:20: FutureWarning: Using a non-tuple sequence for multidimensional indexing is deprecated; use `arr[tuple(seq)]` instead of `arr[seq]`. In the future this will be interpreted as an array index, `arr[np.array(seq)]`, which will result either in an error or a different result.\n",
            "/usr/local/lib/python3.7/dist-packages/ipykernel_launcher.py:31: FutureWarning: Using a non-tuple sequence for multidimensional indexing is deprecated; use `arr[tuple(seq)]` instead of `arr[seq]`. In the future this will be interpreted as an array index, `arr[np.array(seq)]`, which will result either in an error or a different result.\n"
          ],
          "name": "stderr"
        },
        {
          "output_type": "stream",
          "text": [
            "Model: \"sequential_13\"\n",
            "_________________________________________________________________\n",
            "Layer (type)                 Output Shape              Param #   \n",
            "=================================================================\n",
            "mobilenetv2_1.00_224 (Functi (None, 1000)              3538984   \n",
            "_________________________________________________________________\n",
            "dense_35 (Dense)             (None, 500)               500500    \n",
            "_________________________________________________________________\n",
            "dense_36 (Dense)             (None, 50)                25050     \n",
            "_________________________________________________________________\n",
            "dense_37 (Dense)             (None, 5)                 255       \n",
            "=================================================================\n",
            "Total params: 4,064,789\n",
            "Trainable params: 4,030,677\n",
            "Non-trainable params: 34,112\n",
            "_________________________________________________________________\n",
            "------------------------------------------------------------------------\n",
            "Training Mobile Net V2 for fold 3 ...\n",
            "Epoch 1/30\n",
            "39/39 [==============================] - 16s 319ms/step - loss: 1.6442 - accuracy: 0.4293 - val_loss: 1.6338 - val_accuracy: 0.3333\n",
            "Epoch 2/30\n",
            "39/39 [==============================] - 12s 305ms/step - loss: 1.6161 - accuracy: 0.7365 - val_loss: 1.6034 - val_accuracy: 0.6111\n",
            "Epoch 3/30\n",
            "39/39 [==============================] - 12s 306ms/step - loss: 1.5744 - accuracy: 0.8395 - val_loss: 1.5793 - val_accuracy: 0.6111\n",
            "Epoch 4/30\n",
            "39/39 [==============================] - 12s 296ms/step - loss: 1.5310 - accuracy: 0.8930 - val_loss: 1.5601 - val_accuracy: 0.6667\n",
            "Epoch 5/30\n",
            "39/39 [==============================] - 11s 295ms/step - loss: 1.4924 - accuracy: 0.9203 - val_loss: 1.5352 - val_accuracy: 0.6667\n",
            "Epoch 6/30\n",
            "39/39 [==============================] - 12s 300ms/step - loss: 1.4585 - accuracy: 0.9293 - val_loss: 1.5056 - val_accuracy: 0.7222\n",
            "Epoch 7/30\n",
            "39/39 [==============================] - 11s 294ms/step - loss: 1.4235 - accuracy: 0.9420 - val_loss: 1.4665 - val_accuracy: 0.7222\n",
            "Epoch 8/30\n",
            "39/39 [==============================] - 12s 305ms/step - loss: 1.3909 - accuracy: 0.9465 - val_loss: 1.4546 - val_accuracy: 0.7222\n",
            "Epoch 9/30\n",
            "39/39 [==============================] - 11s 293ms/step - loss: 1.3603 - accuracy: 0.9563 - val_loss: 1.4299 - val_accuracy: 0.7222\n",
            "Epoch 10/30\n",
            "39/39 [==============================] - 12s 302ms/step - loss: 1.3323 - accuracy: 0.9604 - val_loss: 1.4045 - val_accuracy: 0.7778\n",
            "Epoch 11/30\n",
            "39/39 [==============================] - 12s 301ms/step - loss: 1.3065 - accuracy: 0.9600 - val_loss: 1.3893 - val_accuracy: 0.8333\n",
            "Epoch 12/30\n",
            "39/39 [==============================] - 12s 305ms/step - loss: 1.2816 - accuracy: 0.9657 - val_loss: 1.3789 - val_accuracy: 0.7778\n",
            "Epoch 13/30\n",
            "39/39 [==============================] - 12s 303ms/step - loss: 1.2578 - accuracy: 0.9665 - val_loss: 1.3516 - val_accuracy: 0.8333\n",
            "Epoch 14/30\n",
            "39/39 [==============================] - 12s 303ms/step - loss: 1.2366 - accuracy: 0.9657 - val_loss: 1.3249 - val_accuracy: 0.8333\n",
            "Epoch 15/30\n",
            "39/39 [==============================] - 12s 304ms/step - loss: 1.2179 - accuracy: 0.9665 - val_loss: 1.2838 - val_accuracy: 0.8889\n",
            "Epoch 16/30\n",
            "39/39 [==============================] - 12s 304ms/step - loss: 1.1997 - accuracy: 0.9669 - val_loss: 1.2891 - val_accuracy: 0.8333\n",
            "Epoch 17/30\n",
            "39/39 [==============================] - 12s 296ms/step - loss: 1.1840 - accuracy: 0.9681 - val_loss: 1.2090 - val_accuracy: 1.0000\n",
            "Epoch 18/30\n",
            "39/39 [==============================] - 12s 304ms/step - loss: 1.1688 - accuracy: 0.9673 - val_loss: 1.1957 - val_accuracy: 1.0000\n",
            "Epoch 19/30\n",
            "39/39 [==============================] - 12s 296ms/step - loss: 1.1546 - accuracy: 0.9690 - val_loss: 1.1963 - val_accuracy: 0.9444\n",
            "Epoch 20/30\n",
            "39/39 [==============================] - 12s 299ms/step - loss: 1.1422 - accuracy: 0.9690 - val_loss: 1.1705 - val_accuracy: 1.0000\n",
            "Epoch 21/30\n",
            "39/39 [==============================] - 12s 304ms/step - loss: 1.1303 - accuracy: 0.9690 - val_loss: 1.1519 - val_accuracy: 1.0000\n",
            "Epoch 22/30\n",
            "39/39 [==============================] - 12s 303ms/step - loss: 1.1201 - accuracy: 0.9681 - val_loss: 1.1434 - val_accuracy: 1.0000\n",
            "Epoch 23/30\n",
            "39/39 [==============================] - 12s 306ms/step - loss: 1.1093 - accuracy: 0.9690 - val_loss: 1.1356 - val_accuracy: 1.0000\n",
            "Epoch 24/30\n",
            "39/39 [==============================] - 12s 300ms/step - loss: 1.1006 - accuracy: 0.9685 - val_loss: 1.1240 - val_accuracy: 1.0000\n",
            "Epoch 25/30\n",
            "39/39 [==============================] - 12s 305ms/step - loss: 1.0918 - accuracy: 0.9694 - val_loss: 1.1225 - val_accuracy: 0.9444\n",
            "Epoch 26/30\n",
            "39/39 [==============================] - 12s 301ms/step - loss: 1.0843 - accuracy: 0.9681 - val_loss: 1.1357 - val_accuracy: 0.9444\n",
            "Epoch 27/30\n",
            "39/39 [==============================] - 12s 301ms/step - loss: 1.0766 - accuracy: 0.9698 - val_loss: 1.1156 - val_accuracy: 0.9444\n",
            "Epoch 28/30\n",
            "39/39 [==============================] - 12s 303ms/step - loss: 1.0710 - accuracy: 0.9681 - val_loss: 1.0947 - val_accuracy: 0.9444\n",
            "Epoch 29/30\n",
            "39/39 [==============================] - 12s 300ms/step - loss: 1.0645 - accuracy: 0.9694 - val_loss: 1.0842 - val_accuracy: 1.0000\n",
            "Epoch 30/30\n",
            "39/39 [==============================] - 12s 299ms/step - loss: 1.0589 - accuracy: 0.9698 - val_loss: 1.0723 - val_accuracy: 1.0000\n"
          ],
          "name": "stdout"
        },
        {
          "output_type": "stream",
          "text": [
            "WARNING:absl:Function `_wrapped_model` contains input name(s) mobilenetv2_1.00_224_input with unsupported characters which will be renamed to mobilenetv2_1_00_224_input in the SavedModel.\n"
          ],
          "name": "stderr"
        },
        {
          "output_type": "stream",
          "text": [
            "INFO:tensorflow:Assets written to: /content/drive/My Drive/Plastic_classification_pb/3/assets\n"
          ],
          "name": "stdout"
        },
        {
          "output_type": "stream",
          "text": [
            "INFO:tensorflow:Assets written to: /content/drive/My Drive/Plastic_classification_pb/3/assets\n",
            "/usr/local/lib/python3.7/dist-packages/keras/utils/generic_utils.py:497: CustomMaskWarning: Custom mask layers require a config and must override get_config. When loading, the custom mask layer must be passed to the custom_objects argument.\n",
            "  category=CustomMaskWarning)\n"
          ],
          "name": "stderr"
        },
        {
          "output_type": "stream",
          "text": [
            "1/1 [==============================] - 0s 34ms/step - loss: 1.0620 - accuracy: 1.0000\n",
            "Mobile Net V2 Evaluate Score for fold 3: [loss of 1.062], [accuracy of 100.0%]\n"
          ],
          "name": "stdout"
        },
        {
          "output_type": "stream",
          "text": [
            "/usr/local/lib/python3.7/dist-packages/ipykernel_launcher.py:20: FutureWarning: Using a non-tuple sequence for multidimensional indexing is deprecated; use `arr[tuple(seq)]` instead of `arr[seq]`. In the future this will be interpreted as an array index, `arr[np.array(seq)]`, which will result either in an error or a different result.\n",
            "/usr/local/lib/python3.7/dist-packages/ipykernel_launcher.py:31: FutureWarning: Using a non-tuple sequence for multidimensional indexing is deprecated; use `arr[tuple(seq)]` instead of `arr[seq]`. In the future this will be interpreted as an array index, `arr[np.array(seq)]`, which will result either in an error or a different result.\n"
          ],
          "name": "stderr"
        },
        {
          "output_type": "stream",
          "text": [
            "Model: \"sequential_14\"\n",
            "_________________________________________________________________\n",
            "Layer (type)                 Output Shape              Param #   \n",
            "=================================================================\n",
            "mobilenetv2_1.00_224 (Functi (None, 1000)              3538984   \n",
            "_________________________________________________________________\n",
            "dense_38 (Dense)             (None, 500)               500500    \n",
            "_________________________________________________________________\n",
            "dense_39 (Dense)             (None, 50)                25050     \n",
            "_________________________________________________________________\n",
            "dense_40 (Dense)             (None, 5)                 255       \n",
            "=================================================================\n",
            "Total params: 4,064,789\n",
            "Trainable params: 4,030,677\n",
            "Non-trainable params: 34,112\n",
            "_________________________________________________________________\n",
            "------------------------------------------------------------------------\n",
            "Training Mobile Net V2 for fold 4 ...\n",
            "Epoch 1/30\n",
            "39/39 [==============================] - 16s 319ms/step - loss: 1.6406 - accuracy: 0.5253 - val_loss: 1.6242 - val_accuracy: 0.5556\n",
            "Epoch 2/30\n",
            "39/39 [==============================] - 12s 299ms/step - loss: 1.6095 - accuracy: 0.7132 - val_loss: 1.6100 - val_accuracy: 0.3889\n",
            "Epoch 3/30\n",
            "39/39 [==============================] - 12s 301ms/step - loss: 1.5665 - accuracy: 0.8280 - val_loss: 1.5855 - val_accuracy: 0.6667\n",
            "Epoch 4/30\n",
            "39/39 [==============================] - 11s 290ms/step - loss: 1.5204 - accuracy: 0.8824 - val_loss: 1.5540 - val_accuracy: 0.7778\n",
            "Epoch 5/30\n",
            "39/39 [==============================] - 12s 296ms/step - loss: 1.4799 - accuracy: 0.9044 - val_loss: 1.5313 - val_accuracy: 0.7778\n",
            "Epoch 6/30\n",
            "39/39 [==============================] - 11s 293ms/step - loss: 1.4425 - accuracy: 0.9285 - val_loss: 1.5083 - val_accuracy: 0.8333\n",
            "Epoch 7/30\n",
            "39/39 [==============================] - 12s 300ms/step - loss: 1.4089 - accuracy: 0.9379 - val_loss: 1.4862 - val_accuracy: 0.8333\n",
            "Epoch 8/30\n",
            "39/39 [==============================] - 12s 299ms/step - loss: 1.3793 - accuracy: 0.9457 - val_loss: 1.4756 - val_accuracy: 0.8333\n",
            "Epoch 9/30\n",
            "39/39 [==============================] - 12s 298ms/step - loss: 1.3469 - accuracy: 0.9596 - val_loss: 1.4404 - val_accuracy: 0.8333\n",
            "Epoch 10/30\n",
            "39/39 [==============================] - 11s 295ms/step - loss: 1.3156 - accuracy: 0.9710 - val_loss: 1.4014 - val_accuracy: 0.8889\n",
            "Epoch 11/30\n",
            "39/39 [==============================] - 12s 297ms/step - loss: 1.2872 - accuracy: 0.9718 - val_loss: 1.3610 - val_accuracy: 0.8889\n",
            "Epoch 12/30\n",
            "39/39 [==============================] - 11s 293ms/step - loss: 1.2572 - accuracy: 0.9779 - val_loss: 1.3212 - val_accuracy: 0.9444\n",
            "Epoch 13/30\n",
            "39/39 [==============================] - 12s 300ms/step - loss: 1.2307 - accuracy: 0.9820 - val_loss: 1.2963 - val_accuracy: 0.9444\n",
            "Epoch 14/30\n",
            "39/39 [==============================] - 12s 305ms/step - loss: 1.2061 - accuracy: 0.9837 - val_loss: 1.2739 - val_accuracy: 0.9444\n",
            "Epoch 15/30\n",
            "39/39 [==============================] - 12s 295ms/step - loss: 1.1852 - accuracy: 0.9833 - val_loss: 1.2538 - val_accuracy: 0.9444\n",
            "Epoch 16/30\n",
            "39/39 [==============================] - 11s 293ms/step - loss: 1.1655 - accuracy: 0.9833 - val_loss: 1.2244 - val_accuracy: 0.9444\n",
            "Epoch 17/30\n",
            "39/39 [==============================] - 12s 296ms/step - loss: 1.1484 - accuracy: 0.9857 - val_loss: 1.2238 - val_accuracy: 0.8889\n",
            "Epoch 18/30\n",
            "39/39 [==============================] - 12s 296ms/step - loss: 1.1299 - accuracy: 0.9882 - val_loss: 1.1888 - val_accuracy: 0.9444\n",
            "Epoch 19/30\n",
            "39/39 [==============================] - 12s 300ms/step - loss: 1.1161 - accuracy: 0.9882 - val_loss: 1.1693 - val_accuracy: 0.9444\n",
            "Epoch 20/30\n",
            "39/39 [==============================] - 12s 298ms/step - loss: 1.1014 - accuracy: 0.9898 - val_loss: 1.1579 - val_accuracy: 0.9444\n",
            "Epoch 21/30\n",
            "39/39 [==============================] - 12s 297ms/step - loss: 1.0904 - accuracy: 0.9890 - val_loss: 1.1475 - val_accuracy: 0.9444\n",
            "Epoch 22/30\n",
            "39/39 [==============================] - 11s 293ms/step - loss: 1.0795 - accuracy: 0.9882 - val_loss: 1.1372 - val_accuracy: 0.9444\n",
            "Epoch 23/30\n",
            "39/39 [==============================] - 11s 294ms/step - loss: 1.0682 - accuracy: 0.9894 - val_loss: 1.1275 - val_accuracy: 0.9444\n",
            "Epoch 24/30\n",
            "39/39 [==============================] - 11s 294ms/step - loss: 1.0586 - accuracy: 0.9906 - val_loss: 1.1191 - val_accuracy: 0.9444\n",
            "Epoch 25/30\n",
            "39/39 [==============================] - 12s 296ms/step - loss: 1.0495 - accuracy: 0.9898 - val_loss: 1.1113 - val_accuracy: 0.9444\n",
            "Epoch 26/30\n",
            "39/39 [==============================] - 11s 294ms/step - loss: 1.0425 - accuracy: 0.9894 - val_loss: 1.1044 - val_accuracy: 0.9444\n",
            "Epoch 27/30\n",
            "39/39 [==============================] - 12s 300ms/step - loss: 1.0355 - accuracy: 0.9890 - val_loss: 1.0987 - val_accuracy: 0.9444\n",
            "Epoch 28/30\n",
            "39/39 [==============================] - 12s 296ms/step - loss: 1.0276 - accuracy: 0.9914 - val_loss: 1.0923 - val_accuracy: 0.9444\n",
            "Epoch 29/30\n",
            "39/39 [==============================] - 11s 288ms/step - loss: 1.0203 - accuracy: 0.9918 - val_loss: 1.0851 - val_accuracy: 0.9444\n",
            "Epoch 30/30\n",
            "39/39 [==============================] - 11s 288ms/step - loss: 1.0148 - accuracy: 0.9910 - val_loss: 1.0765 - val_accuracy: 1.0000\n"
          ],
          "name": "stdout"
        },
        {
          "output_type": "stream",
          "text": [
            "WARNING:absl:Function `_wrapped_model` contains input name(s) mobilenetv2_1.00_224_input with unsupported characters which will be renamed to mobilenetv2_1_00_224_input in the SavedModel.\n"
          ],
          "name": "stderr"
        },
        {
          "output_type": "stream",
          "text": [
            "INFO:tensorflow:Assets written to: /content/drive/My Drive/Plastic_classification_pb/4/assets\n"
          ],
          "name": "stdout"
        },
        {
          "output_type": "stream",
          "text": [
            "INFO:tensorflow:Assets written to: /content/drive/My Drive/Plastic_classification_pb/4/assets\n",
            "/usr/local/lib/python3.7/dist-packages/keras/utils/generic_utils.py:497: CustomMaskWarning: Custom mask layers require a config and must override get_config. When loading, the custom mask layer must be passed to the custom_objects argument.\n",
            "  category=CustomMaskWarning)\n"
          ],
          "name": "stderr"
        },
        {
          "output_type": "stream",
          "text": [
            "1/1 [==============================] - 0s 33ms/step - loss: 1.0943 - accuracy: 0.8889\n",
            "Mobile Net V2 Evaluate Score for fold 4: [loss of 1.094], [accuracy of 88.9%]\n"
          ],
          "name": "stdout"
        },
        {
          "output_type": "stream",
          "text": [
            "/usr/local/lib/python3.7/dist-packages/ipykernel_launcher.py:20: FutureWarning: Using a non-tuple sequence for multidimensional indexing is deprecated; use `arr[tuple(seq)]` instead of `arr[seq]`. In the future this will be interpreted as an array index, `arr[np.array(seq)]`, which will result either in an error or a different result.\n",
            "/usr/local/lib/python3.7/dist-packages/ipykernel_launcher.py:31: FutureWarning: Using a non-tuple sequence for multidimensional indexing is deprecated; use `arr[tuple(seq)]` instead of `arr[seq]`. In the future this will be interpreted as an array index, `arr[np.array(seq)]`, which will result either in an error or a different result.\n"
          ],
          "name": "stderr"
        },
        {
          "output_type": "stream",
          "text": [
            "Model: \"sequential_15\"\n",
            "_________________________________________________________________\n",
            "Layer (type)                 Output Shape              Param #   \n",
            "=================================================================\n",
            "mobilenetv2_1.00_224 (Functi (None, 1000)              3538984   \n",
            "_________________________________________________________________\n",
            "dense_41 (Dense)             (None, 500)               500500    \n",
            "_________________________________________________________________\n",
            "dense_42 (Dense)             (None, 50)                25050     \n",
            "_________________________________________________________________\n",
            "dense_43 (Dense)             (None, 5)                 255       \n",
            "=================================================================\n",
            "Total params: 4,064,789\n",
            "Trainable params: 4,030,677\n",
            "Non-trainable params: 34,112\n",
            "_________________________________________________________________\n",
            "------------------------------------------------------------------------\n",
            "Training Mobile Net V2 for fold 5 ...\n",
            "Epoch 1/30\n",
            "39/39 [==============================] - 16s 317ms/step - loss: 1.6423 - accuracy: 0.4085 - val_loss: 1.6433 - val_accuracy: 0.2778\n",
            "Epoch 2/30\n",
            "39/39 [==============================] - 11s 293ms/step - loss: 1.6153 - accuracy: 0.6944 - val_loss: 1.6262 - val_accuracy: 0.3889\n",
            "Epoch 3/30\n",
            "39/39 [==============================] - 12s 297ms/step - loss: 1.5835 - accuracy: 0.8125 - val_loss: 1.6082 - val_accuracy: 0.5000\n",
            "Epoch 4/30\n",
            "39/39 [==============================] - 12s 295ms/step - loss: 1.5492 - accuracy: 0.8905 - val_loss: 1.5824 - val_accuracy: 0.6667\n",
            "Epoch 5/30\n",
            "39/39 [==============================] - 11s 291ms/step - loss: 1.5197 - accuracy: 0.9195 - val_loss: 1.5625 - val_accuracy: 0.7222\n",
            "Epoch 6/30\n",
            "39/39 [==============================] - 11s 294ms/step - loss: 1.4896 - accuracy: 0.9440 - val_loss: 1.5398 - val_accuracy: 0.7778\n",
            "Epoch 7/30\n",
            "39/39 [==============================] - 12s 297ms/step - loss: 1.4606 - accuracy: 0.9493 - val_loss: 1.5053 - val_accuracy: 0.7778\n",
            "Epoch 8/30\n",
            "39/39 [==============================] - 11s 290ms/step - loss: 1.4308 - accuracy: 0.9596 - val_loss: 1.4665 - val_accuracy: 0.8333\n",
            "Epoch 9/30\n",
            "39/39 [==============================] - 12s 299ms/step - loss: 1.3986 - accuracy: 0.9702 - val_loss: 1.4376 - val_accuracy: 0.8889\n",
            "Epoch 10/30\n",
            "39/39 [==============================] - 12s 301ms/step - loss: 1.3702 - accuracy: 0.9730 - val_loss: 1.4163 - val_accuracy: 0.8333\n",
            "Epoch 11/30\n",
            "39/39 [==============================] - 12s 298ms/step - loss: 1.3453 - accuracy: 0.9771 - val_loss: 1.3999 - val_accuracy: 0.8333\n",
            "Epoch 12/30\n",
            "39/39 [==============================] - 12s 295ms/step - loss: 1.3208 - accuracy: 0.9828 - val_loss: 1.3848 - val_accuracy: 0.8333\n",
            "Epoch 13/30\n",
            "39/39 [==============================] - 11s 294ms/step - loss: 1.2970 - accuracy: 0.9877 - val_loss: 1.3691 - val_accuracy: 0.8333\n",
            "Epoch 14/30\n",
            "39/39 [==============================] - 12s 295ms/step - loss: 1.2755 - accuracy: 0.9873 - val_loss: 1.3529 - val_accuracy: 0.8333\n",
            "Epoch 15/30\n",
            "39/39 [==============================] - 11s 288ms/step - loss: 1.2571 - accuracy: 0.9865 - val_loss: 1.3364 - val_accuracy: 0.8333\n",
            "Epoch 16/30\n",
            "39/39 [==============================] - 12s 296ms/step - loss: 1.2388 - accuracy: 0.9898 - val_loss: 1.3209 - val_accuracy: 0.8333\n",
            "Epoch 17/30\n",
            "39/39 [==============================] - 11s 294ms/step - loss: 1.2218 - accuracy: 0.9910 - val_loss: 1.3019 - val_accuracy: 0.8333\n",
            "Epoch 18/30\n",
            "39/39 [==============================] - 12s 296ms/step - loss: 1.2073 - accuracy: 0.9935 - val_loss: 1.2868 - val_accuracy: 0.8889\n",
            "Epoch 19/30\n",
            "39/39 [==============================] - 12s 297ms/step - loss: 1.1942 - accuracy: 0.9906 - val_loss: 1.2782 - val_accuracy: 0.8889\n",
            "Epoch 20/30\n",
            "39/39 [==============================] - 12s 298ms/step - loss: 1.1828 - accuracy: 0.9926 - val_loss: 1.2715 - val_accuracy: 0.8889\n",
            "Epoch 21/30\n",
            "39/39 [==============================] - 12s 295ms/step - loss: 1.1723 - accuracy: 0.9939 - val_loss: 1.2682 - val_accuracy: 0.8889\n",
            "Epoch 22/30\n",
            "39/39 [==============================] - 11s 293ms/step - loss: 1.1619 - accuracy: 0.9935 - val_loss: 1.2541 - val_accuracy: 0.8889\n",
            "Epoch 23/30\n",
            "39/39 [==============================] - 12s 295ms/step - loss: 1.1528 - accuracy: 0.9943 - val_loss: 1.2419 - val_accuracy: 0.8889\n",
            "Epoch 24/30\n",
            "39/39 [==============================] - 12s 299ms/step - loss: 1.1437 - accuracy: 0.9947 - val_loss: 1.2301 - val_accuracy: 0.8889\n",
            "Epoch 25/30\n",
            "39/39 [==============================] - 12s 297ms/step - loss: 1.1354 - accuracy: 0.9947 - val_loss: 1.2232 - val_accuracy: 0.8889\n",
            "Epoch 26/30\n",
            "39/39 [==============================] - 12s 298ms/step - loss: 1.1244 - accuracy: 0.9951 - val_loss: 1.2195 - val_accuracy: 0.8889\n",
            "Epoch 27/30\n",
            "39/39 [==============================] - 12s 296ms/step - loss: 1.1153 - accuracy: 0.9963 - val_loss: 1.2169 - val_accuracy: 0.8889\n",
            "Epoch 28/30\n",
            "39/39 [==============================] - 12s 301ms/step - loss: 1.1089 - accuracy: 0.9963 - val_loss: 1.2178 - val_accuracy: 0.8889\n",
            "Epoch 29/30\n",
            "39/39 [==============================] - 12s 296ms/step - loss: 1.1032 - accuracy: 0.9939 - val_loss: 1.2188 - val_accuracy: 0.8889\n",
            "Epoch 30/30\n",
            "39/39 [==============================] - 12s 298ms/step - loss: 1.0967 - accuracy: 0.9971 - val_loss: 1.2194 - val_accuracy: 0.8889\n"
          ],
          "name": "stdout"
        },
        {
          "output_type": "stream",
          "text": [
            "WARNING:absl:Function `_wrapped_model` contains input name(s) mobilenetv2_1.00_224_input with unsupported characters which will be renamed to mobilenetv2_1_00_224_input in the SavedModel.\n"
          ],
          "name": "stderr"
        },
        {
          "output_type": "stream",
          "text": [
            "INFO:tensorflow:Assets written to: /content/drive/My Drive/Plastic_classification_pb/5/assets\n"
          ],
          "name": "stdout"
        },
        {
          "output_type": "stream",
          "text": [
            "INFO:tensorflow:Assets written to: /content/drive/My Drive/Plastic_classification_pb/5/assets\n",
            "/usr/local/lib/python3.7/dist-packages/keras/utils/generic_utils.py:497: CustomMaskWarning: Custom mask layers require a config and must override get_config. When loading, the custom mask layer must be passed to the custom_objects argument.\n",
            "  category=CustomMaskWarning)\n"
          ],
          "name": "stderr"
        },
        {
          "output_type": "stream",
          "text": [
            "1/1 [==============================] - 0s 33ms/step - loss: 1.0844 - accuracy: 1.0000\n",
            "Mobile Net V2 Evaluate Score for fold 5: [loss of 1.084], [accuracy of 100.0%]\n"
          ],
          "name": "stdout"
        }
      ]
    },
    {
      "cell_type": "code",
      "metadata": {
        "id": "Ud_CM-loLqo7",
        "colab": {
          "base_uri": "https://localhost:8080/"
        },
        "outputId": "88e93779-11f3-4e3c-aa0b-e6e5a0afeb4a"
      },
      "source": [
        "# == Provide average scores ==\n",
        "print('--------------Mobile Net V2--------------')\n",
        "print('각 fold 당 성능')\n",
        "for i in range(0, len(d121_acc_per_fold)):\n",
        "  print('------------------------------------------------------------------------')\n",
        "  print(f'> 폴드 {i+1}의 - Loss: {round(d121_loss_per_fold[i],3)} - Accuracy: {round(d121_acc_per_fold[i],3)}%')\n",
        "print('------------------------------------------------------------------------')\n",
        "print('모든 폴드들의 평균 성능:')\n",
        "print(f'> Accuracy: {round(np.mean(d121_acc_per_fold),3)} (+- {round(np.std(d121_acc_per_fold),2)})')\n",
        "print(f'> Loss: {round(np.mean(d121_loss_per_fold),2)}')\n",
        "print(f'> class error : {round(np.mean(sss),2)}%')\n",
        "print(f'> top 1 error : {round(np.mean(d121_t1),2)}%')\n",
        "print(f'> top 2 error : {round(np.mean(d121_t2),2)}%')\n",
        "print(f'> top 3 error : {round(np.mean(d121_t3),2)}%')"
      ],
      "execution_count": null,
      "outputs": [
        {
          "output_type": "stream",
          "text": [
            "--------------Mobile Net V2--------------\n",
            "각 fold 당 성능\n",
            "------------------------------------------------------------------------\n",
            "> 폴드 1의 - Loss: 1.176 - Accuracy: 0.889%\n",
            "------------------------------------------------------------------------\n",
            "> 폴드 2의 - Loss: 1.162 - Accuracy: 0.833%\n",
            "------------------------------------------------------------------------\n",
            "> 폴드 3의 - Loss: 1.062 - Accuracy: 1.0%\n",
            "------------------------------------------------------------------------\n",
            "> 폴드 4의 - Loss: 1.094 - Accuracy: 0.889%\n",
            "------------------------------------------------------------------------\n",
            "> 폴드 5의 - Loss: 1.084 - Accuracy: 1.0%\n",
            "------------------------------------------------------------------------\n",
            "모든 폴드들의 평균 성능:\n",
            "> Accuracy: 0.922 (+- 0.07)\n",
            "> Loss: 1.12\n",
            "> class error : 6.67%\n",
            "> top 1 error : 7.78%\n",
            "> top 2 error : 3.34%\n",
            "> top 3 error : 1.12%\n"
          ],
          "name": "stdout"
        }
      ]
    },
    {
      "cell_type": "code",
      "metadata": {
        "id": "YreR_PDkoUgA"
      },
      "source": [
        "class_names=['PP','PET','PS','HDPE','LDPE']\n",
        "num_class = len(class_names)\n",
        "\n",
        "model1 = tf.keras.Sequential([\n",
        "tf.keras.applications.MobileNetV2(weights='imagenet',input_shape=(224,224,3),pooling=None,classes=1000), tf.keras.layers.Dense(500,activation='relu'), tf.keras.layers.Dense(50,activation='relu'), tf.keras.layers.Dense(num_class,activation='softmax',activity_regularizer = tf.keras.regularizers.l1(0.04))\n",
        "])\n",
        "#import pre-trained weight\n",
        "checkpoint_path =\"/content/drive/My Drive/Plastic_classification_weight1/cp.ckpt\"\n",
        "model1.load_weights(checkpoint_path)\n",
        "\n",
        "from PIL import Image\n",
        "fpaths = '/content/drive/MyDrive/type_2021/PET/2021_05_21_17_43_45_PS_PS.jpg'\n",
        "m = 224\n",
        "n = 224\n",
        "label = 'PET'\n",
        "img_array = []\n",
        "lab_array = []\n",
        "\n",
        "# print(fname)  \n",
        "img = Image.open(fpaths).convert('RGB')\n",
        "print(img.size)\n",
        "img = img.resize((m, n))\n",
        "print(img.size)\n",
        "img_array.append(np.asarray(img))\n",
        "#print(img_array.shape)\n",
        "lab_array.append(label)\n",
        "\n",
        "images = np.array(img_array)\n",
        "labels = np.array(lab_array)\n",
        "\n",
        "images = images.astype(np.float32) /255.\n",
        "\n",
        "\n",
        "\n",
        "#predict\n",
        "preds = model.predict(images)\n",
        "print(preds)\n",
        "print(np.argmax(preds))\n",
        "print(class_names[np.argmax(preds)],np.max(preds))"
      ],
      "execution_count": null,
      "outputs": []
    }
  ]
}