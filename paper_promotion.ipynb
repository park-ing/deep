{
  "nbformat": 4,
  "nbformat_minor": 0,
  "metadata": {
    "colab": {
      "name": "paper_promotion.ipynb",
      "provenance": [],
      "collapsed_sections": [],
      "machine_shape": "hm"
    },
    "kernelspec": {
      "name": "python3",
      "display_name": "Python 3"
    },
    "accelerator": "GPU"
  },
  "cells": [
    {
      "cell_type": "code",
      "metadata": {
        "id": "WG5c8fZECyIA"
      },
      "source": [
        "import os\n",
        "from PIL import Image\n",
        "import tensorflow as tf\n",
        "import cv2 as cv\n",
        "from tensorflow import keras\n",
        "from matplotlib import image\n",
        "from matplotlib import pyplot as plt\n",
        "import torch \n",
        "import pandas as pd\n",
        "from torch.utils.data import Dataset, DataLoader\n",
        "import numpy as np\n",
        "import torchvision\n",
        "from torchvision import transforms\n",
        "from glob import glob\n",
        "import random"
      ],
      "execution_count": null,
      "outputs": []
    },
    {
      "cell_type": "code",
      "metadata": {
        "colab": {
          "base_uri": "https://localhost:8080/"
        },
        "id": "7cSW-uLZu6O_",
        "outputId": "08bcf03b-1e90-4c88-a46d-ebdf16268d08"
      },
      "source": [
        "from google.colab import drive\n",
        "drive.mount('/content/drive')"
      ],
      "execution_count": null,
      "outputs": [
        {
          "output_type": "stream",
          "text": [
            "Mounted at /content/drive\n"
          ],
          "name": "stdout"
        }
      ]
    },
    {
      "cell_type": "code",
      "metadata": {
        "id": "di55ZQwgu5dg"
      },
      "source": [
        "type0_list = glob('/content/drive/My Drive/A4_pro/Paper/*.jpg')\n",
        "type1_list = glob('/content/drive/My Drive/A4_pro/Promotion/*.jpg')\n"
      ],
      "execution_count": null,
      "outputs": []
    },
    {
      "cell_type": "code",
      "metadata": {
        "id": "Qag77Wphu77S"
      },
      "source": [
        "balance = min(len(type0_list),len(type1_list))"
      ],
      "execution_count": null,
      "outputs": []
    },
    {
      "cell_type": "code",
      "metadata": {
        "id": "a17OcF-ou-UR"
      },
      "source": [
        "index_0 = []\n",
        "index_1 = []\n",
        "# index_5 = []\n",
        "for i in range((balance)):\n",
        "  # if i not in index_0\n",
        "  index_0.append(type0_list[random.randint(0,len(type0_list)-1)])\n",
        "  index_1.append(type1_list[random.randint(0,len(type1_list)-1)])\n",
        "  # index_5.append(type5_list[random.randint(0,len(type5_list)-1)])"
      ],
      "execution_count": null,
      "outputs": []
    },
    {
      "cell_type": "code",
      "metadata": {
        "id": "oCzcDeAGvAyT"
      },
      "source": [
        "def img_to_np(fpaths,label,m,n,resize=True):  \n",
        "    img_array = []\n",
        "    lab_array = []\n",
        "    for fname in fpaths:\n",
        "      try:\n",
        "        # print(fname)\n",
        "        img = Image.open(fname).convert('RGB')\n",
        "        if(resize): img = img.resize((m, n))\n",
        "        img_array.append(np.asarray(img))\n",
        "        lab_array.append(label)\n",
        "      except:\n",
        "        continue\n",
        "    images = np.array(img_array)\n",
        "    labels = np.array(lab_array)\n",
        "    return images, labels"
      ],
      "execution_count": null,
      "outputs": []
    },
    {
      "cell_type": "code",
      "metadata": {
        "id": "v13rc3MSvCan"
      },
      "source": [
        "img_type0,lab_type0 = img_to_np(index_0,0,224,224)\n",
        "img_type0 = img_type0.astype(np.float32)/ 255.\n",
        "\n",
        "img_type1,lab_type1 = img_to_np(index_1,1,224,224)\n",
        "img_type1 = img_type1.astype(np.float32)/ 255.\n"
      ],
      "execution_count": null,
      "outputs": []
    },
    {
      "cell_type": "code",
      "metadata": {
        "id": "P7IJOImawDul"
      },
      "source": [
        "class_names=['Paper','Promotion']\n",
        "# class_names=['bottle','can','plastic','trasnparanet plastic','vinyl','steel']\n",
        "num_class = len(class_names)"
      ],
      "execution_count": null,
      "outputs": []
    },
    {
      "cell_type": "code",
      "metadata": {
        "id": "L6NTflMwDOmL",
        "colab": {
          "base_uri": "https://localhost:8080/",
          "height": 35
        },
        "outputId": "104971d2-2c3a-448f-bfdc-f1a7cfee1b61"
      },
      "source": [
        "'''\n",
        "m=224\n",
        "n=224\n",
        "trans = transforms.Compose([transforms.Resize((m,n)),transforms.ToTensor()])\n",
        "trainset = torchvision.datasets.ImageFolder(root=\"/content/drive/My Drive/Plastic IMAGE\",transform=trans)\n",
        "'''"
      ],
      "execution_count": null,
      "outputs": [
        {
          "output_type": "execute_result",
          "data": {
            "application/vnd.google.colaboratory.intrinsic+json": {
              "type": "string"
            },
            "text/plain": [
              "'\\nm=224\\nn=224\\ntrans = transforms.Compose([transforms.Resize((m,n)),transforms.ToTensor()])\\ntrainset = torchvision.datasets.ImageFolder(root=\"/content/drive/My Drive/Plastic IMAGE\",transform=trans)\\n'"
            ]
          },
          "metadata": {
            "tags": []
          },
          "execution_count": 11
        }
      ]
    },
    {
      "cell_type": "code",
      "metadata": {
        "id": "ScCcPlGNDyor",
        "colab": {
          "base_uri": "https://localhost:8080/",
          "height": 35
        },
        "outputId": "682ecd91-8271-4e49-c8a1-b33bc3256b6e"
      },
      "source": [
        "'''\n",
        "trainloader = DataLoader(trainset,batch_size=len(trainset))\n",
        "# trainloader = DataLoader(trainset,batch_size=5)\n",
        "'''"
      ],
      "execution_count": null,
      "outputs": [
        {
          "output_type": "execute_result",
          "data": {
            "application/vnd.google.colaboratory.intrinsic+json": {
              "type": "string"
            },
            "text/plain": [
              "'\\ntrainloader = DataLoader(trainset,batch_size=len(trainset))\\n# trainloader = DataLoader(trainset,batch_size=5)\\n'"
            ]
          },
          "metadata": {
            "tags": []
          },
          "execution_count": 12
        }
      ]
    },
    {
      "cell_type": "code",
      "metadata": {
        "id": "XevlInIHFMSd",
        "colab": {
          "base_uri": "https://localhost:8080/",
          "height": 35
        },
        "outputId": "82c3b63d-a5d4-490f-b626-1a61b76027ba"
      },
      "source": [
        "'''\n",
        "dataiter= iter(trainloader)\n",
        "images,labels = dataiter.next()\n",
        "'''"
      ],
      "execution_count": null,
      "outputs": [
        {
          "output_type": "execute_result",
          "data": {
            "application/vnd.google.colaboratory.intrinsic+json": {
              "type": "string"
            },
            "text/plain": [
              "'\\ndataiter= iter(trainloader)\\nimages,labels = dataiter.next()\\n'"
            ]
          },
          "metadata": {
            "tags": []
          },
          "execution_count": 13
        }
      ]
    },
    {
      "cell_type": "code",
      "metadata": {
        "id": "tsNPEXVm4eMe",
        "colab": {
          "base_uri": "https://localhost:8080/",
          "height": 35
        },
        "outputId": "486b6a1a-82ff-4462-e615-bf4687417303"
      },
      "source": [
        "'''\n",
        "IMG=images\n",
        "img= np.zeros((len(IMG),m,n,3))\n",
        "for i in range(len(IMG)):\n",
        "  img[i]=np.asarray(IMG[i].T)\n",
        "'''"
      ],
      "execution_count": null,
      "outputs": [
        {
          "output_type": "execute_result",
          "data": {
            "application/vnd.google.colaboratory.intrinsic+json": {
              "type": "string"
            },
            "text/plain": [
              "'\\nIMG=images\\nimg= np.zeros((len(IMG),m,n,3))\\nfor i in range(len(IMG)):\\n  img[i]=np.asarray(IMG[i].T)\\n'"
            ]
          },
          "metadata": {
            "tags": []
          },
          "execution_count": 14
        }
      ]
    },
    {
      "cell_type": "code",
      "metadata": {
        "id": "bXHSvy8Ae7kJ"
      },
      "source": [
        "def noisy(noise_typ,image):\n",
        "   if noise_typ == \"gauss\":\n",
        "      row,col,ch= image.shape\n",
        "      mean = 0\n",
        "      var = 0.1\n",
        "      sigma = var**0.5\n",
        "      gauss = np.random.normal(mean,sigma,(row,col,ch))\n",
        "      gauss = gauss.reshape(row,col,ch)\n",
        "      noisy = image + gauss\n",
        "      return noisy\n",
        "      \n",
        "   elif noise_typ == \"s\":\n",
        "      row,col,ch = image.shape\n",
        "      s_vs_p = 0.5\n",
        "      amount = 0.004\n",
        "      out = np.copy(image)\n",
        "      # Salt mode\n",
        "      num_salt = np.ceil(amount * image.size * s_vs_p)\n",
        "      coords = [np.random.randint(0, i - 1, int(num_salt)) for i in image.shape]\n",
        "      out[coords] = 1\n",
        "      return out\n",
        "\n",
        "   elif noise_typ ==\"p\":\n",
        "      row,col,ch = image.shape\n",
        "      s_vs_p = 0.5\n",
        "      amount = 0.004\n",
        "      out = np.copy(image)\n",
        "      # Pepper mode\n",
        "      num_pepper = np.ceil(amount* image.size * (1. - s_vs_p))\n",
        "      coords = [np.random.randint(0, i - 1, int(num_pepper))for i in image.shape]\n",
        "      out[coords] = 0\n",
        "      return out\n",
        "\n",
        "   elif noise_typ == \"poisson\":\n",
        "      vals = len(np.unique(image))\n",
        "      vals = 2 ** np.ceil(np.log2(vals))\n",
        "      noisy = np.random.poisson(image * vals)\n",
        "      return noisy\n",
        "\n",
        "   elif noise_typ ==\"speckle\":\n",
        "      row,col,ch = image.shape\n",
        "      gauss = np.random.randn(row,col,ch)\n",
        "      gauss = gauss.reshape(row,col,ch)        \n",
        "      noisy = image + image * gauss\n",
        "      return noisy"
      ],
      "execution_count": null,
      "outputs": []
    },
    {
      "cell_type": "code",
      "metadata": {
        "id": "9XP98UI5NoqZ"
      },
      "source": [
        "def make_image_array(IMG,label):\n",
        "  imagess=[]\n",
        "  image_label=[]\n",
        "  #IMG=np.asarray(IMG)\n",
        "  for i in range(len(IMG)):\n",
        "    img=IMG[i]\n",
        "    flipped = tf.image.flip_left_right(img)\n",
        "    rotated90 = tf.image.rot90(img)\n",
        "    rotated180 = tf.image.rot90(rotated90)\n",
        "    rotated270 = tf.image.rot90(rotated180)\n",
        "    gauss = noisy('gauss',img)\n",
        "    s = noisy('s',img)\n",
        "    p = noisy('p',img)\n",
        "    # poisson = noisy('poisson',img)\n",
        "    speckel = noisy('speckle',img)\n",
        "    cropped = tf.image.central_crop(img, central_fraction=0.85)\n",
        "    cropped1 = tf.image.central_crop(img, central_fraction=0.9)\n",
        "    cropped2 = tf.image.central_crop(img, central_fraction=0.95)\n",
        "    #grayscaled = tf.image.rgb_to_grayscale(img)\n",
        "    saturated = tf.image.adjust_saturation(img, 3)\n",
        "    saturated1 = tf.image.adjust_saturation(img, 2)\n",
        "    bright = tf.image.adjust_brightness(img, 0.4)\n",
        "    bright1 = tf.image.adjust_brightness(img, 0.6)\n",
        "    bright2 = tf.image.adjust_brightness(img, 0.8)\n",
        "    \n",
        "    # img=cv.cvtColor(img,cv.COLOR_BGR2GRAY)\n",
        "    # flipped=cv.cvtColor(np.float32(flipped),cv.COLOR_BGR2GRAY)\n",
        "    # rotated90 = cv.cvtColor(np.float32(rotated90),cv.COLOR_BGR2GRAY)\n",
        "    # rotated180 = cv.cvtColor(np.float32(rotated180),cv.COLOR_BGR2GRAY)\n",
        "    # rotated270 = cv.cvtColor(np.float32(rotated270),cv.COLOR_BGR2GRAY)\n",
        "    # cropped = cv.cvtColor(np.float32(cropped),cv.COLOR_BGR2GRAY)\n",
        "    # cropped1 = cv.cvtColor(np.float32(cropped1),cv.COLOR_BGR2GRAY)\n",
        "    # cropped2 = cv.cvtColor(np.float32(cropped2),cv.COLOR_BGR2GRAY)    \n",
        "    \n",
        "    # gauss=cv.resize(np.float32(gauss),(m,n), interpolation=cv.INTER_AREA)\n",
        "    # # sp=cv.resize(np.float32(sp),(m,n), interpolation=cv.INTER_AREA)\n",
        "    # speckel=cv.resize(np.float32(speckel),(m,n), interpolation=cv.INTER_AREA)\n",
        "    m = 224\n",
        "    n = 224\n",
        "    cropped=cv.resize(np.float32(cropped),(m,n), interpolation=cv.INTER_AREA)\n",
        "    cropped1=cv.resize(np.float32(cropped1),(m,n), interpolation=cv.INTER_AREA)\n",
        "    cropped2=cv.resize(np.float32(cropped2),(m,n), interpolation=cv.INTER_AREA)\n",
        "\n",
        "    imagess.append(np.float32(img))\n",
        "    imagess.append(np.float32(flipped))\n",
        "    imagess.append(np.float32(rotated90))\n",
        "    imagess.append(np.float32(rotated180))\n",
        "    imagess.append(np.float32(rotated270))\n",
        "    imagess.append(np.float32(gauss))\n",
        "    imagess.append(np.float32(s))\n",
        "    imagess.append(np.float32(p))\n",
        "    # imagess.append(poisson)\n",
        "    imagess.append(np.float32(speckel))\n",
        "    imagess.append(np.float32(cropped))\n",
        "    imagess.append(np.float32(cropped1))\n",
        "    imagess.append(np.float32(cropped2))\n",
        "    #images.append(grayscaled)\n",
        "    imagess.append(np.float32(saturated))\n",
        "    imagess.append(np.float32(saturated1))\n",
        "    imagess.append(np.float32(bright))\n",
        "    imagess.append(np.float32(bright1))\n",
        "    imagess.append(np.float32(bright2))\n",
        "    \n",
        "    l = label[i]\n",
        "    for j in range(17):\n",
        "      image_label.append(l)\n",
        "  return np.asarray(imagess), np.asarray(image_label)"
      ],
      "execution_count": null,
      "outputs": []
    },
    {
      "cell_type": "code",
      "metadata": {
        "id": "6e74lH-wp9pn",
        "colab": {
          "base_uri": "https://localhost:8080/",
          "height": 52
        },
        "outputId": "ae6c4664-52c7-451c-fd0b-fcfad646b8ec"
      },
      "source": [
        "'''\n",
        "class_names=['pet','Yo','Ya','sam','cont','lead','deter']\n",
        "num_class = len(class_names)\n",
        "\n",
        "pe1=0\n",
        "pe2=0\n",
        "pe3=0\n",
        "pp1=0\n",
        "pp2=0\n",
        "#pp3=0\n",
        "ps1=0\n",
        "ps2=0\n",
        "\n",
        "for i in range(len(labels)):\n",
        "  if labels[i]==0:\n",
        "    pe1+=1\n",
        "  if labels[i]==3:\n",
        "    pe2+=1\n",
        "  if labels[i]==6:\n",
        "    pe3+=1\n",
        "  if labels[i]==1:\n",
        "    pp1+=1\n",
        "  if labels[i]==4:\n",
        "    pp2+=1\n",
        " # if labels[i]==5:\n",
        " #   pp3+=1\n",
        "  if labels[i]==2:\n",
        "    ps1+=1\n",
        "  if labels[i]==5:\n",
        "    ps2+=1\n",
        "'''"
      ],
      "execution_count": null,
      "outputs": [
        {
          "output_type": "execute_result",
          "data": {
            "application/vnd.google.colaboratory.intrinsic+json": {
              "type": "string"
            },
            "text/plain": [
              "\"\\nclass_names=['pet','Yo','Ya','sam','cont','lead','deter']\\nnum_class = len(class_names)\\n\\npe1=0\\npe2=0\\npe3=0\\npp1=0\\npp2=0\\n#pp3=0\\nps1=0\\nps2=0\\n\\nfor i in range(len(labels)):\\n  if labels[i]==0:\\n    pe1+=1\\n  if labels[i]==3:\\n    pe2+=1\\n  if labels[i]==6:\\n    pe3+=1\\n  if labels[i]==1:\\n    pp1+=1\\n  if labels[i]==4:\\n    pp2+=1\\n # if labels[i]==5:\\n #   pp3+=1\\n  if labels[i]==2:\\n    ps1+=1\\n  if labels[i]==5:\\n    ps2+=1\\n\""
            ]
          },
          "metadata": {
            "tags": []
          },
          "execution_count": 17
        }
      ]
    },
    {
      "cell_type": "code",
      "metadata": {
        "id": "kktUV143jqLc"
      },
      "source": [
        "#print(pe1,pe2,pe3,pp1,pp2,ps1,ps2)"
      ],
      "execution_count": null,
      "outputs": []
    },
    {
      "cell_type": "code",
      "metadata": {
        "id": "ZG57KJ9js1J3",
        "colab": {
          "base_uri": "https://localhost:8080/",
          "height": 86
        },
        "outputId": "d8c6da3f-0bfa-4f75-c819-69ad4e46fc9f"
      },
      "source": [
        "'''\n",
        "ind_pe1=[]\n",
        "ind_pe2=[]\n",
        "ind_pe3=[]\n",
        "ind_pp1=[]\n",
        "ind_pp2=[]\n",
        "ind_ps1=[]\n",
        "ind_ps2=[]\n",
        "\n",
        "min1 = min(pe1,pe2,pe3,pp1,pp2,ps1,ps2)\n",
        "\n",
        "while len(ind_pe1)<min1:\n",
        "  num = random.randint(0,pe1-1)\n",
        "  ind_pe1.append(num)\n",
        "\n",
        "while len(ind_pe2)<min1:\n",
        "  num = random.randint(0,pe2-1)\n",
        "  ind_pe2.append(num)\n",
        "\n",
        "while len(ind_pe3)<min1:\n",
        "  num = random.randint(0,pe3-1)\n",
        "  ind_pe3.append(num)\n",
        "\n",
        "while len(ind_pp1)<min1:\n",
        "  num = random.randint(0,pp1-1)\n",
        "  ind_pp1.append(num)\n",
        "\n",
        "while len(ind_pp2)<min1:\n",
        "  num = random.randint(0,pp2-1)\n",
        "  ind_pp2.append(num)\n",
        "\n",
        "while len(ind_ps1)<min1:\n",
        "  num = random.randint(0,ps1-1)\n",
        "  ind_ps1.append(num)\n",
        "\n",
        "while len(ind_ps2)<min1:\n",
        "  num = random.randint(0,ps2-1)\n",
        "  ind_ps2.append(num)\n",
        "\n",
        "'''"
      ],
      "execution_count": null,
      "outputs": [
        {
          "output_type": "execute_result",
          "data": {
            "application/vnd.google.colaboratory.intrinsic+json": {
              "type": "string"
            },
            "text/plain": [
              "'\\nind_pe1=[]\\nind_pe2=[]\\nind_pe3=[]\\nind_pp1=[]\\nind_pp2=[]\\nind_ps1=[]\\nind_ps2=[]\\n\\nmin1 = min(pe1,pe2,pe3,pp1,pp2,ps1,ps2)\\n\\nwhile len(ind_pe1)<min1:\\n  num = random.randint(0,pe1-1)\\n  ind_pe1.append(num)\\n\\nwhile len(ind_pe2)<min1:\\n  num = random.randint(0,pe2-1)\\n  ind_pe2.append(num)\\n\\nwhile len(ind_pe3)<min1:\\n  num = random.randint(0,pe3-1)\\n  ind_pe3.append(num)\\n\\nwhile len(ind_pp1)<min1:\\n  num = random.randint(0,pp1-1)\\n  ind_pp1.append(num)\\n\\nwhile len(ind_pp2)<min1:\\n  num = random.randint(0,pp2-1)\\n  ind_pp2.append(num)\\n\\nwhile len(ind_ps1)<min1:\\n  num = random.randint(0,ps1-1)\\n  ind_ps1.append(num)\\n\\nwhile len(ind_ps2)<min1:\\n  num = random.randint(0,ps2-1)\\n  ind_ps2.append(num)\\n\\n'"
            ]
          },
          "metadata": {
            "tags": []
          },
          "execution_count": 19
        }
      ]
    },
    {
      "cell_type": "code",
      "metadata": {
        "id": "CDZFq5kVuP8K",
        "colab": {
          "base_uri": "https://localhost:8080/",
          "height": 86
        },
        "outputId": "ae167e9f-e3e8-4120-f27f-525801c3c4f7"
      },
      "source": [
        "'''\n",
        "l1=pe1\n",
        "l2=l1+pp1\n",
        "l3=l2+ps1\n",
        "\n",
        "l4=l3+pe2\n",
        "l5=l4+pp2\n",
        "l6=l5+ps2\n",
        "\n",
        "l7=l6+pe3\n",
        "\n",
        "PE__1=img[0:l1]\n",
        "PP__1=img[l1:l2]\n",
        "PS__1=img[l2:l3]\n",
        "\n",
        "PE__2=img[l3:l4]\n",
        "PP__2=img[l4:l5]\n",
        "PS__2=img[l5:l6]\n",
        "\n",
        "PE__3=img[l6:l7]\n",
        "\n",
        "PE1_label=labels[0:l1]\n",
        "PP1_label=labels[l1:l2]\n",
        "PS1_label=labels[l2:l3]\n",
        "\n",
        "PE2_label=labels[l3:l4]\n",
        "PP2_label=labels[l4:l5]\n",
        "PS2_label=labels[l5:l6]\n",
        "\n",
        "PE3_label=labels[l6:l7]\n",
        "\n",
        "PE__1=PE__1[ind_pe1]\n",
        "PP__1=PP__1[ind_pp1]\n",
        "PS__1=PS__1[ind_ps1]\n",
        "\n",
        "PE__2=PE__2[ind_pe2]\n",
        "PP__2=PP__2[ind_pp2]\n",
        "PS__2=PS__2[ind_ps2]\n",
        "\n",
        "PE__3=PE__3[ind_pe3]\n",
        "\n",
        "PE1_label = PE1_label[ind_pe1]\n",
        "PP1_label = PP1_label[ind_pp1]\n",
        "PS1_label = PS1_label[ind_ps1]\n",
        "\n",
        "PE2_label = PE2_label[ind_pe2]\n",
        "PP2_label = PP2_label[ind_pp2]\n",
        "PS2_label = PS2_label[ind_ps2]\n",
        "\n",
        "PE3_label = PE3_label[ind_pe3]\n",
        "'''"
      ],
      "execution_count": null,
      "outputs": [
        {
          "output_type": "execute_result",
          "data": {
            "application/vnd.google.colaboratory.intrinsic+json": {
              "type": "string"
            },
            "text/plain": [
              "'\\nl1=pe1\\nl2=l1+pp1\\nl3=l2+ps1\\n\\nl4=l3+pe2\\nl5=l4+pp2\\nl6=l5+ps2\\n\\nl7=l6+pe3\\n\\nPE__1=img[0:l1]\\nPP__1=img[l1:l2]\\nPS__1=img[l2:l3]\\n\\nPE__2=img[l3:l4]\\nPP__2=img[l4:l5]\\nPS__2=img[l5:l6]\\n\\nPE__3=img[l6:l7]\\n\\nPE1_label=labels[0:l1]\\nPP1_label=labels[l1:l2]\\nPS1_label=labels[l2:l3]\\n\\nPE2_label=labels[l3:l4]\\nPP2_label=labels[l4:l5]\\nPS2_label=labels[l5:l6]\\n\\nPE3_label=labels[l6:l7]\\n\\nPE__1=PE__1[ind_pe1]\\nPP__1=PP__1[ind_pp1]\\nPS__1=PS__1[ind_ps1]\\n\\nPE__2=PE__2[ind_pe2]\\nPP__2=PP__2[ind_pp2]\\nPS__2=PS__2[ind_ps2]\\n\\nPE__3=PE__3[ind_pe3]\\n\\nPE1_label = PE1_label[ind_pe1]\\nPP1_label = PP1_label[ind_pp1]\\nPS1_label = PS1_label[ind_ps1]\\n\\nPE2_label = PE2_label[ind_pe2]\\nPP2_label = PP2_label[ind_pp2]\\nPS2_label = PS2_label[ind_ps2]\\n\\nPE3_label = PE3_label[ind_pe3]\\n'"
            ]
          },
          "metadata": {
            "tags": []
          },
          "execution_count": 20
        }
      ]
    },
    {
      "cell_type": "code",
      "metadata": {
        "id": "GLywP0lJfHhX"
      },
      "source": [
        "def l_s(initial_learning_rate,step):\n",
        "  lr = tf.keras.optimizers.schedules.ExponentialDecay(\n",
        "      initial_learning_rate,\n",
        "      decay_steps=5,\n",
        "      decay_rate=0.99,\n",
        "      staircase=True)\n",
        "  return lr"
      ],
      "execution_count": null,
      "outputs": []
    },
    {
      "cell_type": "code",
      "metadata": {
        "id": "eDnBadxr5Gm3"
      },
      "source": [
        "def Top_K_accuracy_for_k_fold(model,Test_images,Test_labels,j,history):\n",
        "  top1 = 0.0\n",
        "  top2 = 0.0\n",
        "  top3 = 0.0\n",
        "  # top4 = 0.0\n",
        "  # top5 = 0.0    \n",
        "  class_probs = model.predict(Test_images)\n",
        "  for i, l in enumerate(Test_labels):\n",
        "      class_prob = class_probs[i]\n",
        "      \n",
        "      top_values1 = (-class_prob).argsort()[:1]\n",
        "      top_values2 = (-class_prob).argsort()[:2]\n",
        "      top_values3 = (-class_prob).argsort()[:3]\n",
        "      # top_values4 = (-class_prob).argsort()[:4]\n",
        "      # top_values5 = (-class_prob).argsort()[:5]\n",
        "      \n",
        "      if np.isin(np.array([l]), top_values1):\n",
        "          top1 += 1.0\n",
        "      if np.isin(np.array([l]), top_values2):\n",
        "          top2 += 1.0    \n",
        "      if np.isin(np.array([l]), top_values3):\n",
        "          top3 += 1.0\n",
        "      # if np.isin(np.array([l]), top_values4):\n",
        "      #     top4 += 1.0    \n",
        "      # if np.isin(np.array([l]), top_values5):\n",
        "      #     top5 += 1.0\n",
        "\n",
        "  TT1=round((1-top1/len(Test_labels))*100,1)\n",
        "  TT2=round((1-top2/len(Test_labels))*100,1)\n",
        "  TT3=round((1-top3/len(Test_labels))*100,1)\n",
        "  # TT4=round((1-top4/len(Test_labels))*100,1)\n",
        "  # TT5=round((1-top5/len(Test_labels))*100,1)\n",
        "\n",
        "  return TT1,TT2,TT3"
      ],
      "execution_count": null,
      "outputs": []
    },
    {
      "cell_type": "code",
      "metadata": {
        "id": "ggmK2m-YALyH"
      },
      "source": [
        "def Signal_for_k_fold(predictions,Test_labels):\n",
        "  Volume_label=[]\n",
        "  for i in range(len(predictions)):\n",
        "    if np.argmax(predictions[i])%3==0:\n",
        "      Volume_label.append(0)\n",
        "    if np.argmax(predictions[i])%3==1:\n",
        "      Volume_label.append(1)\n",
        "    if np.argmax(predictions[i])%3==2:\n",
        "      Volume_label.append(2)\n",
        "    \n",
        "      \n",
        "  True_label=[]\n",
        "  for i in range(len(predictions)):\n",
        "    if (Test_labels[i])%3==0:\n",
        "      True_label.append(0)\n",
        "    if (Test_labels[i])%3==1:\n",
        "      True_label.append(1)\n",
        "    if (Test_labels[i])%3==2:\n",
        "      True_label.append(2)\n",
        "    \n",
        "  count =0\n",
        "  for i in range(len(predictions)):\n",
        "    if Volume_label[i] == True_label[i]:\n",
        "      count+=1\n",
        "\n",
        "  return 100-((count/len(predictions))*100)"
      ],
      "execution_count": null,
      "outputs": []
    },
    {
      "cell_type": "code",
      "metadata": {
        "id": "r5YVfVsvfJSj"
      },
      "source": [
        "def Top_K_accuracy(model,Test_images,Test_labels,j,history):\n",
        "  top1 = 0.0\n",
        "  top2 = 0.0\n",
        "  top3 = 0.0\n",
        "  top4 = 0.0\n",
        "  top5 = 0.0    \n",
        "  class_probs = model.predict(Test_images)\n",
        "  for i, l in enumerate(Test_labels):\n",
        "      class_prob = class_probs[i]\n",
        "      \n",
        "      top_values1 = (-class_prob).argsort()[:1]\n",
        "      top_values2 = (-class_prob).argsort()[:2]\n",
        "      top_values3 = (-class_prob).argsort()[:3]\n",
        "      top_values4 = (-class_prob).argsort()[:4]\n",
        "      top_values5 = (-class_prob).argsort()[:5]\n",
        "      \n",
        "      if np.isin(np.array([l]), top_values1):\n",
        "          top1 += 1.0\n",
        "      if np.isin(np.array([l]), top_values2):\n",
        "          top2 += 1.0    \n",
        "      if np.isin(np.array([l]), top_values3):\n",
        "          top3 += 1.0\n",
        "      if np.isin(np.array([l]), top_values4):\n",
        "          top4 += 1.0    \n",
        "      if np.isin(np.array([l]), top_values5):\n",
        "          top5 += 1.0\n",
        "\n",
        "  plt.plot(history.history['accuracy'])\n",
        "  plt.plot(history.history['val_accuracy'])\n",
        "  plt.title('{} model accuracy'.format(j),color='w')\n",
        "  plt.ylabel('accuracy',color='w')\n",
        "  plt.xlabel('epoch',color='w')\n",
        "  plt.legend(['train', 'valid'], loc='upper left')\n",
        "  plt.show()\n",
        "\n",
        "  plt.plot(history.history['loss'])\n",
        "  plt.plot(history.history['val_loss'])\n",
        "  plt.title('{} model loss'.format(j),color='w')\n",
        "  plt.ylabel('loss',color='w')\n",
        "  plt.xlabel('epoch',color='w')\n",
        "  plt.legend(['train', 'valid'], loc='upper left')\n",
        "  plt.show()\n",
        "  \n",
        "  # print(j)\n",
        "  # print(\"top1 error\", round((1-top1/len(Test_labels))*100,1),'%')\n",
        "  # print(\"top2 error\", round((1-top2/len(Test_labels))*100,1),'%')\n",
        "  # print(\"top3 error\", round((1-top3/len(Test_labels))*100,1),'%')\n",
        "  # print(\"top4 error\", round((1-top4/len(Test_labels))*100,1),'%')\n",
        "  # print(\"top5 error\", round((1-top5/len(Test_labels))*100,1),'%')\n",
        "  print('\\n')  "
      ],
      "execution_count": null,
      "outputs": []
    },
    {
      "cell_type": "code",
      "metadata": {
        "id": "GFcTgTs8DNl2"
      },
      "source": [
        "def SHOW_ME(model,Test_images,Test_labels):\n",
        "  predictions = model.predict(Test_images)  \n",
        "  A,B = Signal(predictions,Test_labels)\n",
        "  num_rows = 6\n",
        "  num_cols = 1\n",
        "  num_images = num_rows*num_cols\n",
        "  idx = np.random.randint(0,len(Test_labels),size=num_images)\n",
        "  plt.figure(figsize=(15, 20))\n",
        "\n",
        "  for i in range(num_images):\n",
        "    plt.subplot(num_rows, 3*num_cols, 3*i+1)\n",
        "    plot_image(idx[i], predictions, Test_labels, Test_images)\n",
        "\n",
        "    if np.argmax(predictions[idx[i]])%3 ==0:\n",
        "      plt.subplot(num_rows, 3*num_cols, 3*i+2)\n",
        "      plt.grid(False)\n",
        "      plt.xticks([])\n",
        "      plt.yticks([])\n",
        "      plt.title('Prediction')\n",
        "      img = cv.imread(\"PE1.png\")\n",
        "      plt.imshow(img[:,:,::-1])\n",
        "\n",
        "    if np.argmax(predictions[idx[i]])%3 ==1:\n",
        "      plt.subplot(num_rows, 3*num_cols, 3*i+2)\n",
        "      plt.grid(False)\n",
        "      plt.xticks([])\n",
        "      plt.yticks([])\n",
        "      plt.title('Prediction')\n",
        "      img = cv.imread(\"PP1.png\")\n",
        "      plt.imshow(img[:,:,::-1])\n",
        "\n",
        "\n",
        "    if np.argmax(predictions[idx[i]])%3 ==2:\n",
        "      plt.subplot(num_rows, 3*num_cols, 3*i+2)\n",
        "      plt.grid(False)\n",
        "      plt.xticks([])\n",
        "      plt.yticks([])\n",
        "      plt.title('Prediction')\n",
        "      img = cv.imread(\"PS1.png\")\n",
        "      plt.imshow(img[:,:,::-1])\n",
        "\n",
        "    plt.subplot(num_rows, 3*num_cols, 3*i+3)\n",
        "    plot_value_array(idx[i], predictions, Test_labels)\n",
        "  plt.show()"
      ],
      "execution_count": null,
      "outputs": []
    },
    {
      "cell_type": "code",
      "metadata": {
        "id": "HClVzJNxCnkO"
      },
      "source": [
        "def determine(true_label):\n",
        "  LAST_label=int(true_label)%5\n",
        "  if LAST_label==0:\n",
        "    LAST_label='Paper'\n",
        "  if LAST_label==1:\n",
        "    LAST_label='Promotion'\n",
        "\n",
        "  return LAST_label\n",
        "\n",
        "def C(t,p):\n",
        "  if determine(t) == determine(p):\n",
        "    c='k'\n",
        "  else:\n",
        "    c='red'\n",
        "  return c\n",
        "\n",
        "def plot_image(i, predictions_array, true_label, img):\n",
        "  predictions_array, true_label, img = predictions_array[i], true_label[i], img[i]\n",
        "  plt.grid(False)\n",
        "  plt.xticks([])\n",
        "  plt.yticks([])\n",
        "  \n",
        "  \n",
        "  img = cv.flip(img,1)\n",
        "  rotated90 = tf.image.rot90(img)\n",
        "\n",
        "  teeee = np.float32(rotated90)\n",
        "  Rectangle = cv.rectangle(teeee,(7,7),(217,217),(0,255,0),3)\n",
        "  plt.imshow(Rectangle[:,:,::-1])\n",
        "  \n",
        "\n",
        "  predicted_label = np.argmax(predictions_array)\n",
        "  \n",
        "\n",
        "  if predicted_label==true_label:\n",
        "    color = 'k'\n",
        "  else:\n",
        "    color = 'red' \n",
        "  \n",
        "  A=predictions_array[0]+predictions_array[3]+predictions_array[6]\n",
        "  B=predictions_array[1]+predictions_array[4]\n",
        "  C=predictions_array[2]+predictions_array[5]\n",
        "\n",
        "  if np.argmax(predictions_array)%3 ==0:\n",
        "    acc = A\n",
        "  if np.argmax(predictions_array)%3 ==1:\n",
        "    acc = B\n",
        "  if np.argmax(predictions_array)%3 ==2:\n",
        "    acc = C  \n",
        "  # plt.title(\"P : {} {:2.0f}% ( T : {})\".format(class_names[predicted_label],\n",
        "  #                               100*acc,\n",
        "  #                               class_names[int(true_label)]),color=color, fontsize=9)\n",
        "  plt.title('Real Image')\n",
        "def plot_value_array(i, predictions_array, true_label):\n",
        "  predictions_array, true_label = predictions_array[i], true_label[i]\n",
        "  plt.grid(False)\n",
        "  plt.xticks([])\n",
        "  plt.yticks([])\n",
        "  D=[]\n",
        "  A=predictions_array[0]+predictions_array[3]+predictions_array[6]\n",
        "  B=predictions_array[1]+predictions_array[4]\n",
        "  C=predictions_array[2]+predictions_array[5]\n",
        "  D.append(A)\n",
        "  D.append(B)\n",
        "  D.append(C)\n",
        "  # thisplot = plt.bar(range(3), D,tick_label=['PE','PP','PS'])\n",
        "  \n",
        "  thisplot = plt.bar(range(num_class),predictions_array,tick_label=['PP','PET','PS','HDPE','LDPE'])\n",
        "  # thisplot.label.set_color('w')\n",
        "  # plt.xlabel(color = 'w')\n",
        "  plt.ylim([0, 1])\n",
        "  predicted_label = np.argmax(predictions_array)\n",
        "  \n",
        "\n",
        "  if predicted_label==true_label:\n",
        "    plt.title(\"Real & Prediction is : {}  \".format(class_names[true_label]),\n",
        "                                      color='k', fontsize=12)\n",
        "  else:\n",
        "   plt.title(\"Predictions is : {} but  Real : {}  \".format(class_names[predicted_label],class_names[true_label]),\n",
        "                                      color='k', fontsize=12)\n",
        "\n",
        "  \n",
        "  thisplot[predicted_label].set_color('red')\n",
        "  thisplot[int(true_label)].set_color('blue')"
      ],
      "execution_count": null,
      "outputs": []
    },
    {
      "cell_type": "code",
      "metadata": {
        "id": "aJdO01a2Zhwl"
      },
      "source": [
        "def Results(model,history,Test_images,Test_labels,model_name):\n",
        "  Top_K_accuracy(model,Test_images,Test_labels,model_name,history)\n",
        "  SHOW_ME(model,Test_images,Test_labels)"
      ],
      "execution_count": null,
      "outputs": []
    },
    {
      "cell_type": "code",
      "metadata": {
        "id": "iupnzqZHc47_"
      },
      "source": [
        "def Signal(predictions,Test_labels):\n",
        "  Volume_label=[]\n",
        "  for i in range(len(predictions)):\n",
        "    if np.argmax(predictions[i])%3==0:\n",
        "      Volume_label.append(0)\n",
        "    if np.argmax(predictions[i])%3==1:\n",
        "      Volume_label.append(1)\n",
        "    if np.argmax(predictions[i])%3==2:\n",
        "      Volume_label.append(2)\n",
        "    \n",
        "      \n",
        "  True_label=[]\n",
        "  for i in range(len(predictions)):\n",
        "    if (Test_labels[i])%3==0:\n",
        "      True_label.append(0)\n",
        "    if (Test_labels[i])%3==1:\n",
        "      True_label.append(1)\n",
        "    if (Test_labels[i])%3==2:\n",
        "      True_label.append(2)\n",
        "    \n",
        "  count =0\n",
        "  for i in range(len(predictions)):\n",
        "    if Volume_label[i] == True_label[i]:\n",
        "      count+=1\n",
        "\n",
        "\n",
        "  # print('정확도 : {:2.0f}%'.format((count/len(predictions))*100))  \n",
        "  return Volume_label,True_label"
      ],
      "execution_count": null,
      "outputs": []
    },
    {
      "cell_type": "code",
      "metadata": {
        "id": "Xt5T04AIuPV5"
      },
      "source": [
        "from sklearn.utils import shuffle\n",
        "Meta_image = np.concatenate((img_type0, img_type1), axis=0)\n",
        "Meta_label = np.concatenate((lab_type0, lab_type1), axis=0)\n",
        "#Meta_image = np.concatenate((PE__1,PE__2,PE__3,PP__1,PP__2,PS__1,PS__2),axis=0)\n",
        "#Meta_label = np.concatenate((PE1_label,PE2_label,PE3_label,PP1_label,PP2_label,PS1_label,PS2_label),axis=0)\n",
        "Meta_image, Meta_label = shuffle(Meta_image, Meta_label)"
      ],
      "execution_count": null,
      "outputs": []
    },
    {
      "cell_type": "code",
      "metadata": {
        "id": "MtRxxcIkHSc3",
        "colab": {
          "base_uri": "https://localhost:8080/"
        },
        "outputId": "411cf194-fada-49c2-c819-98df25411710"
      },
      "source": [
        "model = tf.keras.Sequential([\n",
        "tf.keras.applications.MobileNetV2(weights='imagenet',input_shape=(224,224,3),pooling=None,classes=1000),\n",
        "# tf.keras.layers.Dense(7,activation='softmax',activity_regularizer = tf.keras.regularizers.l1(0.5))\n",
        "tf.keras.layers.Dense(num_class,activation='softmax',activity_regularizer = tf.keras.regularizers.l1(0.5))\n",
        "])\n",
        "\n",
        "model.summary()"
      ],
      "execution_count": null,
      "outputs": [
        {
          "output_type": "stream",
          "text": [
            "Downloading data from https://storage.googleapis.com/tensorflow/keras-applications/mobilenet_v2/mobilenet_v2_weights_tf_dim_ordering_tf_kernels_1.0_224.h5\n",
            "14540800/14536120 [==============================] - 0s 0us/step\n",
            "Model: \"sequential\"\n",
            "_________________________________________________________________\n",
            "Layer (type)                 Output Shape              Param #   \n",
            "=================================================================\n",
            "mobilenetv2_1.00_224 (Functi (None, 1000)              3538984   \n",
            "_________________________________________________________________\n",
            "dense (Dense)                (None, 2)                 2002      \n",
            "=================================================================\n",
            "Total params: 3,540,986\n",
            "Trainable params: 3,506,874\n",
            "Non-trainable params: 34,112\n",
            "_________________________________________________________________\n"
          ],
          "name": "stdout"
        }
      ]
    },
    {
      "cell_type": "code",
      "metadata": {
        "id": "ncg7thcQO-yA",
        "colab": {
          "base_uri": "https://localhost:8080/",
          "height": 516
        },
        "outputId": "34473551-71cf-4c7e-c7b2-40ff5878d9c4"
      },
      "source": [
        "model.summary()\n",
        "tf.keras.utils.plot_model(model, show_shapes = True)"
      ],
      "execution_count": null,
      "outputs": [
        {
          "output_type": "stream",
          "text": [
            "Model: \"sequential\"\n",
            "_________________________________________________________________\n",
            "Layer (type)                 Output Shape              Param #   \n",
            "=================================================================\n",
            "mobilenetv2_1.00_224 (Functi (None, 1000)              3538984   \n",
            "_________________________________________________________________\n",
            "dense (Dense)                (None, 2)                 2002      \n",
            "=================================================================\n",
            "Total params: 3,540,986\n",
            "Trainable params: 3,506,874\n",
            "Non-trainable params: 34,112\n",
            "_________________________________________________________________\n"
          ],
          "name": "stdout"
        },
        {
          "output_type": "execute_result",
          "data": {
            "image/png": "[encoded data removed]",
            "text/plain": [
              "<IPython.core.display.Image object>"
            ]
          },
          "metadata": {
            "tags": []
          },
          "execution_count": 31
        }
      ]
    },
    {
      "cell_type": "code",
      "metadata": {
        "id": "a6yJ9pV8MVcl",
        "colab": {
          "base_uri": "https://localhost:8080/",
          "height": 272
        },
        "outputId": "89793040-e9b8-4207-f19d-a535fb72bcfb"
      },
      "source": [
        "# model.summary()\n",
        "tf.keras.utils.plot_model(\n",
        "    model, to_file='model.png', show_shapes=False, show_layer_names=True,\n",
        "    rankdir='TB', expand_nested=False, dpi=96\n",
        ")"
      ],
      "execution_count": null,
      "outputs": [
        {
          "output_type": "execute_result",
          "data": {
            "image/png": "[encoded data removed]",
            "text/plain": [
              "<IPython.core.display.Image object>"
            ]
          },
          "metadata": {
            "tags": []
          },
          "execution_count": 32
        }
      ]
    },
    {
      "cell_type": "code",
      "metadata": {
        "id": "tLYnhRH_WczT",
        "colab": {
          "base_uri": "https://localhost:8080/"
        },
        "outputId": "eb7f91bd-6dcb-4cb7-ae96-95a010c7acb4"
      },
      "source": [
        "t_img,t_lab = make_image_array(Meta_image,Meta_label)"
      ],
      "execution_count": null,
      "outputs": [
        {
          "output_type": "stream",
          "text": [
            "/usr/local/lib/python3.7/dist-packages/ipykernel_launcher.py:20: FutureWarning: Using a non-tuple sequence for multidimensional indexing is deprecated; use `arr[tuple(seq)]` instead of `arr[seq]`. In the future this will be interpreted as an array index, `arr[np.array(seq)]`, which will result either in an error or a different result.\n",
            "/usr/local/lib/python3.7/dist-packages/ipykernel_launcher.py:31: FutureWarning: Using a non-tuple sequence for multidimensional indexing is deprecated; use `arr[tuple(seq)]` instead of `arr[seq]`. In the future this will be interpreted as an array index, `arr[np.array(seq)]`, which will result either in an error or a different result.\n"
          ],
          "name": "stderr"
        }
      ]
    },
    {
      "cell_type": "code",
      "metadata": {
        "id": "L4luJ-nZ4LL8"
      },
      "source": [
        "L=1e-5*3\n",
        "S=200\n",
        "Opt = tf.keras.optimizers.Adam(learning_rate=l_s(L,20))\n",
        "Loss= tf.keras.losses.SparseCategoricalCrossentropy()\n",
        "\n",
        "# Define the model architecture\n",
        "model1 = tf.keras.Sequential([\n",
        "tf.keras.applications.MobileNetV2(weights='imagenet',input_shape=(224,224,3),pooling=None,classes=1000),\n",
        "tf.keras.layers.Dense(500,activation='relu'),\n",
        " tf.keras.layers.Dense(50,activation='relu'),\n",
        " #tf.keras.layers.Dense(30,activation='relu'),\n",
        "tf.keras.layers.Dense(num_class,activation='softmax',activity_regularizer = tf.keras.regularizers.l1(0.5))\n",
        "# tf.keras.layers.Dense(num_class,activation='softmax')\n",
        "])\n",
        "callback = tf.keras.callbacks.EarlyStopping(monitor='accuracy', patience=10)\n",
        "model1.compile(optimizer=Opt,loss=Loss,metrics=['accuracy'])\n",
        "\n",
        "# checkpoint_path = \"/content/drive/My Drive/Plastic_classification_weight\"\n",
        "# checkpoint_path = checkpoint_path+str(6)+\"/cp.ckpt\"\n",
        "# model1.save_weights(checkpoint_path)"
      ],
      "execution_count": null,
      "outputs": []
    },
    {
      "cell_type": "code",
      "metadata": {
        "id": "qjOoaQB4VVWq",
        "colab": {
          "base_uri": "https://localhost:8080/",
          "height": 805
        },
        "outputId": "7043dc36-8d65-489e-fb24-59610b5f8948"
      },
      "source": [
        "model1.summary()\n",
        "tf.keras.utils.plot_model(model1, show_shapes = True)"
      ],
      "execution_count": null,
      "outputs": [
        {
          "output_type": "stream",
          "text": [
            "Model: \"sequential_1\"\n",
            "_________________________________________________________________\n",
            "Layer (type)                 Output Shape              Param #   \n",
            "=================================================================\n",
            "mobilenetv2_1.00_224 (Functi (None, 1000)              3538984   \n",
            "_________________________________________________________________\n",
            "dense_1 (Dense)              (None, 500)               500500    \n",
            "_________________________________________________________________\n",
            "dense_2 (Dense)              (None, 50)                25050     \n",
            "_________________________________________________________________\n",
            "dense_3 (Dense)              (None, 2)                 102       \n",
            "=================================================================\n",
            "Total params: 4,064,636\n",
            "Trainable params: 4,030,524\n",
            "Non-trainable params: 34,112\n",
            "_________________________________________________________________\n"
          ],
          "name": "stdout"
        },
        {
          "output_type": "execute_result",
          "data": {
            "image/png": "[encoded data removed]",
            "text/plain": [
              "<IPython.core.display.Image object>"
            ]
          },
          "metadata": {
            "tags": []
          },
          "execution_count": 35
        }
      ]
    },
    {
      "cell_type": "code",
      "metadata": {
        "id": "J_pDGGwYVQYm",
        "colab": {
          "base_uri": "https://localhost:8080/"
        },
        "outputId": "e59f31ba-a1dd-4986-a671-565c99c779ab"
      },
      "source": [
        "# history1 = model1.fit(t_img, t_lab,batch_size=32,epochs=S,callbacks=[callback],verbose=1)\n",
        "history1 = model1.fit(t_img, t_lab,batch_size=64,epochs=1,verbose=1,validation_data =(t_img,t_lab))"
      ],
      "execution_count": null,
      "outputs": [
        {
          "output_type": "stream",
          "text": [
            "108/108 [==============================] - 58s 363ms/step - loss: 1.1581 - accuracy: 0.8907 - val_loss: 1.1348 - val_accuracy: 0.7465\n"
          ],
          "name": "stdout"
        }
      ]
    },
    {
      "cell_type": "code",
      "metadata": {
        "id": "qaSr8Jle2Gh5"
      },
      "source": [
        "### model1.save('/content/drive/My Drive/동영상플라찍기/model_pla.h5')"
      ],
      "execution_count": null,
      "outputs": []
    },
    {
      "cell_type": "code",
      "metadata": {
        "id": "IN73tGCDLCNz"
      },
      "source": [
        "# checkpoint_path = \"/content/drive/My Drive/Plastic_classification_weight_500_100_30/cp.ckpt\"\n",
        "# checkpoint_path = checkpoint_path+str(0000)+\"/cp.ckpt\"\n",
        "# model1.save_weights(checkpoint_path)  "
      ],
      "execution_count": null,
      "outputs": []
    },
    {
      "cell_type": "code",
      "metadata": {
        "id": "bi1CwVKBPZ7w",
        "colab": {
          "base_uri": "https://localhost:8080/"
        },
        "outputId": "55832f54-6f8c-4f25-fa28-9f6ec76cb2fe"
      },
      "source": [
        "from numpy.random import seed\n",
        "seed(1)\n",
        "from sklearn.model_selection import KFold\n",
        "from sklearn.utils import shuffle\n",
        "Meta_image, Meta_label = shuffle(Meta_image, Meta_label)\n",
        "\n",
        "\n",
        "num_folds = 5\n",
        "# Define per-fold score containers\n",
        "\n",
        "\n",
        "# Define the K-fold Cross Validator\n",
        "# inputs = np.concatenate((Train_images1, Test_images1, Valid_images1), axis=0)\n",
        "# targets = np.concatenate((Train_labels, Test_labels, Valid_labels), axis=0)\n",
        "\n",
        "index_test = []\n",
        "# Define per-fold score containers\n",
        "\n",
        "kfold = KFold(n_splits=num_folds, shuffle=True)\n",
        "# K-fold Cross Validation model evaluation\n",
        "\n",
        "fold_no = 1\n",
        "d121_t1=[]\n",
        "d121_t2=[]\n",
        "d121_t3=[]\n",
        "sss=[]\n",
        "d121_acc_per_fold = []\n",
        "d121_loss_per_fold = [] \n",
        "  # Model configuration\n",
        "batch =64\n",
        "# Define the K-fold Cross Validator\n",
        "kfold = KFold(n_splits=num_folds, shuffle=True)\n",
        "\n",
        "# K-fold Cross Validation model evaluation\n",
        "\n",
        "fold_no = 1\n",
        "H = []\n",
        "\n",
        "for train, test in kfold.split(Meta_image, Meta_label):\n",
        "\n",
        "  train_img, train_lab = make_image_array(Meta_image[train],Meta_label[train])\n",
        "  train_img, train_lab = shuffle(train_img, train_lab)\n",
        "  val_img,val_lab = Meta_image[test][0:int(len(test)/2)],Meta_label[test][0:int(len(test)/2)]\n",
        "  test_img, test_lab = Meta_image[test][int(len(test)/2):],Meta_label[test][int(len(test)/2):]\n",
        "  \n",
        "  # print(val_img.shape,val_lab.shape)\n",
        "  # print(test_img.shape,test_lab.shape)\n",
        "  \n",
        "  # index_test.append(test)\n",
        "  # Model configuration\n",
        "  S=50\n",
        "  \n",
        "  L=1e-5*3\n",
        "  Opt = tf.keras.optimizers.Adam(learning_rate=l_s(L,S))\n",
        "  Loss= tf.keras.losses.SparseCategoricalCrossentropy()\n",
        "  # V = [test]int(len(test)/2)\n",
        "  \n",
        "\n",
        "\n",
        "  # Define the model architecture\n",
        "  model1 = tf.keras.Sequential([\n",
        "  tf.keras.applications.MobileNetV2(weights='imagenet',input_shape=(224,224,3),pooling=None,classes=1000),\n",
        "  tf.keras.layers.Dense(num_class,activation='softmax',activity_regularizer = tf.keras.regularizers.l1(0.04))\n",
        "  # tf.keras.layers.Dense(num_class,activation='softmax')\n",
        "  ])\n",
        "  callback = tf.keras.callbacks.EarlyStopping(monitor='val_loss', patience=10)\n",
        "  model1.compile(optimizer=Opt,loss=Loss,metrics=['accuracy'])\n",
        "  \n",
        "  #\n",
        "  model1.summary()\n",
        "  tf.keras.utils.plot_model(model1, show_shapes = True)\n",
        "  #\n",
        "  H.append(history1)\n",
        "  # Generate a print\n",
        "  print('------------------------------------------------------------------------')\n",
        "  print(f'Training Mobile Net V2 for fold {fold_no} ...')\n",
        "  \n",
        "  # batch_size = int(len(img)/100)\n",
        "  history1 = model1.fit(train_img, train_lab,batch_size=batch,epochs=S,callbacks=[callback],verbose=1,validation_data=(val_img,val_lab))\n",
        "  checkpoint_path = \"/content/drive/My Drive/Paper_classification_weight\"\n",
        "  checkpoint_path = checkpoint_path+str(fold_no)+\"/cp.ckpt\"\n",
        "  model1.save_weights(checkpoint_path)  \n",
        "  \n",
        "  \n",
        "  top1,top2,top3=Top_K_accuracy_for_k_fold(model1,test_img, test_lab,3,history1)\n",
        "\n",
        "  # Generate generalization metrics\n",
        "  a,b=model1.evaluate(test_img,test_lab)\n",
        "  # print(f'Training for fold Dense121{fold_no} ...')\n",
        "  print(f'Mobile Net V2 Evaluate Score for fold {fold_no}: [{model1.metrics_names[0]} of {round(a,3)}], [{model1.metrics_names[1]} of {round(b,3)*100}%]')\n",
        "  d121_acc_per_fold.append(b)\n",
        "  d121_loss_per_fold.append(a)\n",
        "  d121_t1.append(top1)\n",
        "  d121_t2.append(top2)\n",
        "  d121_t3.append(top3)\n",
        "  sss.append(Signal_for_k_fold(model1.predict(test_img),test_lab))\n",
        "  # Increase fold number\n",
        "  fold_no = fold_no + 1"
      ],
      "execution_count": null,
      "outputs": [
        {
          "output_type": "stream",
          "text": [
            "/usr/local/lib/python3.7/dist-packages/ipykernel_launcher.py:20: FutureWarning: Using a non-tuple sequence for multidimensional indexing is deprecated; use `arr[tuple(seq)]` instead of `arr[seq]`. In the future this will be interpreted as an array index, `arr[np.array(seq)]`, which will result either in an error or a different result.\n",
            "/usr/local/lib/python3.7/dist-packages/ipykernel_launcher.py:31: FutureWarning: Using a non-tuple sequence for multidimensional indexing is deprecated; use `arr[tuple(seq)]` instead of `arr[seq]`. In the future this will be interpreted as an array index, `arr[np.array(seq)]`, which will result either in an error or a different result.\n"
          ],
          "name": "stderr"
        },
        {
          "output_type": "stream",
          "text": [
            "Model: \"sequential_2\"\n",
            "_________________________________________________________________\n",
            "Layer (type)                 Output Shape              Param #   \n",
            "=================================================================\n",
            "mobilenetv2_1.00_224 (Functi (None, 1000)              3538984   \n",
            "_________________________________________________________________\n",
            "dense_4 (Dense)              (None, 2)                 2002      \n",
            "=================================================================\n",
            "Total params: 3,540,986\n",
            "Trainable params: 3,506,874\n",
            "Non-trainable params: 34,112\n",
            "_________________________________________________________________\n",
            "------------------------------------------------------------------------\n",
            "Training Mobile Net V2 for fold 1 ...\n",
            "Epoch 1/50\n",
            "86/86 [==============================] - 31s 319ms/step - loss: 0.7068 - accuracy: 0.9106 - val_loss: 0.6917 - val_accuracy: 0.9000\n",
            "Epoch 2/50\n",
            "86/86 [==============================] - 27s 311ms/step - loss: 0.6754 - accuracy: 0.9769 - val_loss: 0.6852 - val_accuracy: 0.9000\n",
            "Epoch 3/50\n",
            "86/86 [==============================] - 27s 308ms/step - loss: 0.6690 - accuracy: 0.9867 - val_loss: 0.6821 - val_accuracy: 0.9000\n",
            "Epoch 4/50\n",
            "86/86 [==============================] - 26s 303ms/step - loss: 0.6660 - accuracy: 0.9938 - val_loss: 0.6775 - val_accuracy: 0.9000\n",
            "Epoch 5/50\n",
            "86/86 [==============================] - 27s 309ms/step - loss: 0.6642 - accuracy: 0.9962 - val_loss: 0.6739 - val_accuracy: 0.9500\n",
            "Epoch 6/50\n",
            "86/86 [==============================] - 27s 308ms/step - loss: 0.6625 - accuracy: 0.9965 - val_loss: 0.6679 - val_accuracy: 0.9750\n",
            "Epoch 7/50\n",
            "86/86 [==============================] - 27s 309ms/step - loss: 0.6609 - accuracy: 0.9967 - val_loss: 0.6639 - val_accuracy: 0.9750\n",
            "Epoch 8/50\n",
            "86/86 [==============================] - 27s 308ms/step - loss: 0.6594 - accuracy: 0.9976 - val_loss: 0.6605 - val_accuracy: 0.9750\n",
            "Epoch 9/50\n",
            "86/86 [==============================] - 26s 301ms/step - loss: 0.6586 - accuracy: 0.9989 - val_loss: 0.6584 - val_accuracy: 0.9750\n",
            "Epoch 10/50\n",
            "86/86 [==============================] - 26s 308ms/step - loss: 0.6580 - accuracy: 0.9989 - val_loss: 0.6570 - val_accuracy: 1.0000\n",
            "Epoch 11/50\n",
            "86/86 [==============================] - 26s 305ms/step - loss: 0.6576 - accuracy: 0.9989 - val_loss: 0.6561 - val_accuracy: 1.0000\n",
            "Epoch 12/50\n",
            "86/86 [==============================] - 27s 309ms/step - loss: 0.6572 - accuracy: 0.9987 - val_loss: 0.6555 - val_accuracy: 1.0000\n",
            "Epoch 13/50\n",
            "86/86 [==============================] - 26s 306ms/step - loss: 0.6567 - accuracy: 0.9998 - val_loss: 0.6546 - val_accuracy: 1.0000\n",
            "Epoch 14/50\n",
            "86/86 [==============================] - 26s 307ms/step - loss: 0.6566 - accuracy: 0.9993 - val_loss: 0.6539 - val_accuracy: 1.0000\n",
            "Epoch 15/50\n",
            "86/86 [==============================] - 26s 304ms/step - loss: 0.6562 - accuracy: 0.9996 - val_loss: 0.6536 - val_accuracy: 1.0000\n",
            "Epoch 16/50\n",
            "86/86 [==============================] - 26s 308ms/step - loss: 0.6561 - accuracy: 0.9993 - val_loss: 0.6532 - val_accuracy: 1.0000\n",
            "Epoch 17/50\n",
            "86/86 [==============================] - 26s 307ms/step - loss: 0.6559 - accuracy: 0.9995 - val_loss: 0.6530 - val_accuracy: 1.0000\n",
            "Epoch 18/50\n",
            "86/86 [==============================] - 26s 307ms/step - loss: 0.6558 - accuracy: 0.9996 - val_loss: 0.6528 - val_accuracy: 1.0000\n",
            "Epoch 19/50\n",
            "86/86 [==============================] - 27s 310ms/step - loss: 0.6557 - accuracy: 0.9995 - val_loss: 0.6527 - val_accuracy: 1.0000\n",
            "Epoch 20/50\n",
            "86/86 [==============================] - 26s 303ms/step - loss: 0.6555 - accuracy: 0.9998 - val_loss: 0.6526 - val_accuracy: 1.0000\n",
            "Epoch 21/50\n",
            "86/86 [==============================] - 27s 309ms/step - loss: 0.6555 - accuracy: 0.9996 - val_loss: 0.6525 - val_accuracy: 1.0000\n",
            "Epoch 22/50\n",
            "86/86 [==============================] - 26s 306ms/step - loss: 0.6554 - accuracy: 0.9998 - val_loss: 0.6525 - val_accuracy: 1.0000\n",
            "Epoch 23/50\n",
            "86/86 [==============================] - 26s 306ms/step - loss: 0.6554 - accuracy: 0.9996 - val_loss: 0.6524 - val_accuracy: 1.0000\n",
            "Epoch 24/50\n",
            "86/86 [==============================] - 26s 306ms/step - loss: 0.6553 - accuracy: 0.9998 - val_loss: 0.6524 - val_accuracy: 1.0000\n",
            "Epoch 25/50\n",
            "86/86 [==============================] - 27s 309ms/step - loss: 0.6553 - accuracy: 0.9995 - val_loss: 0.6523 - val_accuracy: 1.0000\n",
            "Epoch 26/50\n",
            "86/86 [==============================] - 26s 307ms/step - loss: 0.6552 - accuracy: 0.9998 - val_loss: 0.6523 - val_accuracy: 1.0000\n",
            "Epoch 27/50\n",
            "86/86 [==============================] - 26s 308ms/step - loss: 0.6552 - accuracy: 0.9996 - val_loss: 0.6523 - val_accuracy: 1.0000\n",
            "Epoch 28/50\n",
            "86/86 [==============================] - 26s 308ms/step - loss: 0.6552 - accuracy: 0.9998 - val_loss: 0.6523 - val_accuracy: 1.0000\n",
            "Epoch 29/50\n",
            "86/86 [==============================] - 26s 306ms/step - loss: 0.6552 - accuracy: 0.9996 - val_loss: 0.6523 - val_accuracy: 1.0000\n",
            "Epoch 30/50\n",
            "86/86 [==============================] - 27s 309ms/step - loss: 0.6551 - accuracy: 1.0000 - val_loss: 0.6523 - val_accuracy: 1.0000\n",
            "Epoch 31/50\n",
            "86/86 [==============================] - 26s 306ms/step - loss: 0.6551 - accuracy: 0.9996 - val_loss: 0.6523 - val_accuracy: 1.0000\n",
            "Epoch 32/50\n",
            "86/86 [==============================] - 26s 308ms/step - loss: 0.6551 - accuracy: 0.9998 - val_loss: 0.6523 - val_accuracy: 1.0000\n",
            "Epoch 33/50\n",
            "86/86 [==============================] - 26s 305ms/step - loss: 0.6551 - accuracy: 0.9995 - val_loss: 0.6523 - val_accuracy: 1.0000\n",
            "Epoch 34/50\n",
            "86/86 [==============================] - 26s 306ms/step - loss: 0.6551 - accuracy: 0.9996 - val_loss: 0.6523 - val_accuracy: 1.0000\n",
            "Epoch 35/50\n",
            "86/86 [==============================] - 27s 309ms/step - loss: 0.6551 - accuracy: 1.0000 - val_loss: 0.6523 - val_accuracy: 1.0000\n",
            "Epoch 36/50\n",
            "86/86 [==============================] - 27s 308ms/step - loss: 0.6551 - accuracy: 1.0000 - val_loss: 0.6523 - val_accuracy: 1.0000\n",
            "Epoch 37/50\n",
            "86/86 [==============================] - 26s 305ms/step - loss: 0.6551 - accuracy: 0.9998 - val_loss: 0.6523 - val_accuracy: 1.0000\n",
            "Epoch 38/50\n",
            "86/86 [==============================] - 27s 309ms/step - loss: 0.6551 - accuracy: 0.9998 - val_loss: 0.6523 - val_accuracy: 1.0000\n",
            "Epoch 39/50\n",
            "86/86 [==============================] - 27s 308ms/step - loss: 0.6551 - accuracy: 0.9995 - val_loss: 0.6523 - val_accuracy: 1.0000\n",
            "Epoch 40/50\n",
            "86/86 [==============================] - 26s 307ms/step - loss: 0.6550 - accuracy: 1.0000 - val_loss: 0.6523 - val_accuracy: 1.0000\n",
            "Epoch 41/50\n",
            "86/86 [==============================] - 26s 305ms/step - loss: 0.6551 - accuracy: 0.9995 - val_loss: 0.6523 - val_accuracy: 1.0000\n",
            "Epoch 42/50\n",
            "86/86 [==============================] - 27s 310ms/step - loss: 0.6551 - accuracy: 1.0000 - val_loss: 0.6523 - val_accuracy: 1.0000\n",
            "Epoch 43/50\n",
            "86/86 [==============================] - 26s 308ms/step - loss: 0.6551 - accuracy: 0.9998 - val_loss: 0.6523 - val_accuracy: 1.0000\n",
            "Epoch 44/50\n",
            "86/86 [==============================] - 27s 309ms/step - loss: 0.6551 - accuracy: 0.9995 - val_loss: 0.6522 - val_accuracy: 1.0000\n",
            "Epoch 45/50\n",
            "86/86 [==============================] - 26s 307ms/step - loss: 0.6551 - accuracy: 0.9996 - val_loss: 0.6522 - val_accuracy: 1.0000\n",
            "Epoch 46/50\n",
            "86/86 [==============================] - 26s 308ms/step - loss: 0.6550 - accuracy: 1.0000 - val_loss: 0.6522 - val_accuracy: 1.0000\n",
            "Epoch 47/50\n",
            "86/86 [==============================] - 26s 307ms/step - loss: 0.6551 - accuracy: 0.9996 - val_loss: 0.6522 - val_accuracy: 1.0000\n",
            "Epoch 48/50\n",
            "86/86 [==============================] - 27s 311ms/step - loss: 0.6551 - accuracy: 0.9996 - val_loss: 0.6522 - val_accuracy: 1.0000\n",
            "Epoch 49/50\n",
            "86/86 [==============================] - 26s 307ms/step - loss: 0.6550 - accuracy: 1.0000 - val_loss: 0.6522 - val_accuracy: 1.0000\n",
            "Epoch 50/50\n",
            "86/86 [==============================] - 26s 307ms/step - loss: 0.6551 - accuracy: 0.9998 - val_loss: 0.6522 - val_accuracy: 1.0000\n",
            "2/2 [==============================] - 0s 13ms/step - loss: 0.6521 - accuracy: 1.0000\n",
            "Mobile Net V2 Evaluate Score for fold 1: [loss of 0.652], [accuracy of 100.0%]\n",
            "Model: \"sequential_3\"\n",
            "_________________________________________________________________\n",
            "Layer (type)                 Output Shape              Param #   \n",
            "=================================================================\n",
            "mobilenetv2_1.00_224 (Functi (None, 1000)              3538984   \n",
            "_________________________________________________________________\n",
            "dense_5 (Dense)              (None, 2)                 2002      \n",
            "=================================================================\n",
            "Total params: 3,540,986\n",
            "Trainable params: 3,506,874\n",
            "Non-trainable params: 34,112\n",
            "_________________________________________________________________\n",
            "------------------------------------------------------------------------\n",
            "Training Mobile Net V2 for fold 2 ...\n",
            "Epoch 1/50\n",
            "86/86 [==============================] - 31s 314ms/step - loss: 0.7099 - accuracy: 0.9002 - val_loss: 0.6966 - val_accuracy: 0.8750\n",
            "Epoch 2/50\n",
            "86/86 [==============================] - 26s 306ms/step - loss: 0.6757 - accuracy: 0.9825 - val_loss: 0.6869 - val_accuracy: 0.9000\n",
            "Epoch 3/50\n",
            "86/86 [==============================] - 27s 310ms/step - loss: 0.6696 - accuracy: 0.9905 - val_loss: 0.6805 - val_accuracy: 0.9500\n",
            "Epoch 4/50\n",
            "86/86 [==============================] - 26s 306ms/step - loss: 0.6665 - accuracy: 0.9938 - val_loss: 0.6748 - val_accuracy: 0.9750\n",
            "Epoch 5/50\n",
            "86/86 [==============================] - 27s 310ms/step - loss: 0.6639 - accuracy: 0.9975 - val_loss: 0.6711 - val_accuracy: 0.9750\n",
            "Epoch 6/50\n",
            "86/86 [==============================] - 27s 308ms/step - loss: 0.6610 - accuracy: 0.9980 - val_loss: 0.6663 - val_accuracy: 1.0000\n",
            "Epoch 7/50\n",
            "86/86 [==============================] - 27s 309ms/step - loss: 0.6578 - accuracy: 0.9989 - val_loss: 0.6591 - val_accuracy: 1.0000\n",
            "Epoch 8/50\n",
            "86/86 [==============================] - 26s 307ms/step - loss: 0.6559 - accuracy: 0.9989 - val_loss: 0.6568 - val_accuracy: 1.0000\n",
            "Epoch 9/50\n",
            "86/86 [==============================] - 26s 306ms/step - loss: 0.6548 - accuracy: 0.9991 - val_loss: 0.6552 - val_accuracy: 1.0000\n",
            "Epoch 10/50\n",
            "86/86 [==============================] - 27s 309ms/step - loss: 0.6541 - accuracy: 0.9995 - val_loss: 0.6537 - val_accuracy: 1.0000\n",
            "Epoch 11/50\n",
            "86/86 [==============================] - 27s 309ms/step - loss: 0.6535 - accuracy: 0.9989 - val_loss: 0.6525 - val_accuracy: 1.0000\n",
            "Epoch 12/50\n",
            "86/86 [==============================] - 26s 308ms/step - loss: 0.6530 - accuracy: 1.0000 - val_loss: 0.6514 - val_accuracy: 1.0000\n",
            "Epoch 13/50\n",
            "86/86 [==============================] - 26s 305ms/step - loss: 0.6525 - accuracy: 0.9998 - val_loss: 0.6506 - val_accuracy: 1.0000\n",
            "Epoch 14/50\n",
            "86/86 [==============================] - 26s 305ms/step - loss: 0.6522 - accuracy: 0.9998 - val_loss: 0.6501 - val_accuracy: 1.0000\n",
            "Epoch 15/50\n",
            "86/86 [==============================] - 27s 308ms/step - loss: 0.6519 - accuracy: 1.0000 - val_loss: 0.6498 - val_accuracy: 1.0000\n",
            "Epoch 16/50\n",
            "86/86 [==============================] - 27s 308ms/step - loss: 0.6517 - accuracy: 0.9993 - val_loss: 0.6496 - val_accuracy: 1.0000\n",
            "Epoch 17/50\n",
            "86/86 [==============================] - 27s 308ms/step - loss: 0.6514 - accuracy: 0.9998 - val_loss: 0.6494 - val_accuracy: 1.0000\n",
            "Epoch 18/50\n",
            "86/86 [==============================] - 27s 308ms/step - loss: 0.6513 - accuracy: 0.9996 - val_loss: 0.6493 - val_accuracy: 1.0000\n",
            "Epoch 19/50\n",
            "86/86 [==============================] - 27s 308ms/step - loss: 0.6511 - accuracy: 0.9998 - val_loss: 0.6492 - val_accuracy: 1.0000\n",
            "Epoch 20/50\n",
            "86/86 [==============================] - 27s 309ms/step - loss: 0.6510 - accuracy: 0.9996 - val_loss: 0.6491 - val_accuracy: 1.0000\n",
            "Epoch 21/50\n",
            "86/86 [==============================] - 27s 309ms/step - loss: 0.6509 - accuracy: 0.9998 - val_loss: 0.6491 - val_accuracy: 1.0000\n",
            "Epoch 22/50\n",
            "86/86 [==============================] - 27s 309ms/step - loss: 0.6509 - accuracy: 0.9993 - val_loss: 0.6490 - val_accuracy: 1.0000\n",
            "Epoch 23/50\n",
            "86/86 [==============================] - 27s 308ms/step - loss: 0.6508 - accuracy: 0.9998 - val_loss: 0.6490 - val_accuracy: 1.0000\n",
            "Epoch 24/50\n",
            "86/86 [==============================] - 26s 306ms/step - loss: 0.6507 - accuracy: 0.9998 - val_loss: 0.6489 - val_accuracy: 1.0000\n",
            "Epoch 25/50\n",
            "86/86 [==============================] - 26s 308ms/step - loss: 0.6506 - accuracy: 0.9996 - val_loss: 0.6489 - val_accuracy: 1.0000\n",
            "Epoch 26/50\n",
            "86/86 [==============================] - 26s 306ms/step - loss: 0.6506 - accuracy: 1.0000 - val_loss: 0.6489 - val_accuracy: 1.0000\n",
            "Epoch 27/50\n",
            "86/86 [==============================] - 27s 309ms/step - loss: 0.6506 - accuracy: 1.0000 - val_loss: 0.6489 - val_accuracy: 1.0000\n",
            "Epoch 28/50\n",
            "86/86 [==============================] - 26s 305ms/step - loss: 0.6505 - accuracy: 0.9998 - val_loss: 0.6488 - val_accuracy: 1.0000\n",
            "Epoch 29/50\n",
            "86/86 [==============================] - 26s 307ms/step - loss: 0.6505 - accuracy: 0.9996 - val_loss: 0.6488 - val_accuracy: 1.0000\n",
            "Epoch 30/50\n",
            "86/86 [==============================] - 26s 307ms/step - loss: 0.6504 - accuracy: 0.9998 - val_loss: 0.6488 - val_accuracy: 1.0000\n",
            "Epoch 31/50\n",
            "86/86 [==============================] - 26s 306ms/step - loss: 0.6504 - accuracy: 1.0000 - val_loss: 0.6488 - val_accuracy: 1.0000\n",
            "Epoch 32/50\n",
            "86/86 [==============================] - 27s 308ms/step - loss: 0.6504 - accuracy: 1.0000 - val_loss: 0.6488 - val_accuracy: 1.0000\n",
            "Epoch 33/50\n",
            "86/86 [==============================] - 26s 308ms/step - loss: 0.6504 - accuracy: 1.0000 - val_loss: 0.6488 - val_accuracy: 1.0000\n",
            "Epoch 34/50\n",
            "86/86 [==============================] - 26s 307ms/step - loss: 0.6505 - accuracy: 0.9995 - val_loss: 0.6488 - val_accuracy: 1.0000\n",
            "Epoch 35/50\n",
            "86/86 [==============================] - 27s 308ms/step - loss: 0.6504 - accuracy: 0.9998 - val_loss: 0.6488 - val_accuracy: 1.0000\n",
            "Epoch 36/50\n",
            "86/86 [==============================] - 27s 309ms/step - loss: 0.6504 - accuracy: 1.0000 - val_loss: 0.6488 - val_accuracy: 1.0000\n",
            "Epoch 37/50\n",
            "86/86 [==============================] - 26s 308ms/step - loss: 0.6504 - accuracy: 0.9998 - val_loss: 0.6488 - val_accuracy: 1.0000\n",
            "Epoch 38/50\n",
            "86/86 [==============================] - 26s 306ms/step - loss: 0.6504 - accuracy: 1.0000 - val_loss: 0.6488 - val_accuracy: 1.0000\n",
            "Epoch 39/50\n",
            "86/86 [==============================] - 27s 309ms/step - loss: 0.6504 - accuracy: 1.0000 - val_loss: 0.6488 - val_accuracy: 1.0000\n",
            "Epoch 40/50\n",
            "86/86 [==============================] - 26s 307ms/step - loss: 0.6504 - accuracy: 0.9996 - val_loss: 0.6488 - val_accuracy: 1.0000\n",
            "Epoch 41/50\n",
            "86/86 [==============================] - 26s 307ms/step - loss: 0.6504 - accuracy: 1.0000 - val_loss: 0.6488 - val_accuracy: 1.0000\n",
            "Epoch 42/50\n",
            "86/86 [==============================] - 27s 310ms/step - loss: 0.6503 - accuracy: 1.0000 - val_loss: 0.6488 - val_accuracy: 1.0000\n",
            "Epoch 43/50\n",
            "86/86 [==============================] - 26s 301ms/step - loss: 0.6504 - accuracy: 1.0000 - val_loss: 0.6488 - val_accuracy: 1.0000\n",
            "Epoch 44/50\n",
            "86/86 [==============================] - 26s 307ms/step - loss: 0.6504 - accuracy: 1.0000 - val_loss: 0.6488 - val_accuracy: 1.0000\n",
            "Epoch 45/50\n",
            "86/86 [==============================] - 26s 306ms/step - loss: 0.6504 - accuracy: 0.9995 - val_loss: 0.6488 - val_accuracy: 1.0000\n",
            "Epoch 46/50\n",
            "86/86 [==============================] - 26s 306ms/step - loss: 0.6504 - accuracy: 0.9995 - val_loss: 0.6488 - val_accuracy: 1.0000\n",
            "Epoch 47/50\n",
            "86/86 [==============================] - 26s 308ms/step - loss: 0.6503 - accuracy: 1.0000 - val_loss: 0.6488 - val_accuracy: 1.0000\n",
            "Epoch 48/50\n",
            "86/86 [==============================] - 26s 305ms/step - loss: 0.6504 - accuracy: 1.0000 - val_loss: 0.6488 - val_accuracy: 1.0000\n",
            "Epoch 49/50\n",
            "86/86 [==============================] - 26s 307ms/step - loss: 0.6504 - accuracy: 1.0000 - val_loss: 0.6488 - val_accuracy: 1.0000\n",
            "Epoch 50/50\n",
            "86/86 [==============================] - 26s 299ms/step - loss: 0.6503 - accuracy: 1.0000 - val_loss: 0.6488 - val_accuracy: 1.0000\n",
            "2/2 [==============================] - 0s 13ms/step - loss: 0.6482 - accuracy: 1.0000\n",
            "Mobile Net V2 Evaluate Score for fold 2: [loss of 0.648], [accuracy of 100.0%]\n",
            "Model: \"sequential_4\"\n",
            "_________________________________________________________________\n",
            "Layer (type)                 Output Shape              Param #   \n",
            "=================================================================\n",
            "mobilenetv2_1.00_224 (Functi (None, 1000)              3538984   \n",
            "_________________________________________________________________\n",
            "dense_6 (Dense)              (None, 2)                 2002      \n",
            "=================================================================\n",
            "Total params: 3,540,986\n",
            "Trainable params: 3,506,874\n",
            "Non-trainable params: 34,112\n",
            "_________________________________________________________________\n",
            "------------------------------------------------------------------------\n",
            "Training Mobile Net V2 for fold 3 ...\n",
            "Epoch 1/50\n",
            "86/86 [==============================] - 31s 309ms/step - loss: 0.7112 - accuracy: 0.8827 - val_loss: 0.7108 - val_accuracy: 0.7000\n",
            "Epoch 2/50\n",
            "86/86 [==============================] - 26s 304ms/step - loss: 0.6780 - accuracy: 0.9791 - val_loss: 0.6994 - val_accuracy: 0.8500\n",
            "Epoch 3/50\n",
            "86/86 [==============================] - 26s 302ms/step - loss: 0.6700 - accuracy: 0.9903 - val_loss: 0.6919 - val_accuracy: 0.8750\n",
            "Epoch 4/50\n",
            "86/86 [==============================] - 26s 305ms/step - loss: 0.6664 - accuracy: 0.9962 - val_loss: 0.6890 - val_accuracy: 0.9000\n",
            "Epoch 5/50\n",
            "86/86 [==============================] - 26s 305ms/step - loss: 0.6639 - accuracy: 0.9969 - val_loss: 0.6846 - val_accuracy: 0.9000\n",
            "Epoch 6/50\n",
            "86/86 [==============================] - 26s 302ms/step - loss: 0.6621 - accuracy: 0.9982 - val_loss: 0.6814 - val_accuracy: 0.9250\n",
            "Epoch 7/50\n",
            "86/86 [==============================] - 26s 304ms/step - loss: 0.6606 - accuracy: 0.9989 - val_loss: 0.6756 - val_accuracy: 0.9250\n",
            "Epoch 8/50\n",
            "86/86 [==============================] - 26s 306ms/step - loss: 0.6592 - accuracy: 0.9996 - val_loss: 0.6696 - val_accuracy: 0.9500\n",
            "Epoch 9/50\n",
            "86/86 [==============================] - 26s 303ms/step - loss: 0.6578 - accuracy: 1.0000 - val_loss: 0.6644 - val_accuracy: 0.9500\n",
            "Epoch 10/50\n",
            "86/86 [==============================] - 26s 301ms/step - loss: 0.6563 - accuracy: 0.9996 - val_loss: 0.6612 - val_accuracy: 0.9750\n",
            "Epoch 11/50\n",
            "86/86 [==============================] - 26s 308ms/step - loss: 0.6554 - accuracy: 0.9995 - val_loss: 0.6594 - val_accuracy: 1.0000\n",
            "Epoch 12/50\n",
            "86/86 [==============================] - 26s 308ms/step - loss: 0.6546 - accuracy: 0.9998 - val_loss: 0.6584 - val_accuracy: 1.0000\n",
            "Epoch 13/50\n",
            "86/86 [==============================] - 26s 301ms/step - loss: 0.6537 - accuracy: 0.9995 - val_loss: 0.6578 - val_accuracy: 1.0000\n",
            "Epoch 14/50\n",
            "86/86 [==============================] - 26s 300ms/step - loss: 0.6531 - accuracy: 0.9991 - val_loss: 0.6570 - val_accuracy: 1.0000\n",
            "Epoch 15/50\n",
            "86/86 [==============================] - 26s 303ms/step - loss: 0.6525 - accuracy: 0.9989 - val_loss: 0.6566 - val_accuracy: 1.0000\n",
            "Epoch 16/50\n",
            "86/86 [==============================] - 26s 302ms/step - loss: 0.6520 - accuracy: 0.9993 - val_loss: 0.6560 - val_accuracy: 1.0000\n",
            "Epoch 17/50\n",
            "86/86 [==============================] - 26s 299ms/step - loss: 0.6518 - accuracy: 0.9985 - val_loss: 0.6555 - val_accuracy: 1.0000\n",
            "Epoch 18/50\n",
            "86/86 [==============================] - 26s 302ms/step - loss: 0.6514 - accuracy: 0.9998 - val_loss: 0.6551 - val_accuracy: 1.0000\n",
            "Epoch 19/50\n",
            "86/86 [==============================] - 26s 301ms/step - loss: 0.6513 - accuracy: 0.9998 - val_loss: 0.6549 - val_accuracy: 1.0000\n",
            "Epoch 20/50\n",
            "86/86 [==============================] - 26s 307ms/step - loss: 0.6512 - accuracy: 0.9998 - val_loss: 0.6547 - val_accuracy: 1.0000\n",
            "Epoch 21/50\n",
            "86/86 [==============================] - 27s 310ms/step - loss: 0.6510 - accuracy: 0.9998 - val_loss: 0.6545 - val_accuracy: 1.0000\n",
            "Epoch 22/50\n",
            "86/86 [==============================] - 27s 310ms/step - loss: 0.6511 - accuracy: 0.9987 - val_loss: 0.6544 - val_accuracy: 1.0000\n",
            "Epoch 23/50\n",
            "86/86 [==============================] - 27s 311ms/step - loss: 0.6508 - accuracy: 0.9998 - val_loss: 0.6544 - val_accuracy: 1.0000\n",
            "Epoch 24/50\n",
            "86/86 [==============================] - 27s 311ms/step - loss: 0.6508 - accuracy: 0.9998 - val_loss: 0.6543 - val_accuracy: 1.0000\n",
            "Epoch 25/50\n",
            "86/86 [==============================] - 26s 300ms/step - loss: 0.6508 - accuracy: 0.9998 - val_loss: 0.6543 - val_accuracy: 1.0000\n",
            "Epoch 26/50\n",
            "86/86 [==============================] - 26s 306ms/step - loss: 0.6506 - accuracy: 0.9998 - val_loss: 0.6542 - val_accuracy: 1.0000\n",
            "Epoch 27/50\n",
            "86/86 [==============================] - 26s 302ms/step - loss: 0.6506 - accuracy: 0.9998 - val_loss: 0.6542 - val_accuracy: 1.0000\n",
            "Epoch 28/50\n",
            "86/86 [==============================] - 26s 301ms/step - loss: 0.6506 - accuracy: 0.9998 - val_loss: 0.6542 - val_accuracy: 1.0000\n",
            "Epoch 29/50\n",
            "86/86 [==============================] - 26s 300ms/step - loss: 0.6506 - accuracy: 0.9998 - val_loss: 0.6541 - val_accuracy: 1.0000\n",
            "Epoch 30/50\n",
            "86/86 [==============================] - 26s 301ms/step - loss: 0.6505 - accuracy: 1.0000 - val_loss: 0.6541 - val_accuracy: 1.0000\n",
            "Epoch 31/50\n",
            "86/86 [==============================] - 26s 298ms/step - loss: 0.6506 - accuracy: 0.9993 - val_loss: 0.6541 - val_accuracy: 1.0000\n",
            "Epoch 32/50\n",
            "86/86 [==============================] - 26s 307ms/step - loss: 0.6505 - accuracy: 0.9995 - val_loss: 0.6541 - val_accuracy: 1.0000\n",
            "Epoch 33/50\n",
            "86/86 [==============================] - 26s 305ms/step - loss: 0.6505 - accuracy: 0.9996 - val_loss: 0.6541 - val_accuracy: 1.0000\n",
            "Epoch 34/50\n",
            "86/86 [==============================] - 26s 305ms/step - loss: 0.6504 - accuracy: 0.9998 - val_loss: 0.6541 - val_accuracy: 1.0000\n",
            "Epoch 35/50\n",
            "86/86 [==============================] - 26s 304ms/step - loss: 0.6504 - accuracy: 0.9995 - val_loss: 0.6541 - val_accuracy: 1.0000\n",
            "Epoch 36/50\n",
            "86/86 [==============================] - 26s 304ms/step - loss: 0.6504 - accuracy: 0.9998 - val_loss: 0.6541 - val_accuracy: 1.0000\n",
            "Epoch 37/50\n",
            "86/86 [==============================] - 26s 306ms/step - loss: 0.6504 - accuracy: 0.9996 - val_loss: 0.6541 - val_accuracy: 1.0000\n",
            "Epoch 38/50\n",
            "86/86 [==============================] - 26s 303ms/step - loss: 0.6504 - accuracy: 0.9998 - val_loss: 0.6540 - val_accuracy: 1.0000\n",
            "Epoch 39/50\n",
            "86/86 [==============================] - 26s 303ms/step - loss: 0.6504 - accuracy: 0.9998 - val_loss: 0.6540 - val_accuracy: 1.0000\n",
            "Epoch 40/50\n",
            "86/86 [==============================] - 26s 302ms/step - loss: 0.6504 - accuracy: 0.9996 - val_loss: 0.6540 - val_accuracy: 1.0000\n",
            "Epoch 41/50\n",
            "86/86 [==============================] - 26s 304ms/step - loss: 0.6504 - accuracy: 0.9998 - val_loss: 0.6540 - val_accuracy: 1.0000\n",
            "Epoch 42/50\n",
            "86/86 [==============================] - 27s 311ms/step - loss: 0.6503 - accuracy: 1.0000 - val_loss: 0.6540 - val_accuracy: 1.0000\n",
            "Epoch 43/50\n",
            "86/86 [==============================] - 26s 301ms/step - loss: 0.6504 - accuracy: 0.9995 - val_loss: 0.6540 - val_accuracy: 1.0000\n",
            "Epoch 44/50\n",
            "86/86 [==============================] - 26s 308ms/step - loss: 0.6506 - accuracy: 0.9991 - val_loss: 0.6540 - val_accuracy: 1.0000\n",
            "Epoch 45/50\n",
            "86/86 [==============================] - 26s 302ms/step - loss: 0.6504 - accuracy: 1.0000 - val_loss: 0.6540 - val_accuracy: 1.0000\n",
            "Epoch 46/50\n",
            "86/86 [==============================] - 26s 308ms/step - loss: 0.6504 - accuracy: 0.9996 - val_loss: 0.6540 - val_accuracy: 1.0000\n",
            "Epoch 47/50\n",
            "86/86 [==============================] - 26s 299ms/step - loss: 0.6504 - accuracy: 0.9996 - val_loss: 0.6540 - val_accuracy: 1.0000\n",
            "Epoch 48/50\n",
            "86/86 [==============================] - 26s 305ms/step - loss: 0.6503 - accuracy: 1.0000 - val_loss: 0.6540 - val_accuracy: 1.0000\n",
            "Epoch 49/50\n",
            "86/86 [==============================] - 26s 303ms/step - loss: 0.6504 - accuracy: 0.9993 - val_loss: 0.6540 - val_accuracy: 1.0000\n",
            "Epoch 50/50\n",
            "86/86 [==============================] - 26s 305ms/step - loss: 0.6504 - accuracy: 0.9998 - val_loss: 0.6540 - val_accuracy: 1.0000\n",
            "2/2 [==============================] - 0s 13ms/step - loss: 0.6515 - accuracy: 1.0000\n",
            "Mobile Net V2 Evaluate Score for fold 3: [loss of 0.651], [accuracy of 100.0%]\n",
            "Model: \"sequential_5\"\n",
            "_________________________________________________________________\n",
            "Layer (type)                 Output Shape              Param #   \n",
            "=================================================================\n",
            "mobilenetv2_1.00_224 (Functi (None, 1000)              3538984   \n",
            "_________________________________________________________________\n",
            "dense_7 (Dense)              (None, 2)                 2002      \n",
            "=================================================================\n",
            "Total params: 3,540,986\n",
            "Trainable params: 3,506,874\n",
            "Non-trainable params: 34,112\n",
            "_________________________________________________________________\n",
            "------------------------------------------------------------------------\n",
            "Training Mobile Net V2 for fold 4 ...\n",
            "Epoch 1/50\n",
            "86/86 [==============================] - 31s 319ms/step - loss: 0.7045 - accuracy: 0.8891 - val_loss: 0.6967 - val_accuracy: 0.8750\n",
            "Epoch 2/50\n",
            "86/86 [==============================] - 27s 308ms/step - loss: 0.6773 - accuracy: 0.9856 - val_loss: 0.6875 - val_accuracy: 0.9000\n",
            "Epoch 3/50\n",
            "86/86 [==============================] - 26s 307ms/step - loss: 0.6697 - accuracy: 0.9947 - val_loss: 0.6792 - val_accuracy: 0.9250\n",
            "Epoch 4/50\n",
            "86/86 [==============================] - 27s 309ms/step - loss: 0.6653 - accuracy: 0.9960 - val_loss: 0.6712 - val_accuracy: 0.9250\n",
            "Epoch 5/50\n",
            "86/86 [==============================] - 26s 308ms/step - loss: 0.6627 - accuracy: 0.9984 - val_loss: 0.6679 - val_accuracy: 0.9250\n",
            "Epoch 6/50\n",
            "86/86 [==============================] - 26s 306ms/step - loss: 0.6612 - accuracy: 0.9985 - val_loss: 0.6647 - val_accuracy: 0.9250\n",
            "Epoch 7/50\n",
            "86/86 [==============================] - 27s 309ms/step - loss: 0.6600 - accuracy: 0.9993 - val_loss: 0.6624 - val_accuracy: 0.9500\n",
            "Epoch 8/50\n",
            "86/86 [==============================] - 26s 308ms/step - loss: 0.6588 - accuracy: 0.9998 - val_loss: 0.6608 - val_accuracy: 0.9500\n",
            "Epoch 9/50\n",
            "86/86 [==============================] - 26s 306ms/step - loss: 0.6579 - accuracy: 1.0000 - val_loss: 0.6598 - val_accuracy: 0.9750\n",
            "Epoch 10/50\n",
            "86/86 [==============================] - 27s 309ms/step - loss: 0.6567 - accuracy: 0.9991 - val_loss: 0.6583 - val_accuracy: 0.9750\n",
            "Epoch 11/50\n",
            "86/86 [==============================] - 26s 306ms/step - loss: 0.6548 - accuracy: 0.9993 - val_loss: 0.6573 - val_accuracy: 0.9750\n",
            "Epoch 12/50\n",
            "86/86 [==============================] - 27s 310ms/step - loss: 0.6540 - accuracy: 0.9995 - val_loss: 0.6565 - val_accuracy: 0.9750\n",
            "Epoch 13/50\n",
            "86/86 [==============================] - 27s 310ms/step - loss: 0.6536 - accuracy: 0.9989 - val_loss: 0.6556 - val_accuracy: 0.9750\n",
            "Epoch 14/50\n",
            "86/86 [==============================] - 27s 309ms/step - loss: 0.6531 - accuracy: 0.9995 - val_loss: 0.6548 - val_accuracy: 0.9750\n",
            "Epoch 15/50\n",
            "86/86 [==============================] - 25s 296ms/step - loss: 0.6527 - accuracy: 0.9996 - val_loss: 0.6543 - val_accuracy: 0.9750\n",
            "Epoch 16/50\n",
            "86/86 [==============================] - 26s 299ms/step - loss: 0.6523 - accuracy: 0.9998 - val_loss: 0.6539 - val_accuracy: 0.9750\n",
            "Epoch 17/50\n",
            "86/86 [==============================] - 26s 301ms/step - loss: 0.6519 - accuracy: 0.9998 - val_loss: 0.6535 - val_accuracy: 0.9750\n",
            "Epoch 18/50\n",
            "86/86 [==============================] - 26s 303ms/step - loss: 0.6516 - accuracy: 1.0000 - val_loss: 0.6532 - val_accuracy: 0.9750\n",
            "Epoch 19/50\n",
            "86/86 [==============================] - 27s 309ms/step - loss: 0.6514 - accuracy: 0.9998 - val_loss: 0.6530 - val_accuracy: 0.9750\n",
            "Epoch 20/50\n",
            "86/86 [==============================] - 26s 308ms/step - loss: 0.6514 - accuracy: 0.9998 - val_loss: 0.6527 - val_accuracy: 0.9750\n",
            "Epoch 21/50\n",
            "86/86 [==============================] - 27s 308ms/step - loss: 0.6512 - accuracy: 1.0000 - val_loss: 0.6526 - val_accuracy: 0.9750\n",
            "Epoch 22/50\n",
            "86/86 [==============================] - 27s 311ms/step - loss: 0.6512 - accuracy: 0.9996 - val_loss: 0.6524 - val_accuracy: 0.9750\n",
            "Epoch 23/50\n",
            "86/86 [==============================] - 26s 307ms/step - loss: 0.6510 - accuracy: 0.9998 - val_loss: 0.6522 - val_accuracy: 0.9750\n",
            "Epoch 24/50\n",
            "86/86 [==============================] - 27s 311ms/step - loss: 0.6509 - accuracy: 1.0000 - val_loss: 0.6520 - val_accuracy: 0.9750\n",
            "Epoch 25/50\n",
            "86/86 [==============================] - 27s 309ms/step - loss: 0.6509 - accuracy: 1.0000 - val_loss: 0.6518 - val_accuracy: 0.9750\n",
            "Epoch 26/50\n",
            "86/86 [==============================] - 27s 309ms/step - loss: 0.6509 - accuracy: 1.0000 - val_loss: 0.6516 - val_accuracy: 0.9750\n",
            "Epoch 27/50\n",
            "86/86 [==============================] - 27s 308ms/step - loss: 0.6508 - accuracy: 1.0000 - val_loss: 0.6513 - val_accuracy: 0.9750\n",
            "Epoch 28/50\n",
            "86/86 [==============================] - 26s 306ms/step - loss: 0.6508 - accuracy: 0.9998 - val_loss: 0.6512 - val_accuracy: 0.9750\n",
            "Epoch 29/50\n",
            "86/86 [==============================] - 27s 309ms/step - loss: 0.6507 - accuracy: 1.0000 - val_loss: 0.6510 - val_accuracy: 0.9750\n",
            "Epoch 30/50\n",
            "86/86 [==============================] - 27s 311ms/step - loss: 0.6507 - accuracy: 1.0000 - val_loss: 0.6509 - val_accuracy: 0.9750\n",
            "Epoch 31/50\n",
            "86/86 [==============================] - 26s 305ms/step - loss: 0.6507 - accuracy: 0.9998 - val_loss: 0.6507 - val_accuracy: 1.0000\n",
            "Epoch 32/50\n",
            "86/86 [==============================] - 26s 308ms/step - loss: 0.6507 - accuracy: 1.0000 - val_loss: 0.6506 - val_accuracy: 1.0000\n",
            "Epoch 33/50\n",
            "86/86 [==============================] - 27s 308ms/step - loss: 0.6507 - accuracy: 1.0000 - val_loss: 0.6505 - val_accuracy: 1.0000\n",
            "Epoch 34/50\n",
            "86/86 [==============================] - 26s 308ms/step - loss: 0.6507 - accuracy: 1.0000 - val_loss: 0.6504 - val_accuracy: 1.0000\n",
            "Epoch 35/50\n",
            "86/86 [==============================] - 27s 308ms/step - loss: 0.6507 - accuracy: 0.9998 - val_loss: 0.6503 - val_accuracy: 1.0000\n",
            "Epoch 36/50\n",
            "86/86 [==============================] - 26s 307ms/step - loss: 0.6506 - accuracy: 1.0000 - val_loss: 0.6502 - val_accuracy: 1.0000\n",
            "Epoch 37/50\n",
            "86/86 [==============================] - 27s 310ms/step - loss: 0.6506 - accuracy: 1.0000 - val_loss: 0.6501 - val_accuracy: 1.0000\n",
            "Epoch 38/50\n",
            "86/86 [==============================] - 26s 308ms/step - loss: 0.6506 - accuracy: 1.0000 - val_loss: 0.6501 - val_accuracy: 1.0000\n",
            "Epoch 39/50\n",
            "86/86 [==============================] - 27s 310ms/step - loss: 0.6506 - accuracy: 1.0000 - val_loss: 0.6500 - val_accuracy: 1.0000\n",
            "Epoch 40/50\n",
            "86/86 [==============================] - 27s 309ms/step - loss: 0.6506 - accuracy: 1.0000 - val_loss: 0.6499 - val_accuracy: 1.0000\n",
            "Epoch 41/50\n",
            "86/86 [==============================] - 26s 306ms/step - loss: 0.6506 - accuracy: 1.0000 - val_loss: 0.6499 - val_accuracy: 1.0000\n",
            "Epoch 42/50\n",
            "86/86 [==============================] - 27s 308ms/step - loss: 0.6506 - accuracy: 0.9998 - val_loss: 0.6499 - val_accuracy: 1.0000\n",
            "Epoch 43/50\n",
            "86/86 [==============================] - 27s 309ms/step - loss: 0.6506 - accuracy: 0.9996 - val_loss: 0.6498 - val_accuracy: 1.0000\n",
            "Epoch 44/50\n",
            "86/86 [==============================] - 27s 309ms/step - loss: 0.6506 - accuracy: 1.0000 - val_loss: 0.6498 - val_accuracy: 1.0000\n",
            "Epoch 45/50\n",
            "86/86 [==============================] - 26s 299ms/step - loss: 0.6507 - accuracy: 0.9998 - val_loss: 0.6497 - val_accuracy: 1.0000\n",
            "Epoch 46/50\n",
            "86/86 [==============================] - 26s 306ms/step - loss: 0.6506 - accuracy: 0.9998 - val_loss: 0.6497 - val_accuracy: 1.0000\n",
            "Epoch 47/50\n",
            "86/86 [==============================] - 27s 309ms/step - loss: 0.6506 - accuracy: 0.9996 - val_loss: 0.6497 - val_accuracy: 1.0000\n",
            "Epoch 48/50\n",
            "86/86 [==============================] - 27s 309ms/step - loss: 0.6506 - accuracy: 1.0000 - val_loss: 0.6497 - val_accuracy: 1.0000\n",
            "Epoch 49/50\n",
            "86/86 [==============================] - 27s 310ms/step - loss: 0.6506 - accuracy: 1.0000 - val_loss: 0.6496 - val_accuracy: 1.0000\n",
            "Epoch 50/50\n",
            "86/86 [==============================] - 26s 308ms/step - loss: 0.6506 - accuracy: 0.9998 - val_loss: 0.6496 - val_accuracy: 1.0000\n",
            "2/2 [==============================] - 0s 14ms/step - loss: 0.6525 - accuracy: 0.9756\n",
            "Mobile Net V2 Evaluate Score for fold 4: [loss of 0.652], [accuracy of 97.6%]\n",
            "Model: \"sequential_6\"\n",
            "_________________________________________________________________\n",
            "Layer (type)                 Output Shape              Param #   \n",
            "=================================================================\n",
            "mobilenetv2_1.00_224 (Functi (None, 1000)              3538984   \n",
            "_________________________________________________________________\n",
            "dense_8 (Dense)              (None, 2)                 2002      \n",
            "=================================================================\n",
            "Total params: 3,540,986\n",
            "Trainable params: 3,506,874\n",
            "Non-trainable params: 34,112\n",
            "_________________________________________________________________\n",
            "------------------------------------------------------------------------\n",
            "Training Mobile Net V2 for fold 5 ...\n",
            "Epoch 1/50\n",
            "87/87 [==============================] - 31s 314ms/step - loss: 0.7099 - accuracy: 0.9049 - val_loss: 0.7142 - val_accuracy: 0.7000\n",
            "Epoch 2/50\n",
            "87/87 [==============================] - 26s 302ms/step - loss: 0.6774 - accuracy: 0.9811 - val_loss: 0.7084 - val_accuracy: 0.7250\n",
            "Epoch 3/50\n",
            "87/87 [==============================] - 26s 302ms/step - loss: 0.6662 - accuracy: 0.9927 - val_loss: 0.6998 - val_accuracy: 0.7750\n",
            "Epoch 4/50\n",
            "87/87 [==============================] - 26s 299ms/step - loss: 0.6625 - accuracy: 0.9955 - val_loss: 0.6878 - val_accuracy: 0.8250\n",
            "Epoch 5/50\n",
            "87/87 [==============================] - 26s 303ms/step - loss: 0.6599 - accuracy: 0.9980 - val_loss: 0.6772 - val_accuracy: 0.9000\n",
            "Epoch 6/50\n",
            "87/87 [==============================] - 26s 303ms/step - loss: 0.6580 - accuracy: 0.9991 - val_loss: 0.6687 - val_accuracy: 0.9750\n",
            "Epoch 7/50\n",
            "87/87 [==============================] - 26s 298ms/step - loss: 0.6568 - accuracy: 0.9993 - val_loss: 0.6612 - val_accuracy: 0.9750\n",
            "Epoch 8/50\n",
            "87/87 [==============================] - 26s 299ms/step - loss: 0.6557 - accuracy: 0.9991 - val_loss: 0.6582 - val_accuracy: 0.9750\n",
            "Epoch 9/50\n",
            "87/87 [==============================] - 26s 303ms/step - loss: 0.6551 - accuracy: 0.9985 - val_loss: 0.6558 - val_accuracy: 0.9750\n",
            "Epoch 10/50\n",
            "87/87 [==============================] - 26s 300ms/step - loss: 0.6544 - accuracy: 0.9991 - val_loss: 0.6538 - val_accuracy: 1.0000\n",
            "Epoch 11/50\n",
            "87/87 [==============================] - 26s 298ms/step - loss: 0.6537 - accuracy: 0.9995 - val_loss: 0.6524 - val_accuracy: 1.0000\n",
            "Epoch 12/50\n",
            "87/87 [==============================] - 26s 299ms/step - loss: 0.6534 - accuracy: 0.9995 - val_loss: 0.6518 - val_accuracy: 1.0000\n",
            "Epoch 13/50\n",
            "87/87 [==============================] - 26s 301ms/step - loss: 0.6530 - accuracy: 0.9998 - val_loss: 0.6515 - val_accuracy: 1.0000\n",
            "Epoch 14/50\n",
            "87/87 [==============================] - 26s 300ms/step - loss: 0.6527 - accuracy: 1.0000 - val_loss: 0.6512 - val_accuracy: 1.0000\n",
            "Epoch 15/50\n",
            "87/87 [==============================] - 26s 300ms/step - loss: 0.6525 - accuracy: 0.9996 - val_loss: 0.6510 - val_accuracy: 1.0000\n",
            "Epoch 16/50\n",
            "87/87 [==============================] - 26s 299ms/step - loss: 0.6523 - accuracy: 0.9998 - val_loss: 0.6508 - val_accuracy: 1.0000\n",
            "Epoch 17/50\n",
            "87/87 [==============================] - 26s 302ms/step - loss: 0.6522 - accuracy: 0.9995 - val_loss: 0.6507 - val_accuracy: 1.0000\n",
            "Epoch 18/50\n",
            "87/87 [==============================] - 26s 300ms/step - loss: 0.6519 - accuracy: 1.0000 - val_loss: 0.6506 - val_accuracy: 1.0000\n",
            "Epoch 19/50\n",
            "87/87 [==============================] - 26s 301ms/step - loss: 0.6519 - accuracy: 0.9996 - val_loss: 0.6505 - val_accuracy: 1.0000\n",
            "Epoch 20/50\n",
            "87/87 [==============================] - 26s 303ms/step - loss: 0.6518 - accuracy: 1.0000 - val_loss: 0.6504 - val_accuracy: 1.0000\n",
            "Epoch 21/50\n",
            "87/87 [==============================] - 26s 302ms/step - loss: 0.6517 - accuracy: 1.0000 - val_loss: 0.6503 - val_accuracy: 1.0000\n",
            "Epoch 22/50\n",
            "87/87 [==============================] - 26s 302ms/step - loss: 0.6516 - accuracy: 1.0000 - val_loss: 0.6502 - val_accuracy: 1.0000\n",
            "Epoch 23/50\n",
            "87/87 [==============================] - 26s 302ms/step - loss: 0.6516 - accuracy: 1.0000 - val_loss: 0.6502 - val_accuracy: 1.0000\n",
            "Epoch 24/50\n",
            "87/87 [==============================] - 26s 303ms/step - loss: 0.6516 - accuracy: 0.9998 - val_loss: 0.6502 - val_accuracy: 1.0000\n",
            "Epoch 25/50\n",
            "87/87 [==============================] - 27s 305ms/step - loss: 0.6515 - accuracy: 1.0000 - val_loss: 0.6501 - val_accuracy: 1.0000\n",
            "Epoch 26/50\n",
            "87/87 [==============================] - 26s 303ms/step - loss: 0.6515 - accuracy: 0.9995 - val_loss: 0.6501 - val_accuracy: 1.0000\n",
            "Epoch 27/50\n",
            "87/87 [==============================] - 26s 305ms/step - loss: 0.6515 - accuracy: 0.9998 - val_loss: 0.6501 - val_accuracy: 1.0000\n",
            "Epoch 28/50\n",
            "87/87 [==============================] - 26s 303ms/step - loss: 0.6514 - accuracy: 0.9998 - val_loss: 0.6501 - val_accuracy: 1.0000\n",
            "Epoch 29/50\n",
            "87/87 [==============================] - 26s 304ms/step - loss: 0.6514 - accuracy: 0.9996 - val_loss: 0.6500 - val_accuracy: 1.0000\n",
            "Epoch 30/50\n",
            "87/87 [==============================] - 26s 301ms/step - loss: 0.6515 - accuracy: 0.9993 - val_loss: 0.6500 - val_accuracy: 1.0000\n",
            "Epoch 31/50\n",
            "87/87 [==============================] - 26s 300ms/step - loss: 0.6514 - accuracy: 0.9996 - val_loss: 0.6500 - val_accuracy: 1.0000\n",
            "Epoch 32/50\n",
            "87/87 [==============================] - 26s 300ms/step - loss: 0.6513 - accuracy: 1.0000 - val_loss: 0.6500 - val_accuracy: 1.0000\n",
            "Epoch 33/50\n",
            "87/87 [==============================] - 26s 303ms/step - loss: 0.6514 - accuracy: 0.9998 - val_loss: 0.6500 - val_accuracy: 1.0000\n",
            "Epoch 34/50\n",
            "87/87 [==============================] - 26s 300ms/step - loss: 0.6514 - accuracy: 0.9998 - val_loss: 0.6500 - val_accuracy: 1.0000\n",
            "Epoch 35/50\n",
            "87/87 [==============================] - 26s 297ms/step - loss: 0.6514 - accuracy: 0.9996 - val_loss: 0.6500 - val_accuracy: 1.0000\n",
            "Epoch 36/50\n",
            "87/87 [==============================] - 26s 298ms/step - loss: 0.6513 - accuracy: 0.9998 - val_loss: 0.6500 - val_accuracy: 1.0000\n",
            "Epoch 37/50\n",
            "87/87 [==============================] - 26s 301ms/step - loss: 0.6514 - accuracy: 1.0000 - val_loss: 0.6500 - val_accuracy: 1.0000\n",
            "Epoch 38/50\n",
            "87/87 [==============================] - 26s 299ms/step - loss: 0.6514 - accuracy: 0.9998 - val_loss: 0.6500 - val_accuracy: 1.0000\n",
            "Epoch 39/50\n",
            "87/87 [==============================] - 26s 301ms/step - loss: 0.6514 - accuracy: 0.9998 - val_loss: 0.6500 - val_accuracy: 1.0000\n",
            "Epoch 40/50\n",
            "87/87 [==============================] - 26s 297ms/step - loss: 0.6514 - accuracy: 0.9995 - val_loss: 0.6500 - val_accuracy: 1.0000\n",
            "Epoch 41/50\n",
            "87/87 [==============================] - 26s 298ms/step - loss: 0.6514 - accuracy: 1.0000 - val_loss: 0.6500 - val_accuracy: 1.0000\n",
            "Epoch 42/50\n",
            "87/87 [==============================] - 26s 299ms/step - loss: 0.6514 - accuracy: 0.9998 - val_loss: 0.6500 - val_accuracy: 1.0000\n",
            "Epoch 43/50\n",
            "87/87 [==============================] - 26s 300ms/step - loss: 0.6513 - accuracy: 0.9998 - val_loss: 0.6500 - val_accuracy: 1.0000\n",
            "Epoch 44/50\n",
            "87/87 [==============================] - 26s 301ms/step - loss: 0.6514 - accuracy: 0.9998 - val_loss: 0.6500 - val_accuracy: 1.0000\n",
            "Epoch 45/50\n",
            "87/87 [==============================] - 26s 303ms/step - loss: 0.6513 - accuracy: 0.9998 - val_loss: 0.6500 - val_accuracy: 1.0000\n",
            "Epoch 46/50\n",
            "87/87 [==============================] - 26s 304ms/step - loss: 0.6513 - accuracy: 0.9998 - val_loss: 0.6500 - val_accuracy: 1.0000\n",
            "Epoch 47/50\n",
            "87/87 [==============================] - 26s 303ms/step - loss: 0.6513 - accuracy: 1.0000 - val_loss: 0.6500 - val_accuracy: 1.0000\n",
            "Epoch 48/50\n",
            "87/87 [==============================] - 27s 305ms/step - loss: 0.6513 - accuracy: 0.9998 - val_loss: 0.6500 - val_accuracy: 1.0000\n",
            "Epoch 49/50\n",
            "87/87 [==============================] - 26s 301ms/step - loss: 0.6514 - accuracy: 0.9998 - val_loss: 0.6500 - val_accuracy: 1.0000\n",
            "Epoch 50/50\n",
            "87/87 [==============================] - 26s 298ms/step - loss: 0.6514 - accuracy: 0.9998 - val_loss: 0.6500 - val_accuracy: 1.0000\n",
            "2/2 [==============================] - 0s 13ms/step - loss: 0.6505 - accuracy: 1.0000\n",
            "Mobile Net V2 Evaluate Score for fold 5: [loss of 0.651], [accuracy of 100.0%]\n"
          ],
          "name": "stdout"
        }
      ]
    },
    {
      "cell_type": "code",
      "metadata": {
        "id": "Ud_CM-loLqo7",
        "colab": {
          "base_uri": "https://localhost:8080/"
        },
        "outputId": "bff8990b-179b-42a5-cfff-3345d623739c"
      },
      "source": [
        "# == Provide average scores ==\n",
        "print('--------------Mobile Net V2--------------')\n",
        "print('각 fold 당 성능')\n",
        "for i in range(0, len(d121_acc_per_fold)):\n",
        "  print('------------------------------------------------------------------------')\n",
        "  print(f'> 폴드 {i+1}의 - Loss: {round(d121_loss_per_fold[i],3)} - Accuracy: {round(d121_acc_per_fold[i],3)}%')\n",
        "print('------------------------------------------------------------------------')\n",
        "print('모든 폴드들의 평균 성능:')\n",
        "print(f'> Accuracy: {round(np.mean(d121_acc_per_fold),3)} (+- {round(np.std(d121_acc_per_fold),2)})')\n",
        "print(f'> Loss: {round(np.mean(d121_loss_per_fold),2)}')\n",
        "print(f'> class error : {round(np.mean(sss),2)}%')\n",
        "print(f'> top 1 error : {round(np.mean(d121_t1),2)}%')\n",
        "print(f'> top 2 error : {round(np.mean(d121_t2),2)}%')\n",
        "print(f'> top 3 error : {round(np.mean(d121_t3),2)}%')"
      ],
      "execution_count": null,
      "outputs": [
        {
          "output_type": "stream",
          "text": [
            "--------------Mobile Net V2--------------\n",
            "각 fold 당 성능\n",
            "------------------------------------------------------------------------\n",
            "> 폴드 1의 - Loss: 0.652 - Accuracy: 1.0%\n",
            "------------------------------------------------------------------------\n",
            "> 폴드 2의 - Loss: 0.648 - Accuracy: 1.0%\n",
            "------------------------------------------------------------------------\n",
            "> 폴드 3의 - Loss: 0.651 - Accuracy: 1.0%\n",
            "------------------------------------------------------------------------\n",
            "> 폴드 4의 - Loss: 0.652 - Accuracy: 0.976%\n",
            "------------------------------------------------------------------------\n",
            "> 폴드 5의 - Loss: 0.651 - Accuracy: 1.0%\n",
            "------------------------------------------------------------------------\n",
            "모든 폴드들의 평균 성능:\n",
            "> Accuracy: 0.995 (+- 0.01)\n",
            "> Loss: 0.65\n",
            "> class error : 0.49%\n",
            "> top 1 error : 0.48%\n",
            "> top 2 error : 0.0%\n",
            "> top 3 error : 0.0%\n"
          ],
          "name": "stdout"
        }
      ]
    },
    {
      "cell_type": "code",
      "metadata": {
        "colab": {
          "base_uri": "https://localhost:8080/",
          "height": 573
        },
        "id": "QbpVqaccZ0-X",
        "outputId": "9f8595f5-6c01-4b22-a632-e95df826a77e"
      },
      "source": [
        "H = []\n",
        "H.append(history1)\n",
        "\n",
        "l0=np.asarray(H[0].history['loss'])\n",
        "\n",
        "\n",
        "v_l0=np.asarray(H[0].history['val_loss'])\n",
        "\n",
        "\n",
        "\n",
        "\n",
        "a0=np.asarray(H[0].history['accuracy'])\n",
        "\n",
        "\n",
        "v_a0=np.asarray(H[0].history['val_accuracy'])\n",
        "\n",
        "\n",
        "\n",
        "plt.plot(l0)\n",
        "plt.plot(v_l0)\n",
        "plt.title('Dense type model with raw data  loss',color='w')\n",
        "plt.ylabel('loss',color='w')\n",
        "plt.xlabel('epoch',color='w')\n",
        "plt.legend(['train', 'valid'], loc='upper left')\n",
        "plt.show()\n",
        "\n",
        "plt.plot(a0)\n",
        "plt.plot(v_a0)\n",
        "plt.title('Dense type model with raw data accuracy',color='w')\n",
        "plt.ylabel('accuracy',color='w')\n",
        "plt.xlabel('epoch',color='w')\n",
        "plt.legend(['train', 'valid'], loc='upper left')\n",
        "plt.show()"
      ],
      "execution_count": null,
      "outputs": [
        {
          "output_type": "display_data",
          "data": {
            "image/png": "[encoded data removed]",
            "text/plain": [
              "<Figure size 432x288 with 1 Axes>"
            ]
          },
          "metadata": {
            "tags": [],
            "needs_background": "light"
          }
        },
        {
          "output_type": "display_data",
          "data": {
            "image/png": "[encoded data removed]",
            "text/plain": [
              "<Figure size 432x288 with 1 Axes>"
            ]
          },
          "metadata": {
            "tags": [],
            "needs_background": "light"
          }
        }
      ]
    },
    {
      "cell_type": "code",
      "metadata": {
        "id": "YreR_PDkoUgA"
      },
      "source": [
        "class_names=['Paper','Promotion']\n",
        "num_class = len(class_names)\n",
        "\n",
        "model = tf.keras.Sequential([\n",
        "tf.keras.applications.MobileNetV2(weights='imagenet',input_shape=(224,224,3),pooling=None,classes=1000),\n",
        "tf.keras.layers.Dense(num_class,activation='softmax',activity_regularizer = tf.keras.regularizers.l1(0.04))\n",
        "  # tf.keras.layers.Dense(num_class,activation='softmax')\n",
        "  ])\n",
        "#import pre-trained weight\n",
        "checkpoint_path =\"/content/drive/My Drive/Paper_classification_weight3/cp.ckpt\"\n",
        "model.load_weights(checkpoint_path)\n",
        "\n",
        "from PIL import Image\n",
        "fpaths = '/content/drive/MyDrive/test_img/pet2.jpg'\n",
        "m = 224\n",
        "n = 224\n",
        "label = 'PET'\n",
        "img_array = []\n",
        "lab_array = []\n",
        "\n",
        "# print(fname)  \n",
        "img = Image.open(fpaths).convert('RGB')\n",
        "print(img.size)\n",
        "img = img.resize((m, n))\n",
        "print(img.size)\n",
        "img_array.append(np.asarray(img))\n",
        "#print(img_array.shape)\n",
        "lab_array.append(label)\n",
        "\n",
        "images = np.array(img_array)\n",
        "labels = np.array(lab_array)\n",
        "\n",
        "images = images.astype(np.float32) /255.\n",
        "\n",
        "\n",
        "\n",
        "#predict\n",
        "preds = model.predict(images)\n",
        "print(preds)\n",
        "print(np.argmax(preds))\n",
        "print(class_names[np.argmax(preds)],np.max(preds))"
      ],
      "execution_count": null,
      "outputs": []
    },
    {
      "cell_type": "code",
      "metadata": {
        "id": "Ogb0W-p5cdlI"
      },
      "source": [
        "python"
      ],
      "execution_count": null,
      "outputs": []
    }
  ]
}