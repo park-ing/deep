{
  "nbformat": 4,
  "nbformat_minor": 0,
  "metadata": {
    "colab": {
      "name": "tf2onnx_최적화.ipynb",
      "provenance": [],
      "collapsed_sections": []
    },
    "kernelspec": {
      "name": "python3",
      "display_name": "Python 3"
    },
    "language_info": {
      "name": "python"
    }
  },
  "cells": [
    {
      "cell_type": "code",
      "metadata": {
        "colab": {
          "base_uri": "https://localhost:8080/"
        },
        "id": "7q-yNygh2R7m",
        "outputId": "348c81e8-17b5-4929-e80a-ae275185171d"
      },
      "source": [
        "pip install tf2onnx"
      ],
      "execution_count": null,
      "outputs": [
        {
          "output_type": "stream",
          "name": "stdout",
          "text": [
            "Collecting tf2onnx\n",
            "  Downloading tf2onnx-1.9.2-py3-none-any.whl (430 kB)\n",
            "\u001b[?25l\r\u001b[K     |▊                               | 10 kB 25.4 MB/s eta 0:00:01\r\u001b[K     |█▌                              | 20 kB 12.3 MB/s eta 0:00:01\r\u001b[K     |██▎                             | 30 kB 9.9 MB/s eta 0:00:01\r\u001b[K     |███                             | 40 kB 9.2 MB/s eta 0:00:01\r\u001b[K     |███▉                            | 51 kB 5.1 MB/s eta 0:00:01\r\u001b[K     |████▋                           | 61 kB 5.8 MB/s eta 0:00:01\r\u001b[K     |█████▎                          | 71 kB 5.7 MB/s eta 0:00:01\r\u001b[K     |██████                          | 81 kB 6.4 MB/s eta 0:00:01\r\u001b[K     |██████▉                         | 92 kB 6.2 MB/s eta 0:00:01\r\u001b[K     |███████▋                        | 102 kB 5.3 MB/s eta 0:00:01\r\u001b[K     |████████▍                       | 112 kB 5.3 MB/s eta 0:00:01\r\u001b[K     |█████████▏                      | 122 kB 5.3 MB/s eta 0:00:01\r\u001b[K     |██████████                      | 133 kB 5.3 MB/s eta 0:00:01\r\u001b[K     |██████████▋                     | 143 kB 5.3 MB/s eta 0:00:01\r\u001b[K     |███████████▍                    | 153 kB 5.3 MB/s eta 0:00:01\r\u001b[K     |████████████▏                   | 163 kB 5.3 MB/s eta 0:00:01\r\u001b[K     |█████████████                   | 174 kB 5.3 MB/s eta 0:00:01\r\u001b[K     |█████████████▊                  | 184 kB 5.3 MB/s eta 0:00:01\r\u001b[K     |██████████████▌                 | 194 kB 5.3 MB/s eta 0:00:01\r\u001b[K     |███████████████▎                | 204 kB 5.3 MB/s eta 0:00:01\r\u001b[K     |████████████████                | 215 kB 5.3 MB/s eta 0:00:01\r\u001b[K     |████████████████▊               | 225 kB 5.3 MB/s eta 0:00:01\r\u001b[K     |█████████████████▌              | 235 kB 5.3 MB/s eta 0:00:01\r\u001b[K     |██████████████████▎             | 245 kB 5.3 MB/s eta 0:00:01\r\u001b[K     |███████████████████             | 256 kB 5.3 MB/s eta 0:00:01\r\u001b[K     |███████████████████▉            | 266 kB 5.3 MB/s eta 0:00:01\r\u001b[K     |████████████████████▋           | 276 kB 5.3 MB/s eta 0:00:01\r\u001b[K     |█████████████████████▎          | 286 kB 5.3 MB/s eta 0:00:01\r\u001b[K     |██████████████████████          | 296 kB 5.3 MB/s eta 0:00:01\r\u001b[K     |██████████████████████▉         | 307 kB 5.3 MB/s eta 0:00:01\r\u001b[K     |███████████████████████▋        | 317 kB 5.3 MB/s eta 0:00:01\r\u001b[K     |████████████████████████▍       | 327 kB 5.3 MB/s eta 0:00:01\r\u001b[K     |█████████████████████████▏      | 337 kB 5.3 MB/s eta 0:00:01\r\u001b[K     |██████████████████████████      | 348 kB 5.3 MB/s eta 0:00:01\r\u001b[K     |██████████████████████████▋     | 358 kB 5.3 MB/s eta 0:00:01\r\u001b[K     |███████████████████████████▍    | 368 kB 5.3 MB/s eta 0:00:01\r\u001b[K     |████████████████████████████▏   | 378 kB 5.3 MB/s eta 0:00:01\r\u001b[K     |█████████████████████████████   | 389 kB 5.3 MB/s eta 0:00:01\r\u001b[K     |█████████████████████████████▊  | 399 kB 5.3 MB/s eta 0:00:01\r\u001b[K     |██████████████████████████████▌ | 409 kB 5.3 MB/s eta 0:00:01\r\u001b[K     |███████████████████████████████▎| 419 kB 5.3 MB/s eta 0:00:01\r\u001b[K     |████████████████████████████████| 430 kB 5.3 MB/s eta 0:00:01\r\u001b[K     |████████████████████████████████| 430 kB 5.3 MB/s \n",
            "\u001b[?25hRequirement already satisfied: six in /usr/local/lib/python3.7/dist-packages (from tf2onnx) (1.15.0)\n",
            "Requirement already satisfied: numpy>=1.14.1 in /usr/local/lib/python3.7/dist-packages (from tf2onnx) (1.19.5)\n",
            "Collecting onnx>=1.4.1\n",
            "  Downloading onnx-1.10.1-cp37-cp37m-manylinux_2_12_x86_64.manylinux2010_x86_64.whl (12.3 MB)\n",
            "\u001b[K     |████████████████████████████████| 12.3 MB 21.9 MB/s \n",
            "\u001b[?25hRequirement already satisfied: flatbuffers~=1.12 in /usr/local/lib/python3.7/dist-packages (from tf2onnx) (1.12)\n",
            "Requirement already satisfied: requests in /usr/local/lib/python3.7/dist-packages (from tf2onnx) (2.23.0)\n",
            "Requirement already satisfied: typing-extensions>=3.6.2.1 in /usr/local/lib/python3.7/dist-packages (from onnx>=1.4.1->tf2onnx) (3.7.4.3)\n",
            "Requirement already satisfied: protobuf in /usr/local/lib/python3.7/dist-packages (from onnx>=1.4.1->tf2onnx) (3.17.3)\n",
            "Requirement already satisfied: chardet<4,>=3.0.2 in /usr/local/lib/python3.7/dist-packages (from requests->tf2onnx) (3.0.4)\n",
            "Requirement already satisfied: idna<3,>=2.5 in /usr/local/lib/python3.7/dist-packages (from requests->tf2onnx) (2.10)\n",
            "Requirement already satisfied: urllib3!=1.25.0,!=1.25.1,<1.26,>=1.21.1 in /usr/local/lib/python3.7/dist-packages (from requests->tf2onnx) (1.24.3)\n",
            "Requirement already satisfied: certifi>=2017.4.17 in /usr/local/lib/python3.7/dist-packages (from requests->tf2onnx) (2021.5.30)\n",
            "Installing collected packages: onnx, tf2onnx\n",
            "Successfully installed onnx-1.10.1 tf2onnx-1.9.2\n"
          ]
        }
      ]
    },
    {
      "cell_type": "code",
      "metadata": {
        "id": "RBYzqVac15VI"
      },
      "source": [
        "import tf2onnx"
      ],
      "execution_count": null,
      "outputs": []
    },
    {
      "cell_type": "code",
      "metadata": {
        "colab": {
          "base_uri": "https://localhost:8080/"
        },
        "id": "E6WtxVkX3FBS",
        "outputId": "d16a2daa-78bb-4755-93d9-38d4afdf81e2"
      },
      "source": [
        "from google.colab import drive\n",
        "drive.mount('/content/drive')"
      ],
      "execution_count": null,
      "outputs": [
        {
          "output_type": "stream",
          "name": "stdout",
          "text": [
            "Mounted at /content/drive\n"
          ]
        }
      ]
    },
    {
      "cell_type": "code",
      "metadata": {
        "colab": {
          "base_uri": "https://localhost:8080/"
        },
        "id": "c803JkU73_aH",
        "outputId": "4b682ad6-44d5-4486-bc06-9efe5e03bf49"
      },
      "source": [
        "tf2onnx.convert"
      ],
      "execution_count": null,
      "outputs": [
        {
          "output_type": "execute_result",
          "data": {
            "text/plain": [
              "<module 'tf2onnx.convert' from '/usr/local/lib/python3.7/dist-packages/tf2onnx/convert.py'>"
            ]
          },
          "metadata": {},
          "execution_count": 8
        }
      ]
    },
    {
      "cell_type": "code",
      "metadata": {
        "colab": {
          "base_uri": "https://localhost:8080/"
        },
        "id": "074rYDz68w7H",
        "outputId": "09d9145d-460f-4d2f-82c6-c2b4354841af"
      },
      "source": [
        "pip install onnxruntime==1.4.0"
      ],
      "execution_count": null,
      "outputs": [
        {
          "output_type": "stream",
          "name": "stdout",
          "text": [
            "Collecting onnxruntime==1.4.0\n",
            "  Downloading onnxruntime-1.4.0-cp37-cp37m-manylinux2010_x86_64.whl (4.4 MB)\n",
            "\u001b[K     |████████████████████████████████| 4.4 MB 4.2 MB/s \n",
            "\u001b[?25hRequirement already satisfied: numpy>=1.16.6 in /usr/local/lib/python3.7/dist-packages (from onnxruntime==1.4.0) (1.19.5)\n",
            "Requirement already satisfied: protobuf in /usr/local/lib/python3.7/dist-packages (from onnxruntime==1.4.0) (3.17.3)\n",
            "Requirement already satisfied: six>=1.9 in /usr/local/lib/python3.7/dist-packages (from protobuf->onnxruntime==1.4.0) (1.15.0)\n",
            "Installing collected packages: onnxruntime\n",
            "Successfully installed onnxruntime-1.4.0\n"
          ]
        }
      ]
    },
    {
      "cell_type": "code",
      "metadata": {
        "id": "0hf1q0dY7WOf"
      },
      "source": [
        "import onnxruntime as rt\n",
        "from keras.models import load_model\n",
        "\n",
        "model = load_model('/content/drive/MyDrive/Plastic_classification_pb/3')\n"
      ],
      "execution_count": null,
      "outputs": []
    },
    {
      "cell_type": "code",
      "metadata": {
        "id": "dh1VnMjx8_Rr"
      },
      "source": [
        "import tensorflow as tf\n",
        "\n",
        "spec = (tf.TensorSpec((None, 224, 224, 3), tf.float32, name=\"input\"),)\n",
        "output_path = model.name + \".onnx\"\n",
        "\n",
        "\n",
        "# opset 버전으로 onnxruntime 버전문제 해결해보기\n",
        "model_proto, _ = tf2onnx.convert.from_keras(model, input_signature=spec, opset=9, output_path=output_path)\n",
        "output_names = [n.name for n in model_proto.graph.output]"
      ],
      "execution_count": null,
      "outputs": []
    },
    {
      "cell_type": "code",
      "metadata": {
        "colab": {
          "base_uri": "https://localhost:8080/"
        },
        "id": "z-_Zc4aG-FNe",
        "outputId": "5b5c7d06-8efb-4617-e1c6-5d5132001aaf"
      },
      "source": [
        "print(output_names)"
      ],
      "execution_count": null,
      "outputs": [
        {
          "output_type": "stream",
          "text": [
            "['dense_37']\n"
          ],
          "name": "stdout"
        }
      ]
    },
    {
      "cell_type": "code",
      "metadata": {
        "id": "m3afhpjD9zm5"
      },
      "source": [
        ""
      ],
      "execution_count": null,
      "outputs": []
    },
    {
      "cell_type": "code",
      "metadata": {
        "colab": {
          "base_uri": "https://localhost:8080/"
        },
        "id": "5K5JlUeT2bcv",
        "outputId": "d4143690-8da7-419e-801b-31dbb8099b08"
      },
      "source": [
        "!python -m tf2onnx.convert --saved-model /content/drive/MyDrive/Plastic_classification_pb/3 --opset 10 --output tfmodel.onnx"
      ],
      "execution_count": null,
      "outputs": [
        {
          "output_type": "stream",
          "text": [
            "/usr/lib/python3.7/runpy.py:125: RuntimeWarning: 'tf2onnx.convert' found in sys.modules after import of package 'tf2onnx', but prior to execution of 'tf2onnx.convert'; this may result in unpredictable behaviour\n",
            "  warn(RuntimeWarning(msg))\n",
            "2021-08-26 05:37:08,028 - WARNING - '--tag' not specified for saved_model. Using --tag serve\n",
            "Traceback (most recent call last):\n",
            "  File \"/usr/lib/python3.7/runpy.py\", line 193, in _run_module_as_main\n",
            "    \"__main__\", mod_spec)\n",
            "  File \"/usr/lib/python3.7/runpy.py\", line 85, in _run_code\n",
            "    exec(code, run_globals)\n",
            "  File \"/usr/local/lib/python3.7/dist-packages/tf2onnx/convert.py\", line 617, in <module>\n",
            "    main()\n",
            "  File \"/usr/local/lib/python3.7/dist-packages/tf2onnx/convert.py\", line 228, in main\n",
            "    use_graph_names=args.use_graph_names)\n",
            "  File \"/usr/local/lib/python3.7/dist-packages/tf2onnx/tf_loader.py\", line 612, in from_saved_model\n",
            "    tag, signatures, concrete_function, large_model, use_graph_names)\n",
            "  File \"/usr/local/lib/python3.7/dist-packages/tf2onnx/tf_loader.py\", line 549, in _from_saved_model_v2\n",
            "    imported = tf.saved_model.load(model_path, tags=tag)  # pylint: disable=no-value-for-parameter\n",
            "  File \"/usr/local/lib/python3.7/dist-packages/tensorflow/python/saved_model/load.py\", line 864, in load\n",
            "    result = load_internal(export_dir, tags, options)[\"root\"]\n",
            "  File \"/usr/local/lib/python3.7/dist-packages/tensorflow/python/saved_model/load.py\", line 903, in load_internal\n",
            "    ckpt_options, options, filters)\n",
            "  File \"/usr/local/lib/python3.7/dist-packages/tensorflow/python/saved_model/load.py\", line 162, in __init__\n",
            "    self._load_all()\n",
            "  File \"/usr/local/lib/python3.7/dist-packages/tensorflow/python/saved_model/load.py\", line 259, in _load_all\n",
            "    self._load_nodes()\n",
            "  File \"/usr/local/lib/python3.7/dist-packages/tensorflow/python/saved_model/load.py\", line 448, in _load_nodes\n",
            "    slot_variable = optimizer_object.add_slot(\n",
            "AttributeError: '_UserObject' object has no attribute 'add_slot'\n"
          ],
          "name": "stdout"
        }
      ]
    },
    {
      "cell_type": "code",
      "metadata": {
        "colab": {
          "base_uri": "https://localhost:8080/"
        },
        "id": "PxrTxb1TRoTo",
        "outputId": "ff86ffbe-d7a1-47ca-eddb-825b7adb1f46"
      },
      "source": [
        "pip install netron"
      ],
      "execution_count": null,
      "outputs": [
        {
          "output_type": "stream",
          "text": [
            "Collecting netron\n",
            "  Downloading netron-5.1.5-py2.py3-none-any.whl (1.3 MB)\n",
            "\u001b[?25l\r\u001b[K     |▎                               | 10 kB 11.6 MB/s eta 0:00:01\r\u001b[K     |▌                               | 20 kB 17.6 MB/s eta 0:00:01\r\u001b[K     |▊                               | 30 kB 23.3 MB/s eta 0:00:01\r\u001b[K     |█                               | 40 kB 28.3 MB/s eta 0:00:01\r\u001b[K     |█▎                              | 51 kB 19.8 MB/s eta 0:00:01\r\u001b[K     |█▌                              | 61 kB 21.0 MB/s eta 0:00:01\r\u001b[K     |█▊                              | 71 kB 11.1 MB/s eta 0:00:01\r\u001b[K     |██                              | 81 kB 12.4 MB/s eta 0:00:01\r\u001b[K     |██▎                             | 92 kB 13.7 MB/s eta 0:00:01\r\u001b[K     |██▌                             | 102 kB 14.6 MB/s eta 0:00:01\r\u001b[K     |██▊                             | 112 kB 14.6 MB/s eta 0:00:01\r\u001b[K     |███                             | 122 kB 14.6 MB/s eta 0:00:01\r\u001b[K     |███▏                            | 133 kB 14.6 MB/s eta 0:00:01\r\u001b[K     |███▌                            | 143 kB 14.6 MB/s eta 0:00:01\r\u001b[K     |███▊                            | 153 kB 14.6 MB/s eta 0:00:01\r\u001b[K     |████                            | 163 kB 14.6 MB/s eta 0:00:01\r\u001b[K     |████▏                           | 174 kB 14.6 MB/s eta 0:00:01\r\u001b[K     |████▌                           | 184 kB 14.6 MB/s eta 0:00:01\r\u001b[K     |████▊                           | 194 kB 14.6 MB/s eta 0:00:01\r\u001b[K     |█████                           | 204 kB 14.6 MB/s eta 0:00:01\r\u001b[K     |█████▏                          | 215 kB 14.6 MB/s eta 0:00:01\r\u001b[K     |█████▌                          | 225 kB 14.6 MB/s eta 0:00:01\r\u001b[K     |█████▊                          | 235 kB 14.6 MB/s eta 0:00:01\r\u001b[K     |██████                          | 245 kB 14.6 MB/s eta 0:00:01\r\u001b[K     |██████▏                         | 256 kB 14.6 MB/s eta 0:00:01\r\u001b[K     |██████▍                         | 266 kB 14.6 MB/s eta 0:00:01\r\u001b[K     |██████▊                         | 276 kB 14.6 MB/s eta 0:00:01\r\u001b[K     |███████                         | 286 kB 14.6 MB/s eta 0:00:01\r\u001b[K     |███████▏                        | 296 kB 14.6 MB/s eta 0:00:01\r\u001b[K     |███████▍                        | 307 kB 14.6 MB/s eta 0:00:01\r\u001b[K     |███████▊                        | 317 kB 14.6 MB/s eta 0:00:01\r\u001b[K     |████████                        | 327 kB 14.6 MB/s eta 0:00:01\r\u001b[K     |████████▏                       | 337 kB 14.6 MB/s eta 0:00:01\r\u001b[K     |████████▍                       | 348 kB 14.6 MB/s eta 0:00:01\r\u001b[K     |████████▋                       | 358 kB 14.6 MB/s eta 0:00:01\r\u001b[K     |█████████                       | 368 kB 14.6 MB/s eta 0:00:01\r\u001b[K     |█████████▏                      | 378 kB 14.6 MB/s eta 0:00:01\r\u001b[K     |█████████▍                      | 389 kB 14.6 MB/s eta 0:00:01\r\u001b[K     |█████████▋                      | 399 kB 14.6 MB/s eta 0:00:01\r\u001b[K     |██████████                      | 409 kB 14.6 MB/s eta 0:00:01\r\u001b[K     |██████████▏                     | 419 kB 14.6 MB/s eta 0:00:01\r\u001b[K     |██████████▍                     | 430 kB 14.6 MB/s eta 0:00:01\r\u001b[K     |██████████▋                     | 440 kB 14.6 MB/s eta 0:00:01\r\u001b[K     |███████████                     | 450 kB 14.6 MB/s eta 0:00:01\r\u001b[K     |███████████▏                    | 460 kB 14.6 MB/s eta 0:00:01\r\u001b[K     |███████████▍                    | 471 kB 14.6 MB/s eta 0:00:01\r\u001b[K     |███████████▋                    | 481 kB 14.6 MB/s eta 0:00:01\r\u001b[K     |███████████▉                    | 491 kB 14.6 MB/s eta 0:00:01\r\u001b[K     |████████████▏                   | 501 kB 14.6 MB/s eta 0:00:01\r\u001b[K     |████████████▍                   | 512 kB 14.6 MB/s eta 0:00:01\r\u001b[K     |████████████▋                   | 522 kB 14.6 MB/s eta 0:00:01\r\u001b[K     |████████████▉                   | 532 kB 14.6 MB/s eta 0:00:01\r\u001b[K     |█████████████▏                  | 542 kB 14.6 MB/s eta 0:00:01\r\u001b[K     |█████████████▍                  | 552 kB 14.6 MB/s eta 0:00:01\r\u001b[K     |█████████████▋                  | 563 kB 14.6 MB/s eta 0:00:01\r\u001b[K     |█████████████▉                  | 573 kB 14.6 MB/s eta 0:00:01\r\u001b[K     |██████████████                  | 583 kB 14.6 MB/s eta 0:00:01\r\u001b[K     |██████████████▍                 | 593 kB 14.6 MB/s eta 0:00:01\r\u001b[K     |██████████████▋                 | 604 kB 14.6 MB/s eta 0:00:01\r\u001b[K     |██████████████▉                 | 614 kB 14.6 MB/s eta 0:00:01\r\u001b[K     |███████████████                 | 624 kB 14.6 MB/s eta 0:00:01\r\u001b[K     |███████████████▍                | 634 kB 14.6 MB/s eta 0:00:01\r\u001b[K     |███████████████▋                | 645 kB 14.6 MB/s eta 0:00:01\r\u001b[K     |███████████████▉                | 655 kB 14.6 MB/s eta 0:00:01\r\u001b[K     |████████████████                | 665 kB 14.6 MB/s eta 0:00:01\r\u001b[K     |████████████████▍               | 675 kB 14.6 MB/s eta 0:00:01\r\u001b[K     |████████████████▋               | 686 kB 14.6 MB/s eta 0:00:01\r\u001b[K     |████████████████▉               | 696 kB 14.6 MB/s eta 0:00:01\r\u001b[K     |█████████████████               | 706 kB 14.6 MB/s eta 0:00:01\r\u001b[K     |█████████████████▎              | 716 kB 14.6 MB/s eta 0:00:01\r\u001b[K     |█████████████████▋              | 727 kB 14.6 MB/s eta 0:00:01\r\u001b[K     |█████████████████▉              | 737 kB 14.6 MB/s eta 0:00:01\r\u001b[K     |██████████████████              | 747 kB 14.6 MB/s eta 0:00:01\r\u001b[K     |██████████████████▎             | 757 kB 14.6 MB/s eta 0:00:01\r\u001b[K     |██████████████████▋             | 768 kB 14.6 MB/s eta 0:00:01\r\u001b[K     |██████████████████▉             | 778 kB 14.6 MB/s eta 0:00:01\r\u001b[K     |███████████████████             | 788 kB 14.6 MB/s eta 0:00:01\r\u001b[K     |███████████████████▎            | 798 kB 14.6 MB/s eta 0:00:01\r\u001b[K     |███████████████████▌            | 808 kB 14.6 MB/s eta 0:00:01\r\u001b[K     |███████████████████▉            | 819 kB 14.6 MB/s eta 0:00:01\r\u001b[K     |████████████████████            | 829 kB 14.6 MB/s eta 0:00:01\r\u001b[K     |████████████████████▎           | 839 kB 14.6 MB/s eta 0:00:01\r\u001b[K     |████████████████████▌           | 849 kB 14.6 MB/s eta 0:00:01\r\u001b[K     |████████████████████▉           | 860 kB 14.6 MB/s eta 0:00:01\r\u001b[K     |█████████████████████           | 870 kB 14.6 MB/s eta 0:00:01\r\u001b[K     |█████████████████████▎          | 880 kB 14.6 MB/s eta 0:00:01\r\u001b[K     |█████████████████████▌          | 890 kB 14.6 MB/s eta 0:00:01\r\u001b[K     |█████████████████████▉          | 901 kB 14.6 MB/s eta 0:00:01\r\u001b[K     |██████████████████████          | 911 kB 14.6 MB/s eta 0:00:01\r\u001b[K     |██████████████████████▎         | 921 kB 14.6 MB/s eta 0:00:01\r\u001b[K     |██████████████████████▌         | 931 kB 14.6 MB/s eta 0:00:01\r\u001b[K     |██████████████████████▊         | 942 kB 14.6 MB/s eta 0:00:01\r\u001b[K     |███████████████████████         | 952 kB 14.6 MB/s eta 0:00:01\r\u001b[K     |███████████████████████▎        | 962 kB 14.6 MB/s eta 0:00:01\r\u001b[K     |███████████████████████▌        | 972 kB 14.6 MB/s eta 0:00:01\r\u001b[K     |███████████████████████▊        | 983 kB 14.6 MB/s eta 0:00:01\r\u001b[K     |████████████████████████        | 993 kB 14.6 MB/s eta 0:00:01\r\u001b[K     |████████████████████████▎       | 1.0 MB 14.6 MB/s eta 0:00:01\r\u001b[K     |████████████████████████▌       | 1.0 MB 14.6 MB/s eta 0:00:01\r\u001b[K     |████████████████████████▊       | 1.0 MB 14.6 MB/s eta 0:00:01\r\u001b[K     |█████████████████████████       | 1.0 MB 14.6 MB/s eta 0:00:01\r\u001b[K     |█████████████████████████▎      | 1.0 MB 14.6 MB/s eta 0:00:01\r\u001b[K     |█████████████████████████▌      | 1.1 MB 14.6 MB/s eta 0:00:01\r\u001b[K     |█████████████████████████▊      | 1.1 MB 14.6 MB/s eta 0:00:01\r\u001b[K     |██████████████████████████      | 1.1 MB 14.6 MB/s eta 0:00:01\r\u001b[K     |██████████████████████████▎     | 1.1 MB 14.6 MB/s eta 0:00:01\r\u001b[K     |██████████████████████████▌     | 1.1 MB 14.6 MB/s eta 0:00:01\r\u001b[K     |██████████████████████████▊     | 1.1 MB 14.6 MB/s eta 0:00:01\r\u001b[K     |███████████████████████████     | 1.1 MB 14.6 MB/s eta 0:00:01\r\u001b[K     |███████████████████████████▎    | 1.1 MB 14.6 MB/s eta 0:00:01\r\u001b[K     |███████████████████████████▌    | 1.1 MB 14.6 MB/s eta 0:00:01\r\u001b[K     |███████████████████████████▊    | 1.1 MB 14.6 MB/s eta 0:00:01\r\u001b[K     |████████████████████████████    | 1.2 MB 14.6 MB/s eta 0:00:01\r\u001b[K     |████████████████████████████▏   | 1.2 MB 14.6 MB/s eta 0:00:01\r\u001b[K     |████████████████████████████▌   | 1.2 MB 14.6 MB/s eta 0:00:01\r\u001b[K     |████████████████████████████▊   | 1.2 MB 14.6 MB/s eta 0:00:01\r\u001b[K     |█████████████████████████████   | 1.2 MB 14.6 MB/s eta 0:00:01\r\u001b[K     |█████████████████████████████▏  | 1.2 MB 14.6 MB/s eta 0:00:01\r\u001b[K     |█████████████████████████████▌  | 1.2 MB 14.6 MB/s eta 0:00:01\r\u001b[K     |█████████████████████████████▊  | 1.2 MB 14.6 MB/s eta 0:00:01\r\u001b[K     |██████████████████████████████  | 1.2 MB 14.6 MB/s eta 0:00:01\r\u001b[K     |██████████████████████████████▏ | 1.2 MB 14.6 MB/s eta 0:00:01\r\u001b[K     |██████████████████████████████▌ | 1.3 MB 14.6 MB/s eta 0:00:01\r\u001b[K     |██████████████████████████████▊ | 1.3 MB 14.6 MB/s eta 0:00:01\r\u001b[K     |███████████████████████████████ | 1.3 MB 14.6 MB/s eta 0:00:01\r\u001b[K     |███████████████████████████████▏| 1.3 MB 14.6 MB/s eta 0:00:01\r\u001b[K     |███████████████████████████████▍| 1.3 MB 14.6 MB/s eta 0:00:01\r\u001b[K     |███████████████████████████████▊| 1.3 MB 14.6 MB/s eta 0:00:01\r\u001b[K     |████████████████████████████████| 1.3 MB 14.6 MB/s eta 0:00:01\r\u001b[K     |████████████████████████████████| 1.3 MB 14.6 MB/s \n",
            "\u001b[?25hInstalling collected packages: netron\n",
            "Successfully installed netron-5.1.5\n"
          ],
          "name": "stdout"
        }
      ]
    },
    {
      "cell_type": "code",
      "metadata": {
        "colab": {
          "base_uri": "https://localhost:8080/"
        },
        "id": "1KhDQmZsR_5X",
        "outputId": "99449d1c-03e8-440b-939e-b39f983b5f60"
      },
      "source": [
        "import netron\n",
        "netron.start('sequential_13.onnx')"
      ],
      "execution_count": null,
      "outputs": [
        {
          "output_type": "stream",
          "text": [
            "Serving 'sequential_13.onnx' at http://localhost:8081\n"
          ],
          "name": "stdout"
        },
        {
          "output_type": "execute_result",
          "data": {
            "text/plain": [
              "('localhost', 8081)"
            ]
          },
          "metadata": {},
          "execution_count": 11
        }
      ]
    },
    {
      "cell_type": "code",
      "metadata": {
        "id": "pqF4K0KLSX9l"
      },
      "source": [
        "session = rt.InferenceSession('sequential_13.onnx')"
      ],
      "execution_count": null,
      "outputs": []
    },
    {
      "cell_type": "code",
      "metadata": {
        "colab": {
          "base_uri": "https://localhost:8080/"
        },
        "id": "slP7tKImZdrG",
        "outputId": "de789c53-de5a-4d5c-b6a4-ad9459fe1b8a"
      },
      "source": [
        "import onnxruntime as rt\n",
        "from PIL import Image\n",
        "import numpy as np\n",
        "\n",
        "session = rt.InferenceSession('/content/drive/MyDrive/type_2021/sequential_opset10.onnx')\n",
        "fpaths = '/content/drive/MyDrive/type_2021/PET/2021_05_21_16_15_51_PE_PS.jpg'\n",
        "m = 224\n",
        "n = 224\n",
        "label = 'PET'\n",
        "img_array = []\n",
        "lab_array = []\n",
        "\n",
        "# print(fname)  \n",
        "img = Image.open(fpaths).convert('RGB')\n",
        "print(img.size)\n",
        "img = img.resize((m, n))\n",
        "print(img.size)\n",
        "img_array.append(np.asarray(img))\n",
        "#print(img_array.shape)\n",
        "lab_array.append(label)\n",
        "\n",
        "images = np.array(img_array)\n",
        "labels = np.array(lab_array)\n",
        "\n",
        "images = images.astype(np.float32) /255."
      ],
      "execution_count": null,
      "outputs": [
        {
          "output_type": "stream",
          "name": "stdout",
          "text": [
            "(640, 360)\n",
            "(224, 224)\n"
          ]
        }
      ]
    },
    {
      "cell_type": "code",
      "metadata": {
        "colab": {
          "base_uri": "https://localhost:8080/"
        },
        "id": "znMWLDQ9Xo8G",
        "outputId": "f31ee080-2a74-4b6e-f598-73d679dc90d0"
      },
      "source": [
        "input_name = session.get_inputs()[0].name\n",
        "print(input_name)\n",
        "pred_onnx = session.run(None, {input_name: images})[0]\n",
        "print(pred_onnx)"
      ],
      "execution_count": null,
      "outputs": [
        {
          "output_type": "stream",
          "name": "stdout",
          "text": [
            "input\n",
            "[[0.13188547 0.3941883  0.167947   0.17598496 0.1299942 ]]\n"
          ]
        }
      ]
    },
    {
      "cell_type": "code",
      "metadata": {
        "colab": {
          "base_uri": "https://localhost:8080/"
        },
        "id": "DkvkdFRdZ2VJ",
        "outputId": "917b9f5d-619f-4173-c6ae-5d0f48708ba3"
      },
      "source": [
        "label_name = session.get_outputs()[0]\n",
        "print(label_name)"
      ],
      "execution_count": null,
      "outputs": [
        {
          "output_type": "stream",
          "name": "stdout",
          "text": [
            "NodeArg(name='dense_37', type='tensor(float)', shape=['unk__1592', 5])\n"
          ]
        }
      ]
    },
    {
      "cell_type": "code",
      "metadata": {
        "colab": {
          "base_uri": "https://localhost:8080/"
        },
        "id": "ALgLY_MjaTpO",
        "outputId": "93be0b9f-b747-4477-c8e6-cceb4a345f43"
      },
      "source": [
        "pip uninstall onnxruntime"
      ],
      "execution_count": null,
      "outputs": [
        {
          "output_type": "stream",
          "name": "stdout",
          "text": [
            "Found existing installation: onnxruntime 1.4.0\n",
            "Uninstalling onnxruntime-1.4.0:\n",
            "  Would remove:\n",
            "    /usr/local/bin/onnxruntime_test\n",
            "    /usr/local/lib/python3.7/dist-packages/onnxruntime-1.4.0.dist-info/*\n",
            "    /usr/local/lib/python3.7/dist-packages/onnxruntime.libs/libgomp-f7e03b3e.so.1.0.0\n",
            "    /usr/local/lib/python3.7/dist-packages/onnxruntime/*\n",
            "Proceed (y/n)? n\n"
          ]
        }
      ]
    },
    {
      "cell_type": "code",
      "metadata": {
        "colab": {
          "base_uri": "https://localhost:8080/"
        },
        "id": "MeyrODc1eaOB",
        "outputId": "79b8f5c6-3cf8-451f-c7b9-eab294305b00"
      },
      "source": [
        "pip install onnxruntime-gpu"
      ],
      "execution_count": null,
      "outputs": [
        {
          "output_type": "stream",
          "text": [
            "Collecting onnxruntime-gpu\n",
            "  Downloading onnxruntime_gpu-1.8.1-cp37-cp37m-manylinux2014_x86_64.whl (31.3 MB)\n",
            "\u001b[K     |████████████████████████████████| 31.3 MB 220 kB/s \n",
            "\u001b[?25hRequirement already satisfied: flatbuffers in /usr/local/lib/python3.7/dist-packages (from onnxruntime-gpu) (1.12)\n",
            "Requirement already satisfied: numpy>=1.16.6 in /usr/local/lib/python3.7/dist-packages (from onnxruntime-gpu) (1.19.5)\n",
            "Requirement already satisfied: protobuf in /usr/local/lib/python3.7/dist-packages (from onnxruntime-gpu) (3.17.3)\n",
            "Requirement already satisfied: six>=1.9 in /usr/local/lib/python3.7/dist-packages (from protobuf->onnxruntime-gpu) (1.15.0)\n",
            "Installing collected packages: onnxruntime-gpu\n",
            "Successfully installed onnxruntime-gpu-1.8.1\n"
          ],
          "name": "stdout"
        }
      ]
    },
    {
      "cell_type": "code",
      "metadata": {
        "colab": {
          "base_uri": "https://localhost:8080/"
        },
        "id": "cKPMlRpWeiaL",
        "outputId": "9772c55d-3588-490a-e247-6f7f89cd921d"
      },
      "source": [
        "# gpu버전 테스트\n",
        "\n",
        "import onnxruntime as rt\n",
        "\n",
        "session = rt.InferenceSession('/content/drive/MyDrive/type_2021/sequential_13.onnx')\n",
        "\n",
        "from PIL import Image\n",
        "import numpy as np\n",
        "fpaths = '/content/drive/MyDrive/type_2021/PP/2021_05_21_17_33_36_PP_PP.jpg'\n",
        "m = 224\n",
        "n = 224\n",
        "label = 'PET'\n",
        "img_array = []\n",
        "lab_array = []\n",
        "\n",
        "# print(fname)  \n",
        "img = Image.open(fpaths).convert('RGB')\n",
        "print(img.size)\n",
        "img = img.resize((m, n))\n",
        "print(img.size)\n",
        "img_array.append(np.asarray(img))\n",
        "#print(img_array.shape)\n",
        "lab_array.append(label)\n",
        "\n",
        "images = np.array(img_array)\n",
        "labels = np.array(lab_array)\n",
        "\n",
        "images = images.astype(np.float32) /255.\n",
        "\n",
        "\n",
        "input_name = session.get_inputs()[0].name\n",
        "print(input_name)\n",
        "pred_onnx = session.run(None, {input_name: images})[0]\n",
        "print(pred_onnx)"
      ],
      "execution_count": null,
      "outputs": [
        {
          "output_type": "stream",
          "text": [
            "(640, 360)\n",
            "(224, 224)\n",
            "input\n",
            "[[0.33800977 0.11708349 0.23797771 0.1416414  0.16528763]]\n"
          ],
          "name": "stdout"
        }
      ]
    },
    {
      "cell_type": "code",
      "metadata": {
        "colab": {
          "base_uri": "https://localhost:8080/",
          "height": 35
        },
        "id": "iSFYcrWle6NY",
        "outputId": "bd4e2165-a8f7-4627-96cd-c24595eae265"
      },
      "source": [
        "rt.get_device()"
      ],
      "execution_count": null,
      "outputs": [
        {
          "output_type": "execute_result",
          "data": {
            "application/vnd.google.colaboratory.intrinsic+json": {
              "type": "string"
            },
            "text/plain": [
              "'CPU'"
            ]
          },
          "metadata": {},
          "execution_count": 5
        }
      ]
    },
    {
      "cell_type": "code",
      "metadata": {
        "id": "DFbUtiwbm4Ll"
      },
      "source": [
        "print()"
      ],
      "execution_count": null,
      "outputs": []
    },
    {
      "cell_type": "code",
      "metadata": {
        "colab": {
          "base_uri": "https://localhost:8080/"
        },
        "id": "OjA7tOQhugyy",
        "outputId": "ab9638dc-c664-47c4-bc4a-b40877a403d7"
      },
      "source": [
        "pip install onnx"
      ],
      "execution_count": null,
      "outputs": [
        {
          "output_type": "stream",
          "text": [
            "Collecting onnx\n",
            "  Downloading onnx-1.10.1-cp37-cp37m-manylinux_2_12_x86_64.manylinux2010_x86_64.whl (12.3 MB)\n",
            "\u001b[K     |████████████████████████████████| 12.3 MB 5.1 MB/s \n",
            "\u001b[?25hRequirement already satisfied: six in /usr/local/lib/python3.7/dist-packages (from onnx) (1.15.0)\n",
            "Requirement already satisfied: protobuf in /usr/local/lib/python3.7/dist-packages (from onnx) (3.17.3)\n",
            "Requirement already satisfied: typing-extensions>=3.6.2.1 in /usr/local/lib/python3.7/dist-packages (from onnx) (3.7.4.3)\n",
            "Requirement already satisfied: numpy>=1.16.6 in /usr/local/lib/python3.7/dist-packages (from onnx) (1.19.5)\n",
            "Installing collected packages: onnx\n",
            "Successfully installed onnx-1.10.1\n"
          ],
          "name": "stdout"
        }
      ]
    },
    {
      "cell_type": "code",
      "metadata": {
        "colab": {
          "base_uri": "https://localhost:8080/",
          "height": 362
        },
        "id": "-Bk8Gfv4uKIj",
        "outputId": "37ada80a-3969-41f5-927b-fa63e8c36ea7"
      },
      "source": [
        "# onnx version conversion\n",
        "import onnx\n",
        "\n",
        "# Load the model\n",
        "model = onnx.load(\"/content/drive/MyDrive/type_2021/sequential_13.onnx\")\n",
        "\n",
        "# Check that the IR is well formed\n",
        "onnx.checker.check_model(model)\n",
        "\n",
        "from onnx import version_converter\n",
        "\n",
        "# Convert to version 8\n",
        "converted_model = version_converter.convert_version(model, 8)\n",
        "\n",
        "# Save model\n",
        "onnx.save(converted_model, \"/content/drive/MyDrive/type_2021/sequential_10.onnx\")"
      ],
      "execution_count": null,
      "outputs": [
        {
          "output_type": "error",
          "ename": "IndexError",
          "evalue": "ignored",
          "traceback": [
            "\u001b[0;31m---------------------------------------------------------------------------\u001b[0m",
            "\u001b[0;31mIndexError\u001b[0m                                Traceback (most recent call last)",
            "\u001b[0;32m<ipython-input-9-90f8aa40f33c>\u001b[0m in \u001b[0;36m<module>\u001b[0;34m()\u001b[0m\n\u001b[1;32m     11\u001b[0m \u001b[0;34m\u001b[0m\u001b[0m\n\u001b[1;32m     12\u001b[0m \u001b[0;31m# Convert to version 8\u001b[0m\u001b[0;34m\u001b[0m\u001b[0;34m\u001b[0m\u001b[0;34m\u001b[0m\u001b[0m\n\u001b[0;32m---> 13\u001b[0;31m \u001b[0mconverted_model\u001b[0m \u001b[0;34m=\u001b[0m \u001b[0mversion_converter\u001b[0m\u001b[0;34m.\u001b[0m\u001b[0mconvert_version\u001b[0m\u001b[0;34m(\u001b[0m\u001b[0mmodel\u001b[0m\u001b[0;34m,\u001b[0m \u001b[0;36m8\u001b[0m\u001b[0;34m)\u001b[0m\u001b[0;34m\u001b[0m\u001b[0;34m\u001b[0m\u001b[0m\n\u001b[0m\u001b[1;32m     14\u001b[0m \u001b[0;34m\u001b[0m\u001b[0m\n\u001b[1;32m     15\u001b[0m \u001b[0;31m# Save model\u001b[0m\u001b[0;34m\u001b[0m\u001b[0;34m\u001b[0m\u001b[0;34m\u001b[0m\u001b[0m\n",
            "\u001b[0;32m/usr/local/lib/python3.7/dist-packages/onnx/version_converter.py\u001b[0m in \u001b[0;36mconvert_version\u001b[0;34m(model, target_version)\u001b[0m\n\u001b[1;32m    172\u001b[0m         \u001b[0;32mraise\u001b[0m \u001b[0mValueError\u001b[0m\u001b[0;34m(\u001b[0m\u001b[0;34m'VersionConverter only accepts int as target_version, incorrect type: {}'\u001b[0m\u001b[0;34m.\u001b[0m\u001b[0mformat\u001b[0m\u001b[0;34m(\u001b[0m\u001b[0mtype\u001b[0m\u001b[0;34m(\u001b[0m\u001b[0mtarget_version\u001b[0m\u001b[0;34m)\u001b[0m\u001b[0;34m)\u001b[0m\u001b[0;34m)\u001b[0m\u001b[0;34m\u001b[0m\u001b[0;34m\u001b[0m\u001b[0m\n\u001b[1;32m    173\u001b[0m     \u001b[0mmodel_str\u001b[0m \u001b[0;34m=\u001b[0m \u001b[0mmodel\u001b[0m\u001b[0;34m.\u001b[0m\u001b[0mSerializeToString\u001b[0m\u001b[0;34m(\u001b[0m\u001b[0;34m)\u001b[0m\u001b[0;34m\u001b[0m\u001b[0;34m\u001b[0m\u001b[0m\n\u001b[0;32m--> 174\u001b[0;31m     \u001b[0mconverted_model_str\u001b[0m \u001b[0;34m=\u001b[0m \u001b[0mC\u001b[0m\u001b[0;34m.\u001b[0m\u001b[0mconvert_version\u001b[0m\u001b[0;34m(\u001b[0m\u001b[0mmodel_str\u001b[0m\u001b[0;34m,\u001b[0m \u001b[0mtarget_version\u001b[0m\u001b[0;34m)\u001b[0m\u001b[0;34m\u001b[0m\u001b[0;34m\u001b[0m\u001b[0m\n\u001b[0m\u001b[1;32m    175\u001b[0m     \u001b[0;32mreturn\u001b[0m \u001b[0monnx\u001b[0m\u001b[0;34m.\u001b[0m\u001b[0mload_from_string\u001b[0m\u001b[0;34m(\u001b[0m\u001b[0mconverted_model_str\u001b[0m\u001b[0;34m)\u001b[0m\u001b[0;34m\u001b[0m\u001b[0;34m\u001b[0m\u001b[0m\n\u001b[1;32m    176\u001b[0m \u001b[0;34m\u001b[0m\u001b[0m\n",
            "\u001b[0;31mIndexError\u001b[0m: Input sequential_13/mobilenetv2_1.00_224/Conv1/Conv2D_weights_fused_bn is undefined!"
          ]
        }
      ]
    }
  ]
}